{
 "cells": [
  {
   "cell_type": "markdown",
   "metadata": {},
   "source": [
    "# <font color = \"Red\"><center>Data Science in R</center></font>"
   ]
  },
  {
   "cell_type": "markdown",
   "metadata": {},
   "source": [
    "<font size = \"3\">\n",
    "Date : 02/11/2020 <br>\n",
    "Q.No : Question 1\n",
    "</font>"
   ]
  },
  {
   "cell_type": "markdown",
   "metadata": {},
   "source": [
    "## Question :"
   ]
  },
  {
   "cell_type": "markdown",
   "metadata": {},
   "source": [
    "### <font color = \"brown\">Consider 2 vectors c(9,10,11,12) and c(13,14,15,16).Create a 4 by 2 matrix from these two vectors</font>"
   ]
  },
  {
   "cell_type": "markdown",
   "metadata": {},
   "source": [
    "## Answer :"
   ]
  },
  {
   "cell_type": "code",
   "execution_count": 1,
   "metadata": {},
   "outputs": [
    {
     "name": "stdout",
     "output_type": "stream",
     "text": [
      "     [,1] [,2]\n",
      "[1,]    9   13\n",
      "[2,]   10   14\n",
      "[3,]   11   15\n",
      "[4,]   12   16\n"
     ]
    }
   ],
   "source": [
    "#Matrix creation\n",
    "matrix<-matrix(c(c(9,10,11,12),c(13,14,15,16)),nrow = 4,ncol = 2) \n",
    "#combining two vertices and converting into 4 by 2 matrix\n",
    "print(matrix)"
   ]
  },
  {
   "cell_type": "code",
   "execution_count": 2,
   "metadata": {},
   "outputs": [
    {
     "data": {
      "text/html": [
       "<table>\n",
       "<tbody>\n",
       "\t<tr><td> 9</td><td>13</td></tr>\n",
       "\t<tr><td>10</td><td>14</td></tr>\n",
       "\t<tr><td>11</td><td>15</td></tr>\n",
       "\t<tr><td>12</td><td>16</td></tr>\n",
       "</tbody>\n",
       "</table>\n"
      ],
      "text/latex": [
       "\\begin{tabular}{ll}\n",
       "\t  9 & 13\\\\\n",
       "\t 10 & 14\\\\\n",
       "\t 11 & 15\\\\\n",
       "\t 12 & 16\\\\\n",
       "\\end{tabular}\n"
      ],
      "text/markdown": [
       "\n",
       "|  9 | 13 |\n",
       "| 10 | 14 |\n",
       "| 11 | 15 |\n",
       "| 12 | 16 |\n",
       "\n"
      ],
      "text/plain": [
       "     [,1] [,2]\n",
       "[1,]  9   13  \n",
       "[2,] 10   14  \n",
       "[3,] 11   15  \n",
       "[4,] 12   16  "
      ]
     },
     "metadata": {},
     "output_type": "display_data"
    }
   ],
   "source": [
    "matrix"
   ]
  },
  {
   "cell_type": "markdown",
   "metadata": {},
   "source": [
    "## Explanation :"
   ]
  },
  {
   "cell_type": "markdown",
   "metadata": {},
   "source": [
    "<ol><font size = 4 color = \"blue\">\n",
    "    <li>Matrix is a two dimensional data structure in R programming.</li><br>\n",
    "    <li>Matrix can be created using the matrix() function.</li><br>\n",
    "    <li>Dimension of the matrix can be defined by passing appropriate value for arguments nrow and ncol.</li>\n",
    "    </font>"
   ]
  },
  {
   "cell_type": "markdown",
   "metadata": {},
   "source": [
    "<font size = \"3\">\n",
    "<br> <br>\n",
    "<hr style=\"width:100%;height:2px\">\n",
    "E0119052<p style=\"text-align:right;\">Page 1</p>       "
   ]
  },
  {
   "cell_type": "code",
   "execution_count": null,
   "metadata": {},
   "outputs": [],
   "source": []
  },
  {
   "cell_type": "code",
   "execution_count": null,
   "metadata": {},
   "outputs": [],
   "source": [
    "b"
   ]
  },
  {
   "cell_type": "code",
   "execution_count": null,
   "metadata": {},
   "outputs": [],
   "source": []
  }
 ],
 "metadata": {
  "kernelspec": {
   "display_name": "R",
   "language": "R",
   "name": "ir"
  },
  "language_info": {
   "codemirror_mode": "r",
   "file_extension": ".r",
   "mimetype": "text/x-r-source",
   "name": "R",
   "pygments_lexer": "r",
   "version": "3.6.1"
  }
 },
 "nbformat": 4,
 "nbformat_minor": 4
}
