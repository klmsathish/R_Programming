{
 "cells": [
  {
   "cell_type": "code",
   "execution_count": 9,
   "metadata": {},
   "outputs": [
    {
     "name": "stdout",
     "output_type": "stream",
     "text": [
      "Enter a number:455\n",
      "[1] \"Square root of the given number : 21.3307290077015\"\n"
     ]
    }
   ],
   "source": [
    "#Prompting user for input\n",
    "x = c(as.integer(readline(\"Enter a number:\"))) \n",
    "#Defining a function for finding square root\n",
    "squareroot <- function(x){\n",
    "  if (x < 0){\n",
    "    print(NA)\n",
    "  }else{\n",
    "    print(paste(\"Square root of the given number :\",sqrt(x)))\n",
    "  }\n",
    "}\n",
    "squareroot(x)\n",
    "#Invoking the function"
   ]
  },
  {
   "cell_type": "code",
   "execution_count": 10,
   "metadata": {},
   "outputs": [
    {
     "name": "stdout",
     "output_type": "stream",
     "text": [
      "[1] \"letter\"\n",
      "[1] \"LETTER\"\n"
     ]
    }
   ],
   "source": [
    "a = \"letter\" \n",
    "b = \"LETTER\"\n",
    "print(a)          #printing letter\n",
    "print(b)          #printing LETTER"
   ]
  },
  {
   "cell_type": "code",
   "execution_count": 24,
   "metadata": {},
   "outputs": [
    {
     "name": "stdout",
     "output_type": "stream",
     "text": [
      "[1] 8 7 5\n"
     ]
    }
   ],
   "source": [
    "desc <- function(x){\n",
    "    x<-c(5,7,8)\n",
    "    }\n",
    "\n",
    "print(sort(desc(x),decreasing = TRUE))"
   ]
  },
  {
   "cell_type": "code",
   "execution_count": 38,
   "metadata": {},
   "outputs": [
    {
     "data": {
      "text/html": [
       "<ol class=list-inline>\n",
       "\t<li>459</li>\n",
       "\t<li>451</li>\n",
       "\t<li>587</li>\n",
       "\t<li>985</li>\n",
       "</ol>\n"
      ],
      "text/latex": [
       "\\begin{enumerate*}\n",
       "\\item 459\n",
       "\\item 451\n",
       "\\item 587\n",
       "\\item 985\n",
       "\\end{enumerate*}\n"
      ],
      "text/markdown": [
       "1. 459\n",
       "2. 451\n",
       "3. 587\n",
       "4. 985\n",
       "\n",
       "\n"
      ],
      "text/plain": [
       "[1] 459 451 587 985"
      ]
     },
     "metadata": {},
     "output_type": "display_data"
    }
   ],
   "source": [
    "#function\n",
    "nums<- function(vec)                 \n",
    "    {\n",
    "  #returning values greater then mean value\n",
    "  return(vec[vec>mean(vec)])         \n",
    "    }\n",
    "#Assigning values\n",
    "nums(c(78,12,459,175,451,178,587,24,985))           "
   ]
  },
  {
   "cell_type": "code",
   "execution_count": 53,
   "metadata": {},
   "outputs": [
    {
     "name": "stdout",
     "output_type": "stream",
     "text": [
      "1  2  3  4  5  6  7  8  9  10  11  2  3  4  5  6  7  8  9  10  11  12  3  4  5  6  7  8  9  10  11  12  13  "
     ]
    }
   ],
   "source": [
    "#Nested looping\n",
    "for(i in seq(1,3)){   \n",
    "  #for every single run in outside loop inside loop gets executed 10 times\n",
    "  for(j in seq(i,i+10L)){ \n",
    "    cat(j,\" \")\n",
    "\n",
    "  }\n",
    "}"
   ]
  },
  {
   "cell_type": "code",
   "execution_count": 54,
   "metadata": {},
   "outputs": [
    {
     "name": "stdout",
     "output_type": "stream",
     "text": [
      "   a  b f  d V5\n",
      "1  3  2 5 NA  5\n",
      "2  7 NA 2  3  3\n",
      "3 NA  9 5  4  9\n",
      "4  9  3 6 NA  6\n"
     ]
    }
   ],
   "source": [
    "#Creating a dataframe\n",
    "mydf = data.frame(a=c(3,7,NA, 9),b=c(2,NA,9,3),f=c(5,2,5,6),d=c(NA,3,4,NA))\n",
    "#Applying conditions as required to create 5th column\n",
    "mydf[,5] <- ifelse(is.na(mydf[,1]) & !is.na(mydf[,2]),mydf[,2],\n",
    "            ifelse(is.na(mydf[,2]) & !is.na(mydf[,4]),mydf[,4], mydf[,3]))\n",
    "\n",
    "print(mydf)"
   ]
  },
  {
   "cell_type": "code",
   "execution_count": 59,
   "metadata": {},
   "outputs": [
    {
     "name": "stdout",
     "output_type": "stream",
     "text": [
      "0 1 2 3 4 5 6 8 9 10 11 12 13 14 15 16 17 18 19 20 21 22 23 24 25 26 27 28 29 30 31 32 33 34 35 "
     ]
    }
   ],
   "source": [
    "#While looping\n",
    "x<-0\n",
    "while (x<=35) {\n",
    "  if(x==7){\n",
    "    x<-x+1\n",
    "  #Applying next function to bypass if x equals 7\n",
    "  next\n",
    "  }\n",
    "  cat(x,\"\")\n",
    "  x=x+1\n",
    "}\n"
   ]
  },
  {
   "cell_type": "code",
   "execution_count": 64,
   "metadata": {},
   "outputs": [
    {
     "data": {
      "text/html": [
       "'numeric'"
      ],
      "text/latex": [
       "'numeric'"
      ],
      "text/markdown": [
       "'numeric'"
      ],
      "text/plain": [
       "[1] \"numeric\""
      ]
     },
     "metadata": {},
     "output_type": "display_data"
    },
    {
     "data": {
      "text/html": [
       "'double'"
      ],
      "text/latex": [
       "'double'"
      ],
      "text/markdown": [
       "'double'"
      ],
      "text/plain": [
       "[1] \"double\""
      ]
     },
     "metadata": {},
     "output_type": "display_data"
    }
   ],
   "source": [
    "#Variable\n",
    "num<-458\n",
    "class(num)   #It gives numeric\n",
    "typeof(num)  #It gives double"
   ]
  },
  {
   "cell_type": "code",
   "execution_count": 65,
   "metadata": {},
   "outputs": [
    {
     "data": {
      "text/html": [
       "4"
      ],
      "text/latex": [
       "4"
      ],
      "text/markdown": [
       "4"
      ],
      "text/plain": [
       "[1] 4"
      ]
     },
     "metadata": {},
     "output_type": "display_data"
    },
    {
     "data": {
      "text/html": [
       "6"
      ],
      "text/latex": [
       "6"
      ],
      "text/markdown": [
       "6"
      ],
      "text/plain": [
       "[1] 6"
      ]
     },
     "metadata": {},
     "output_type": "display_data"
    },
    {
     "data": {
      "text/html": [
       "2"
      ],
      "text/latex": [
       "2"
      ],
      "text/markdown": [
       "2"
      ],
      "text/plain": [
       "[1] 2"
      ]
     },
     "metadata": {},
     "output_type": "display_data"
    }
   ],
   "source": [
    "#Keyword Argument\n",
    "keyword<-function(a,b){\n",
    "  return(a+b)\n",
    "}\n",
    "keyword(b=1,a=3)\n",
    "\n",
    "#default Argument\n",
    "def <- function(a=0) {\n",
    "  return(a+1)  \n",
    "}\n",
    "def(5)\n",
    "\n",
    "#required Argument\n",
    "norma<-function(x){\n",
    "  return(x+1)\n",
    "}\n",
    "norma(1)"
   ]
  },
  {
   "cell_type": "code",
   "execution_count": 75,
   "metadata": {},
   "outputs": [
    {
     "name": "stdout",
     "output_type": "stream",
     "text": [
      "[1] \"After deleting Row 2\"\n"
     ]
    },
    {
     "data": {
      "text/html": [
       "<table>\n",
       "<thead><tr><th></th><th scope=col>Name</th><th scope=col>Subject</th><th scope=col>Score</th><th scope=col>Rank</th></tr></thead>\n",
       "<tbody>\n",
       "\t<tr><th scope=row>1</th><td>Jhon                     </td><td>Data Science             </td><td>56                       </td><td>5                        </td></tr>\n",
       "\t<tr><th scope=row>3</th><td>Suzan                    </td><td>Deep Learning            </td><td>86                       </td><td>6                        </td></tr>\n",
       "\t<tr><th scope=row>4</th><td>Abhinav                  </td><td>Data Structures          </td><td>96                       </td><td>7                        </td></tr>\n",
       "\t<tr><th scope=row>5</th><td>Brain                    </td><td>Database Managemnt System</td><td>73                       </td><td>9                        </td></tr>\n",
       "\t<tr><th scope=row>6</th><td>Emma                     </td><td>Operating Systems        </td><td>87                       </td><td>2                        </td></tr>\n",
       "\t<tr><th scope=row>7</th><td>David                    </td><td>Python Programming       </td><td>47                       </td><td>1                        </td></tr>\n",
       "</tbody>\n",
       "</table>\n"
      ],
      "text/latex": [
       "\\begin{tabular}{r|llll}\n",
       "  & Name & Subject & Score & Rank\\\\\n",
       "\\hline\n",
       "\t1 & Jhon                      & Data Science              & 56                        & 5                        \\\\\n",
       "\t3 & Suzan                     & Deep Learning             & 86                        & 6                        \\\\\n",
       "\t4 & Abhinav                   & Data Structures           & 96                        & 7                        \\\\\n",
       "\t5 & Brain                     & Database Managemnt System & 73                        & 9                        \\\\\n",
       "\t6 & Emma                      & Operating Systems         & 87                        & 2                        \\\\\n",
       "\t7 & David                     & Python Programming        & 47                        & 1                        \\\\\n",
       "\\end{tabular}\n"
      ],
      "text/markdown": [
       "\n",
       "| <!--/--> | Name | Subject | Score | Rank |\n",
       "|---|---|---|---|---|\n",
       "| 1 | Jhon                      | Data Science              | 56                        | 5                         |\n",
       "| 3 | Suzan                     | Deep Learning             | 86                        | 6                         |\n",
       "| 4 | Abhinav                   | Data Structures           | 96                        | 7                         |\n",
       "| 5 | Brain                     | Database Managemnt System | 73                        | 9                         |\n",
       "| 6 | Emma                      | Operating Systems         | 87                        | 2                         |\n",
       "| 7 | David                     | Python Programming        | 47                        | 1                         |\n",
       "\n"
      ],
      "text/plain": [
       "  Name    Subject                   Score Rank\n",
       "1 Jhon    Data Science              56    5   \n",
       "3 Suzan   Deep Learning             86    6   \n",
       "4 Abhinav Data Structures           96    7   \n",
       "5 Brain   Database Managemnt System 73    9   \n",
       "6 Emma    Operating Systems         87    2   \n",
       "7 David   Python Programming        47    1   "
      ]
     },
     "metadata": {},
     "output_type": "display_data"
    },
    {
     "name": "stdout",
     "output_type": "stream",
     "text": [
      "[1] \"After Deleting Subject Column\"\n"
     ]
    },
    {
     "data": {
      "text/html": [
       "<table>\n",
       "<thead><tr><th scope=col>Name</th><th scope=col>Score</th><th scope=col>Rank</th></tr></thead>\n",
       "<tbody>\n",
       "\t<tr><td>Jhon   </td><td>56     </td><td>5      </td></tr>\n",
       "\t<tr><td>Lee    </td><td>76     </td><td>8      </td></tr>\n",
       "\t<tr><td>Suzan  </td><td>86     </td><td>6      </td></tr>\n",
       "\t<tr><td>Abhinav</td><td>96     </td><td>7      </td></tr>\n",
       "\t<tr><td>Brain  </td><td>73     </td><td>9      </td></tr>\n",
       "\t<tr><td>Emma   </td><td>87     </td><td>2      </td></tr>\n",
       "\t<tr><td>David  </td><td>47     </td><td>1      </td></tr>\n",
       "</tbody>\n",
       "</table>\n"
      ],
      "text/latex": [
       "\\begin{tabular}{r|lll}\n",
       " Name & Score & Rank\\\\\n",
       "\\hline\n",
       "\t Jhon    & 56      & 5      \\\\\n",
       "\t Lee     & 76      & 8      \\\\\n",
       "\t Suzan   & 86      & 6      \\\\\n",
       "\t Abhinav & 96      & 7      \\\\\n",
       "\t Brain   & 73      & 9      \\\\\n",
       "\t Emma    & 87      & 2      \\\\\n",
       "\t David   & 47      & 1      \\\\\n",
       "\\end{tabular}\n"
      ],
      "text/markdown": [
       "\n",
       "| Name | Score | Rank |\n",
       "|---|---|---|\n",
       "| Jhon    | 56      | 5       |\n",
       "| Lee     | 76      | 8       |\n",
       "| Suzan   | 86      | 6       |\n",
       "| Abhinav | 96      | 7       |\n",
       "| Brain   | 73      | 9       |\n",
       "| Emma    | 87      | 2       |\n",
       "| David   | 47      | 1       |\n",
       "\n"
      ],
      "text/plain": [
       "  Name    Score Rank\n",
       "1 Jhon    56    5   \n",
       "2 Lee     76    8   \n",
       "3 Suzan   86    6   \n",
       "4 Abhinav 96    7   \n",
       "5 Brain   73    9   \n",
       "6 Emma    87    2   \n",
       "7 David   47    1   "
      ]
     },
     "metadata": {},
     "output_type": "display_data"
    }
   ],
   "source": [
    "#Dataframe creation\n",
    "Name <- c(\"Jhon\", \"Lee\", \"Suzan\", \"Abhinav\", \"Brain\", \"Emma\", \"David\") \n",
    "#Variables\n",
    "Subject <- c(\"Data Science\", \"Machine Learning\", \"Deep Learning\", \"Data Structures\", \n",
    "            \"Database Managemnt System\", \"Operating Systems\", \"Python Programming\") \n",
    "\n",
    "Score <- c(56, 76, 86, 96, 73, 87, 47) \n",
    "\n",
    "Rank <- c(5,8,6,7,9,2,1) \n",
    "\n",
    "df = data.frame(Name,Subject,Score,Rank)\n",
    "del_row_df<-df[-c(2),] # row deletion\n",
    "del_col_df<-within(df, rm(\"Subject\")) #Colmn deletion\n",
    "print(\"After deleting Row 2\")\n",
    "del_row_df\n",
    "print(\"After Deleting Subject Column\")\n",
    "del_col_df\n"
   ]
  },
  {
   "cell_type": "code",
   "execution_count": null,
   "metadata": {},
   "outputs": [],
   "source": []
  },
  {
   "cell_type": "code",
   "execution_count": null,
   "metadata": {},
   "outputs": [],
   "source": []
  }
 ],
 "metadata": {
  "kernelspec": {
   "display_name": "R",
   "language": "R",
   "name": "ir"
  },
  "language_info": {
   "codemirror_mode": "r",
   "file_extension": ".r",
   "mimetype": "text/x-r-source",
   "name": "R",
   "pygments_lexer": "r",
   "version": "3.6.1"
  }
 },
 "nbformat": 4,
 "nbformat_minor": 4
}
