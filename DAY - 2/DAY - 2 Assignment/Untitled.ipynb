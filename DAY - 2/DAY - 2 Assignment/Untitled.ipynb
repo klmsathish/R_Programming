{
 "cells": [
  {
   "cell_type": "code",
   "execution_count": 9,
   "metadata": {},
   "outputs": [
    {
     "name": "stdout",
     "output_type": "stream",
     "text": [
      "Enter a number:455\n",
      "[1] \"Square root of the given number : 21.3307290077015\"\n"
     ]
    }
   ],
   "source": [
    "#Prompting user for input\n",
    "x = c(as.integer(readline(\"Enter a number:\"))) \n",
    "#Defining a function for finding square root\n",
    "squareroot <- function(x){\n",
    "  if (x < 0){\n",
    "    print(NA)\n",
    "  }else{\n",
    "    print(paste(\"Square root of the given number :\",sqrt(x)))\n",
    "  }\n",
    "}\n",
    "squareroot(x)\n",
    "#Invoking the function"
   ]
  },
  {
   "cell_type": "code",
   "execution_count": 10,
   "metadata": {},
   "outputs": [
    {
     "name": "stdout",
     "output_type": "stream",
     "text": [
      "[1] \"letter\"\n",
      "[1] \"LETTER\"\n"
     ]
    }
   ],
   "source": [
    "a = \"letter\" \n",
    "b = \"LETTER\"\n",
    "print(a)          #printing letter\n",
    "print(b)          #printing LETTER"
   ]
  },
  {
   "cell_type": "code",
   "execution_count": null,
   "metadata": {},
   "outputs": [],
   "source": []
  }
 ],
 "metadata": {
  "kernelspec": {
   "display_name": "R",
   "language": "R",
   "name": "ir"
  },
  "language_info": {
   "codemirror_mode": "r",
   "file_extension": ".r",
   "mimetype": "text/x-r-source",
   "name": "R",
   "pygments_lexer": "r",
   "version": "3.6.1"
  }
 },
 "nbformat": 4,
 "nbformat_minor": 4
}
