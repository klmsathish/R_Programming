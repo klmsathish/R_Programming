{
 "cells": [
  {
   "cell_type": "markdown",
   "metadata": {},
   "source": [
    "<center><font color = \"Red\" size = 5>K - Means Clustering</font></center>"
   ]
  },
  {
   "cell_type": "markdown",
   "metadata": {},
   "source": [
    "<center><font size = 4 color = \"blue\">K-means clustering is one of the simplest and popular <b>UNSUPERVISED</b> machine learning algorithms.</center><br>\n"
   ]
  },
  {
   "cell_type": "markdown",
   "metadata": {},
   "source": [
    "<font size = 4.5><b>Introduction</font><br></b>\n",
    "<font size = 3><ul>\n",
    "<li>K - Means Clustering make inferences from data using only input vectors without labelled outcomes.<br></li><br>\n",
    "<li>k - means clustering makes partition of \"n\" observations into \"k\" clusters in which each observation belongs to the cluster with the nearest mean<br><br>\n",
    "<li>A cluster refers to a collection of data points aggregated together because of certain similarities</li>\n",
    "    </ul></font>"
   ]
  },
  {
   "cell_type": "markdown",
   "metadata": {},
   "source": [
    "### Applications Of K - Means Clustering"
   ]
  },
  {
   "cell_type": "markdown",
   "metadata": {},
   "source": [
    "<ul><li><font size = 3 >Academic performance - Based on the scores, students are categorized into grades like A, B, or C.</li><br><br>\n",
    "<li>Search engines - Clustering forms a backbone of search engines. When a search is performed, the search results need to be grouped, and the search engines use clustering to do this. </li><br>\n",
    "<li>Customer segmentation - It helps marketers improve their customer base, work on target areas, and segment customers based on purchase history, interests, or activity monitoring. </li></font>"
   ]
  },
  {
   "cell_type": "markdown",
   "metadata": {},
   "source": [
    "<font size = 4><b>Example For clustering <br></font></b>\n",
    "\n",
    "\n",
    "    A bank wants to give credit card offers to its customers.Currently, they look at the details of each customer and based on this information, decide which offer should be given to which customer.The bank will have millions of customers.\n",
    "        \n",
    "    So here clustering plays a vital role as segregating customers into different groups. For instance, the bank can group the customers based on their income:\n",
    "\n",
    "\n",
    "![test](https://cdn.analyticsvidhya.com/wp-content/uploads/2019/08/Screenshot-from-2019-08-07-15-19-27.png)"
   ]
  },
  {
   "cell_type": "markdown",
   "metadata": {},
   "source": [
    "### Steps to perform K - Means Clustering\n",
    "   <ol>\n",
    "    <li>Specify the number of clusters <b>(K)</b> to be created </li><br>\n",
    "    <li>Select randomly <b>(K)</b> objects from the dataset as the initial cluster centroids</li><br>\n",
    "   <li>Assign each observation to their closest centroid, based on the Euclidean distance between the object and the centroid</li><br>\n",
    "<li>For each of the k clusters update the cluster centroid by calculating the new mean values of all the data points in the cluster.</li><br>\n",
    "<li>Iteratively minimize the total within sum of square. That is, iterating steps 3 and 4 until the cluster assignments stop changing</li><br> "
   ]
  },
  {
   "cell_type": "markdown",
   "metadata": {},
   "source": [
    "### Loading the Dataset"
   ]
  },
  {
   "cell_type": "code",
   "execution_count": 24,
   "metadata": {},
   "outputs": [
    {
     "data": {
      "text/html": [
       "<table>\n",
       "<thead><tr><th></th><th scope=col>Murder</th><th scope=col>Assault</th><th scope=col>UrbanPop</th><th scope=col>Rape</th></tr></thead>\n",
       "<tbody>\n",
       "\t<tr><th scope=row>Alabama</th><td>13.2</td><td>236 </td><td>58  </td><td>21.2</td></tr>\n",
       "\t<tr><th scope=row>Alaska</th><td>10.0</td><td>263 </td><td>48  </td><td>44.5</td></tr>\n",
       "\t<tr><th scope=row>Arizona</th><td> 8.1</td><td>294 </td><td>80  </td><td>31.0</td></tr>\n",
       "\t<tr><th scope=row>Arkansas</th><td> 8.8</td><td>190 </td><td>50  </td><td>19.5</td></tr>\n",
       "\t<tr><th scope=row>California</th><td> 9.0</td><td>276 </td><td>91  </td><td>40.6</td></tr>\n",
       "\t<tr><th scope=row>Colorado</th><td> 7.9</td><td>204 </td><td>78  </td><td>38.7</td></tr>\n",
       "\t<tr><th scope=row>Connecticut</th><td> 3.3</td><td>110 </td><td>77  </td><td>11.1</td></tr>\n",
       "\t<tr><th scope=row>Delaware</th><td> 5.9</td><td>238 </td><td>72  </td><td>15.8</td></tr>\n",
       "\t<tr><th scope=row>Florida</th><td>15.4</td><td>335 </td><td>80  </td><td>31.9</td></tr>\n",
       "\t<tr><th scope=row>Georgia</th><td>17.4</td><td>211 </td><td>60  </td><td>25.8</td></tr>\n",
       "\t<tr><th scope=row>Hawaii</th><td> 5.3</td><td> 46 </td><td>83  </td><td>20.2</td></tr>\n",
       "\t<tr><th scope=row>Idaho</th><td> 2.6</td><td>120 </td><td>54  </td><td>14.2</td></tr>\n",
       "\t<tr><th scope=row>Illinois</th><td>10.4</td><td>249 </td><td>83  </td><td>24.0</td></tr>\n",
       "\t<tr><th scope=row>Indiana</th><td> 7.2</td><td>113 </td><td>65  </td><td>21.0</td></tr>\n",
       "\t<tr><th scope=row>Iowa</th><td> 2.2</td><td> 56 </td><td>57  </td><td>11.3</td></tr>\n",
       "\t<tr><th scope=row>Kansas</th><td> 6.0</td><td>115 </td><td>66  </td><td>18.0</td></tr>\n",
       "\t<tr><th scope=row>Kentucky</th><td> 9.7</td><td>109 </td><td>52  </td><td>16.3</td></tr>\n",
       "\t<tr><th scope=row>Louisiana</th><td>15.4</td><td>249 </td><td>66  </td><td>22.2</td></tr>\n",
       "\t<tr><th scope=row>Maine</th><td> 2.1</td><td> 83 </td><td>51  </td><td> 7.8</td></tr>\n",
       "\t<tr><th scope=row>Maryland</th><td>11.3</td><td>300 </td><td>67  </td><td>27.8</td></tr>\n",
       "\t<tr><th scope=row>Massachusetts</th><td> 4.4</td><td>149 </td><td>85  </td><td>16.3</td></tr>\n",
       "\t<tr><th scope=row>Michigan</th><td>12.1</td><td>255 </td><td>74  </td><td>35.1</td></tr>\n",
       "\t<tr><th scope=row>Minnesota</th><td> 2.7</td><td> 72 </td><td>66  </td><td>14.9</td></tr>\n",
       "\t<tr><th scope=row>Mississippi</th><td>16.1</td><td>259 </td><td>44  </td><td>17.1</td></tr>\n",
       "\t<tr><th scope=row>Missouri</th><td> 9.0</td><td>178 </td><td>70  </td><td>28.2</td></tr>\n",
       "\t<tr><th scope=row>Montana</th><td> 6.0</td><td>109 </td><td>53  </td><td>16.4</td></tr>\n",
       "\t<tr><th scope=row>Nebraska</th><td> 4.3</td><td>102 </td><td>62  </td><td>16.5</td></tr>\n",
       "\t<tr><th scope=row>Nevada</th><td>12.2</td><td>252 </td><td>81  </td><td>46.0</td></tr>\n",
       "\t<tr><th scope=row>New Hampshire</th><td> 2.1</td><td> 57 </td><td>56  </td><td> 9.5</td></tr>\n",
       "\t<tr><th scope=row>New Jersey</th><td> 7.4</td><td>159 </td><td>89  </td><td>18.8</td></tr>\n",
       "\t<tr><th scope=row>New Mexico</th><td>11.4</td><td>285 </td><td>70  </td><td>32.1</td></tr>\n",
       "\t<tr><th scope=row>New York</th><td>11.1</td><td>254 </td><td>86  </td><td>26.1</td></tr>\n",
       "\t<tr><th scope=row>North Carolina</th><td>13.0</td><td>337 </td><td>45  </td><td>16.1</td></tr>\n",
       "\t<tr><th scope=row>North Dakota</th><td> 0.8</td><td> 45 </td><td>44  </td><td> 7.3</td></tr>\n",
       "\t<tr><th scope=row>Ohio</th><td> 7.3</td><td>120 </td><td>75  </td><td>21.4</td></tr>\n",
       "\t<tr><th scope=row>Oklahoma</th><td> 6.6</td><td>151 </td><td>68  </td><td>20.0</td></tr>\n",
       "\t<tr><th scope=row>Oregon</th><td> 4.9</td><td>159 </td><td>67  </td><td>29.3</td></tr>\n",
       "\t<tr><th scope=row>Pennsylvania</th><td> 6.3</td><td>106 </td><td>72  </td><td>14.9</td></tr>\n",
       "\t<tr><th scope=row>Rhode Island</th><td> 3.4</td><td>174 </td><td>87  </td><td> 8.3</td></tr>\n",
       "\t<tr><th scope=row>South Carolina</th><td>14.4</td><td>279 </td><td>48  </td><td>22.5</td></tr>\n",
       "\t<tr><th scope=row>South Dakota</th><td> 3.8</td><td> 86 </td><td>45  </td><td>12.8</td></tr>\n",
       "\t<tr><th scope=row>Tennessee</th><td>13.2</td><td>188 </td><td>59  </td><td>26.9</td></tr>\n",
       "\t<tr><th scope=row>Texas</th><td>12.7</td><td>201 </td><td>80  </td><td>25.5</td></tr>\n",
       "\t<tr><th scope=row>Utah</th><td> 3.2</td><td>120 </td><td>80  </td><td>22.9</td></tr>\n",
       "\t<tr><th scope=row>Vermont</th><td> 2.2</td><td> 48 </td><td>32  </td><td>11.2</td></tr>\n",
       "\t<tr><th scope=row>Virginia</th><td> 8.5</td><td>156 </td><td>63  </td><td>20.7</td></tr>\n",
       "\t<tr><th scope=row>Washington</th><td> 4.0</td><td>145 </td><td>73  </td><td>26.2</td></tr>\n",
       "\t<tr><th scope=row>West Virginia</th><td> 5.7</td><td> 81 </td><td>39  </td><td> 9.3</td></tr>\n",
       "\t<tr><th scope=row>Wisconsin</th><td> 2.6</td><td> 53 </td><td>66  </td><td>10.8</td></tr>\n",
       "\t<tr><th scope=row>Wyoming</th><td> 6.8</td><td>161 </td><td>60  </td><td>15.6</td></tr>\n",
       "</tbody>\n",
       "</table>\n"
      ],
      "text/latex": [
       "\\begin{tabular}{r|llll}\n",
       "  & Murder & Assault & UrbanPop & Rape\\\\\n",
       "\\hline\n",
       "\tAlabama & 13.2 & 236  & 58   & 21.2\\\\\n",
       "\tAlaska & 10.0 & 263  & 48   & 44.5\\\\\n",
       "\tArizona &  8.1 & 294  & 80   & 31.0\\\\\n",
       "\tArkansas &  8.8 & 190  & 50   & 19.5\\\\\n",
       "\tCalifornia &  9.0 & 276  & 91   & 40.6\\\\\n",
       "\tColorado &  7.9 & 204  & 78   & 38.7\\\\\n",
       "\tConnecticut &  3.3 & 110  & 77   & 11.1\\\\\n",
       "\tDelaware &  5.9 & 238  & 72   & 15.8\\\\\n",
       "\tFlorida & 15.4 & 335  & 80   & 31.9\\\\\n",
       "\tGeorgia & 17.4 & 211  & 60   & 25.8\\\\\n",
       "\tHawaii &  5.3 &  46  & 83   & 20.2\\\\\n",
       "\tIdaho &  2.6 & 120  & 54   & 14.2\\\\\n",
       "\tIllinois & 10.4 & 249  & 83   & 24.0\\\\\n",
       "\tIndiana &  7.2 & 113  & 65   & 21.0\\\\\n",
       "\tIowa &  2.2 &  56  & 57   & 11.3\\\\\n",
       "\tKansas &  6.0 & 115  & 66   & 18.0\\\\\n",
       "\tKentucky &  9.7 & 109  & 52   & 16.3\\\\\n",
       "\tLouisiana & 15.4 & 249  & 66   & 22.2\\\\\n",
       "\tMaine &  2.1 &  83  & 51   &  7.8\\\\\n",
       "\tMaryland & 11.3 & 300  & 67   & 27.8\\\\\n",
       "\tMassachusetts &  4.4 & 149  & 85   & 16.3\\\\\n",
       "\tMichigan & 12.1 & 255  & 74   & 35.1\\\\\n",
       "\tMinnesota &  2.7 &  72  & 66   & 14.9\\\\\n",
       "\tMississippi & 16.1 & 259  & 44   & 17.1\\\\\n",
       "\tMissouri &  9.0 & 178  & 70   & 28.2\\\\\n",
       "\tMontana &  6.0 & 109  & 53   & 16.4\\\\\n",
       "\tNebraska &  4.3 & 102  & 62   & 16.5\\\\\n",
       "\tNevada & 12.2 & 252  & 81   & 46.0\\\\\n",
       "\tNew Hampshire &  2.1 &  57  & 56   &  9.5\\\\\n",
       "\tNew Jersey &  7.4 & 159  & 89   & 18.8\\\\\n",
       "\tNew Mexico & 11.4 & 285  & 70   & 32.1\\\\\n",
       "\tNew York & 11.1 & 254  & 86   & 26.1\\\\\n",
       "\tNorth Carolina & 13.0 & 337  & 45   & 16.1\\\\\n",
       "\tNorth Dakota &  0.8 &  45  & 44   &  7.3\\\\\n",
       "\tOhio &  7.3 & 120  & 75   & 21.4\\\\\n",
       "\tOklahoma &  6.6 & 151  & 68   & 20.0\\\\\n",
       "\tOregon &  4.9 & 159  & 67   & 29.3\\\\\n",
       "\tPennsylvania &  6.3 & 106  & 72   & 14.9\\\\\n",
       "\tRhode Island &  3.4 & 174  & 87   &  8.3\\\\\n",
       "\tSouth Carolina & 14.4 & 279  & 48   & 22.5\\\\\n",
       "\tSouth Dakota &  3.8 &  86  & 45   & 12.8\\\\\n",
       "\tTennessee & 13.2 & 188  & 59   & 26.9\\\\\n",
       "\tTexas & 12.7 & 201  & 80   & 25.5\\\\\n",
       "\tUtah &  3.2 & 120  & 80   & 22.9\\\\\n",
       "\tVermont &  2.2 &  48  & 32   & 11.2\\\\\n",
       "\tVirginia &  8.5 & 156  & 63   & 20.7\\\\\n",
       "\tWashington &  4.0 & 145  & 73   & 26.2\\\\\n",
       "\tWest Virginia &  5.7 &  81  & 39   &  9.3\\\\\n",
       "\tWisconsin &  2.6 &  53  & 66   & 10.8\\\\\n",
       "\tWyoming &  6.8 & 161  & 60   & 15.6\\\\\n",
       "\\end{tabular}\n"
      ],
      "text/markdown": [
       "\n",
       "| <!--/--> | Murder | Assault | UrbanPop | Rape |\n",
       "|---|---|---|---|---|\n",
       "| Alabama | 13.2 | 236  | 58   | 21.2 |\n",
       "| Alaska | 10.0 | 263  | 48   | 44.5 |\n",
       "| Arizona |  8.1 | 294  | 80   | 31.0 |\n",
       "| Arkansas |  8.8 | 190  | 50   | 19.5 |\n",
       "| California |  9.0 | 276  | 91   | 40.6 |\n",
       "| Colorado |  7.9 | 204  | 78   | 38.7 |\n",
       "| Connecticut |  3.3 | 110  | 77   | 11.1 |\n",
       "| Delaware |  5.9 | 238  | 72   | 15.8 |\n",
       "| Florida | 15.4 | 335  | 80   | 31.9 |\n",
       "| Georgia | 17.4 | 211  | 60   | 25.8 |\n",
       "| Hawaii |  5.3 |  46  | 83   | 20.2 |\n",
       "| Idaho |  2.6 | 120  | 54   | 14.2 |\n",
       "| Illinois | 10.4 | 249  | 83   | 24.0 |\n",
       "| Indiana |  7.2 | 113  | 65   | 21.0 |\n",
       "| Iowa |  2.2 |  56  | 57   | 11.3 |\n",
       "| Kansas |  6.0 | 115  | 66   | 18.0 |\n",
       "| Kentucky |  9.7 | 109  | 52   | 16.3 |\n",
       "| Louisiana | 15.4 | 249  | 66   | 22.2 |\n",
       "| Maine |  2.1 |  83  | 51   |  7.8 |\n",
       "| Maryland | 11.3 | 300  | 67   | 27.8 |\n",
       "| Massachusetts |  4.4 | 149  | 85   | 16.3 |\n",
       "| Michigan | 12.1 | 255  | 74   | 35.1 |\n",
       "| Minnesota |  2.7 |  72  | 66   | 14.9 |\n",
       "| Mississippi | 16.1 | 259  | 44   | 17.1 |\n",
       "| Missouri |  9.0 | 178  | 70   | 28.2 |\n",
       "| Montana |  6.0 | 109  | 53   | 16.4 |\n",
       "| Nebraska |  4.3 | 102  | 62   | 16.5 |\n",
       "| Nevada | 12.2 | 252  | 81   | 46.0 |\n",
       "| New Hampshire |  2.1 |  57  | 56   |  9.5 |\n",
       "| New Jersey |  7.4 | 159  | 89   | 18.8 |\n",
       "| New Mexico | 11.4 | 285  | 70   | 32.1 |\n",
       "| New York | 11.1 | 254  | 86   | 26.1 |\n",
       "| North Carolina | 13.0 | 337  | 45   | 16.1 |\n",
       "| North Dakota |  0.8 |  45  | 44   |  7.3 |\n",
       "| Ohio |  7.3 | 120  | 75   | 21.4 |\n",
       "| Oklahoma |  6.6 | 151  | 68   | 20.0 |\n",
       "| Oregon |  4.9 | 159  | 67   | 29.3 |\n",
       "| Pennsylvania |  6.3 | 106  | 72   | 14.9 |\n",
       "| Rhode Island |  3.4 | 174  | 87   |  8.3 |\n",
       "| South Carolina | 14.4 | 279  | 48   | 22.5 |\n",
       "| South Dakota |  3.8 |  86  | 45   | 12.8 |\n",
       "| Tennessee | 13.2 | 188  | 59   | 26.9 |\n",
       "| Texas | 12.7 | 201  | 80   | 25.5 |\n",
       "| Utah |  3.2 | 120  | 80   | 22.9 |\n",
       "| Vermont |  2.2 |  48  | 32   | 11.2 |\n",
       "| Virginia |  8.5 | 156  | 63   | 20.7 |\n",
       "| Washington |  4.0 | 145  | 73   | 26.2 |\n",
       "| West Virginia |  5.7 |  81  | 39   |  9.3 |\n",
       "| Wisconsin |  2.6 |  53  | 66   | 10.8 |\n",
       "| Wyoming |  6.8 | 161  | 60   | 15.6 |\n",
       "\n"
      ],
      "text/plain": [
       "               Murder Assault UrbanPop Rape\n",
       "Alabama        13.2   236     58       21.2\n",
       "Alaska         10.0   263     48       44.5\n",
       "Arizona         8.1   294     80       31.0\n",
       "Arkansas        8.8   190     50       19.5\n",
       "California      9.0   276     91       40.6\n",
       "Colorado        7.9   204     78       38.7\n",
       "Connecticut     3.3   110     77       11.1\n",
       "Delaware        5.9   238     72       15.8\n",
       "Florida        15.4   335     80       31.9\n",
       "Georgia        17.4   211     60       25.8\n",
       "Hawaii          5.3    46     83       20.2\n",
       "Idaho           2.6   120     54       14.2\n",
       "Illinois       10.4   249     83       24.0\n",
       "Indiana         7.2   113     65       21.0\n",
       "Iowa            2.2    56     57       11.3\n",
       "Kansas          6.0   115     66       18.0\n",
       "Kentucky        9.7   109     52       16.3\n",
       "Louisiana      15.4   249     66       22.2\n",
       "Maine           2.1    83     51        7.8\n",
       "Maryland       11.3   300     67       27.8\n",
       "Massachusetts   4.4   149     85       16.3\n",
       "Michigan       12.1   255     74       35.1\n",
       "Minnesota       2.7    72     66       14.9\n",
       "Mississippi    16.1   259     44       17.1\n",
       "Missouri        9.0   178     70       28.2\n",
       "Montana         6.0   109     53       16.4\n",
       "Nebraska        4.3   102     62       16.5\n",
       "Nevada         12.2   252     81       46.0\n",
       "New Hampshire   2.1    57     56        9.5\n",
       "New Jersey      7.4   159     89       18.8\n",
       "New Mexico     11.4   285     70       32.1\n",
       "New York       11.1   254     86       26.1\n",
       "North Carolina 13.0   337     45       16.1\n",
       "North Dakota    0.8    45     44        7.3\n",
       "Ohio            7.3   120     75       21.4\n",
       "Oklahoma        6.6   151     68       20.0\n",
       "Oregon          4.9   159     67       29.3\n",
       "Pennsylvania    6.3   106     72       14.9\n",
       "Rhode Island    3.4   174     87        8.3\n",
       "South Carolina 14.4   279     48       22.5\n",
       "South Dakota    3.8    86     45       12.8\n",
       "Tennessee      13.2   188     59       26.9\n",
       "Texas          12.7   201     80       25.5\n",
       "Utah            3.2   120     80       22.9\n",
       "Vermont         2.2    48     32       11.2\n",
       "Virginia        8.5   156     63       20.7\n",
       "Washington      4.0   145     73       26.2\n",
       "West Virginia   5.7    81     39        9.3\n",
       "Wisconsin       2.6    53     66       10.8\n",
       "Wyoming         6.8   161     60       15.6"
      ]
     },
     "metadata": {},
     "output_type": "display_data"
    }
   ],
   "source": [
    "#Inbuilt Dataset\n",
    "USArrests"
   ]
  },
  {
   "cell_type": "markdown",
   "metadata": {},
   "source": [
    "## Data Preprocessing\n",
    "### Scaling data - To avoid biased results"
   ]
  },
  {
   "cell_type": "code",
   "execution_count": 25,
   "metadata": {},
   "outputs": [
    {
     "data": {
      "text/html": [
       "<table>\n",
       "<thead><tr><th></th><th scope=col>Murder</th><th scope=col>Assault</th><th scope=col>UrbanPop</th><th scope=col>Rape</th></tr></thead>\n",
       "<tbody>\n",
       "\t<tr><th scope=row>Alabama</th><td> 1.24256408 </td><td> 0.7828393  </td><td>-0.52090661 </td><td>-0.003416473</td></tr>\n",
       "\t<tr><th scope=row>Alaska</th><td> 0.50786248 </td><td> 1.1068225  </td><td>-1.21176419 </td><td> 2.484202941</td></tr>\n",
       "\t<tr><th scope=row>Arizona</th><td> 0.07163341 </td><td> 1.4788032  </td><td> 0.99898006 </td><td> 1.042878388</td></tr>\n",
       "\t<tr><th scope=row>Arkansas</th><td> 0.23234938 </td><td> 0.2308680  </td><td>-1.07359268 </td><td>-0.184916602</td></tr>\n",
       "\t<tr><th scope=row>California</th><td> 0.27826823 </td><td> 1.2628144  </td><td> 1.75892340 </td><td> 2.067820292</td></tr>\n",
       "\t<tr><th scope=row>Colorado</th><td> 0.02571456 </td><td> 0.3988593  </td><td> 0.86080854 </td><td> 1.864967207</td></tr>\n",
       "\t<tr><th scope=row>Connecticut</th><td>-1.03041900 </td><td>-0.7290821  </td><td> 0.79172279 </td><td>-1.081740768</td></tr>\n",
       "\t<tr><th scope=row>Delaware</th><td>-0.43347395 </td><td> 0.8068381  </td><td> 0.44629400 </td><td>-0.579946294</td></tr>\n",
       "\t<tr><th scope=row>Florida</th><td> 1.74767144 </td><td> 1.9707777  </td><td> 0.99898006 </td><td> 1.138966691</td></tr>\n",
       "\t<tr><th scope=row>Georgia</th><td> 2.20685994 </td><td> 0.4828549  </td><td>-0.38273510 </td><td> 0.487701523</td></tr>\n",
       "\t<tr><th scope=row>Hawaii</th><td>-0.57123050 </td><td>-1.4970423  </td><td> 1.20623733 </td><td>-0.110181255</td></tr>\n",
       "\t<tr><th scope=row>Idaho</th><td>-1.19113497 </td><td>-0.6090884  </td><td>-0.79724965 </td><td>-0.750769945</td></tr>\n",
       "\t<tr><th scope=row>Illinois</th><td> 0.59970018 </td><td> 0.9388312  </td><td> 1.20623733 </td><td> 0.295524916</td></tr>\n",
       "\t<tr><th scope=row>Indiana</th><td>-0.13500142 </td><td>-0.6930840  </td><td>-0.03730631 </td><td>-0.024769429</td></tr>\n",
       "\t<tr><th scope=row>Iowa</th><td>-1.28297267 </td><td>-1.3770485  </td><td>-0.58999237 </td><td>-1.060387812</td></tr>\n",
       "</tbody>\n",
       "</table>\n"
      ],
      "text/latex": [
       "\\begin{tabular}{r|llll}\n",
       "  & Murder & Assault & UrbanPop & Rape\\\\\n",
       "\\hline\n",
       "\tAlabama &  1.24256408  &  0.7828393   & -0.52090661  & -0.003416473\\\\\n",
       "\tAlaska &  0.50786248  &  1.1068225   & -1.21176419  &  2.484202941\\\\\n",
       "\tArizona &  0.07163341  &  1.4788032   &  0.99898006  &  1.042878388\\\\\n",
       "\tArkansas &  0.23234938  &  0.2308680   & -1.07359268  & -0.184916602\\\\\n",
       "\tCalifornia &  0.27826823  &  1.2628144   &  1.75892340  &  2.067820292\\\\\n",
       "\tColorado &  0.02571456  &  0.3988593   &  0.86080854  &  1.864967207\\\\\n",
       "\tConnecticut & -1.03041900  & -0.7290821   &  0.79172279  & -1.081740768\\\\\n",
       "\tDelaware & -0.43347395  &  0.8068381   &  0.44629400  & -0.579946294\\\\\n",
       "\tFlorida &  1.74767144  &  1.9707777   &  0.99898006  &  1.138966691\\\\\n",
       "\tGeorgia &  2.20685994  &  0.4828549   & -0.38273510  &  0.487701523\\\\\n",
       "\tHawaii & -0.57123050  & -1.4970423   &  1.20623733  & -0.110181255\\\\\n",
       "\tIdaho & -1.19113497  & -0.6090884   & -0.79724965  & -0.750769945\\\\\n",
       "\tIllinois &  0.59970018  &  0.9388312   &  1.20623733  &  0.295524916\\\\\n",
       "\tIndiana & -0.13500142  & -0.6930840   & -0.03730631  & -0.024769429\\\\\n",
       "\tIowa & -1.28297267  & -1.3770485   & -0.58999237  & -1.060387812\\\\\n",
       "\\end{tabular}\n"
      ],
      "text/markdown": [
       "\n",
       "| <!--/--> | Murder | Assault | UrbanPop | Rape |\n",
       "|---|---|---|---|---|\n",
       "| Alabama |  1.24256408  |  0.7828393   | -0.52090661  | -0.003416473 |\n",
       "| Alaska |  0.50786248  |  1.1068225   | -1.21176419  |  2.484202941 |\n",
       "| Arizona |  0.07163341  |  1.4788032   |  0.99898006  |  1.042878388 |\n",
       "| Arkansas |  0.23234938  |  0.2308680   | -1.07359268  | -0.184916602 |\n",
       "| California |  0.27826823  |  1.2628144   |  1.75892340  |  2.067820292 |\n",
       "| Colorado |  0.02571456  |  0.3988593   |  0.86080854  |  1.864967207 |\n",
       "| Connecticut | -1.03041900  | -0.7290821   |  0.79172279  | -1.081740768 |\n",
       "| Delaware | -0.43347395  |  0.8068381   |  0.44629400  | -0.579946294 |\n",
       "| Florida |  1.74767144  |  1.9707777   |  0.99898006  |  1.138966691 |\n",
       "| Georgia |  2.20685994  |  0.4828549   | -0.38273510  |  0.487701523 |\n",
       "| Hawaii | -0.57123050  | -1.4970423   |  1.20623733  | -0.110181255 |\n",
       "| Idaho | -1.19113497  | -0.6090884   | -0.79724965  | -0.750769945 |\n",
       "| Illinois |  0.59970018  |  0.9388312   |  1.20623733  |  0.295524916 |\n",
       "| Indiana | -0.13500142  | -0.6930840   | -0.03730631  | -0.024769429 |\n",
       "| Iowa | -1.28297267  | -1.3770485   | -0.58999237  | -1.060387812 |\n",
       "\n"
      ],
      "text/plain": [
       "            Murder      Assault    UrbanPop    Rape        \n",
       "Alabama      1.24256408  0.7828393 -0.52090661 -0.003416473\n",
       "Alaska       0.50786248  1.1068225 -1.21176419  2.484202941\n",
       "Arizona      0.07163341  1.4788032  0.99898006  1.042878388\n",
       "Arkansas     0.23234938  0.2308680 -1.07359268 -0.184916602\n",
       "California   0.27826823  1.2628144  1.75892340  2.067820292\n",
       "Colorado     0.02571456  0.3988593  0.86080854  1.864967207\n",
       "Connecticut -1.03041900 -0.7290821  0.79172279 -1.081740768\n",
       "Delaware    -0.43347395  0.8068381  0.44629400 -0.579946294\n",
       "Florida      1.74767144  1.9707777  0.99898006  1.138966691\n",
       "Georgia      2.20685994  0.4828549 -0.38273510  0.487701523\n",
       "Hawaii      -0.57123050 -1.4970423  1.20623733 -0.110181255\n",
       "Idaho       -1.19113497 -0.6090884 -0.79724965 -0.750769945\n",
       "Illinois     0.59970018  0.9388312  1.20623733  0.295524916\n",
       "Indiana     -0.13500142 -0.6930840 -0.03730631 -0.024769429\n",
       "Iowa        -1.28297267 -1.3770485 -0.58999237 -1.060387812"
      ]
     },
     "metadata": {},
     "output_type": "display_data"
    }
   ],
   "source": [
    "df <- scale(USArrests) # Scaling the data\n",
    "head(df, n = 15)"
   ]
  },
  {
   "cell_type": "code",
   "execution_count": 5,
   "metadata": {},
   "outputs": [
    {
     "data": {
      "text/plain": [
       "     price          speed              hd              ram        \n",
       " Min.   : 949   Min.   : 25.00   Min.   :  80.0   Min.   : 2.000  \n",
       " 1st Qu.:1794   1st Qu.: 33.00   1st Qu.: 214.0   1st Qu.: 4.000  \n",
       " Median :2144   Median : 50.00   Median : 340.0   Median : 8.000  \n",
       " Mean   :2220   Mean   : 52.01   Mean   : 416.6   Mean   : 8.287  \n",
       " 3rd Qu.:2595   3rd Qu.: 66.00   3rd Qu.: 528.0   3rd Qu.: 8.000  \n",
       " Max.   :5399   Max.   :100.00   Max.   :2100.0   Max.   :32.000  \n",
       "     screen           ads            trend      \n",
       " Min.   :14.00   Min.   : 39.0   Min.   : 1.00  \n",
       " 1st Qu.:14.00   1st Qu.:162.5   1st Qu.:10.00  \n",
       " Median :14.00   Median :246.0   Median :16.00  \n",
       " Mean   :14.61   Mean   :221.3   Mean   :15.93  \n",
       " 3rd Qu.:15.00   3rd Qu.:275.0   3rd Qu.:21.50  \n",
       " Max.   :17.00   Max.   :339.0   Max.   :35.00  "
      ]
     },
     "metadata": {},
     "output_type": "display_data"
    }
   ],
   "source": [
    "summary(df)"
   ]
  },
  {
   "cell_type": "code",
   "execution_count": 37,
   "metadata": {},
   "outputs": [
    {
     "ename": "ERROR",
     "evalue": "Error in fviz_nbclust(df, FUNcluster, method = c(\"silhouette\", \"wss\", : object 'FUNcluster' not found\n",
     "output_type": "error",
     "traceback": [
      "Error in fviz_nbclust(df, FUNcluster, method = c(\"silhouette\", \"wss\", : object 'FUNcluster' not found\nTraceback:\n",
      "1. fviz_nbclust(df, FUNcluster, method = c(\"silhouette\", \"wss\", \n .     \"gap_stat\"))"
     ]
    }
   ],
   "source": [
    "library(factoextra)\n",
    "fviz_nbclust(df, FUNcluster, method = c(\"silhouette\", \"wss\", \"gap_stat\"))"
   ]
  },
  {
   "cell_type": "code",
   "execution_count": 30,
   "metadata": {},
   "outputs": [
    {
     "ename": "ERROR",
     "evalue": "Error in loadNamespace(i, c(lib.loc, .libPaths()), versionCheck = vI[[i]]): namespace 'dplyr' 0.8.0.1 is already loaded, but >= 1.0.0 is required\n",
     "output_type": "error",
     "traceback": [
      "Error in loadNamespace(i, c(lib.loc, .libPaths()), versionCheck = vI[[i]]): namespace 'dplyr' 0.8.0.1 is already loaded, but >= 1.0.0 is required\nTraceback:\n",
      "1. fviz_nbclust(df, kmeans, method = \"wss\")",
      "2. ggpubr::ggline",
      "3. getExportedValue(pkg, name)",
      "4. asNamespace(ns)",
      "5. getNamespace(ns)",
      "6. loadNamespace(name)",
      "7. namespaceImportFrom(ns, loadNamespace(j <- i[[1L]], c(lib.loc, \n .     .libPaths()), versionCheck = vI[[j]]), i[[2L]], from = package)",
      "8. asNamespace(ns)",
      "9. loadNamespace(j <- i[[1L]], c(lib.loc, .libPaths()), versionCheck = vI[[j]])",
      "10. namespaceImportFrom(ns, loadNamespace(j <- i[[1L]], c(lib.loc, \n  .     .libPaths()), versionCheck = vI[[j]]), i[[2L]], from = package)",
      "11. asNamespace(ns)",
      "12. loadNamespace(j <- i[[1L]], c(lib.loc, .libPaths()), versionCheck = vI[[j]])",
      "13. namespaceImport(ns, loadNamespace(i, c(lib.loc, .libPaths()), \n  .     versionCheck = vI[[i]]), from = package)",
      "14. loadNamespace(i, c(lib.loc, .libPaths()), versionCheck = vI[[i]])",
      "15. stop(gettextf(\"namespace %s %s is already loaded, but %s %s is required\", \n  .     sQuote(package), current, zop, zversion), domain = NA)"
     ]
    }
   ],
   "source": [
    "fviz_nbclust(df, kmeans, method = \"wss\") +\n",
    "    geom_vline(xintercept = 4, linetype = 2)+labs(subtitle = \"Elbow method\")"
   ]
  },
  {
   "cell_type": "code",
   "execution_count": 26,
   "metadata": {},
   "outputs": [
    {
     "name": "stderr",
     "output_type": "stream",
     "text": [
      "also installing the dependencies 'Rcpp', 'matrixStats', 'RcppArmadillo', 'zip', 'glue', 'SparseM', 'MatrixModels', 'conquer', 'sp', 'openxlsx', 'minqa', 'nloptr', 'statmod', 'RcppEigen', 'dplyr', 'vctrs', 'cpp11', 'pillar', 'carData', 'pbkrtest', 'quantreg', 'maptools', 'rio', 'lme4', 'tidyr', 'broom', 'tibble', 'corrplot', 'tidyselect', 'viridis', 'car', 'ellipse', 'flashClust', 'leaps', 'scatterplot3d', 'ggsci', 'cowplot', 'ggsignif', 'gridExtra', 'polynom', 'rstatix', 'abind', 'dendextend', 'FactoMineR', 'ggpubr', 'ggrepel'\n",
      "\n"
     ]
    },
    {
     "name": "stdout",
     "output_type": "stream",
     "text": [
      "\n",
      "  There is a binary version available but the source version is later:\n",
      "      binary source needs_compilation\n",
      "cpp11  0.2.3  0.2.4             FALSE\n",
      "\n"
     ]
    },
    {
     "name": "stderr",
     "output_type": "stream",
     "text": [
      "Warning message:\n",
      "\"package 'dplyr' is in use and will not be installed\""
     ]
    },
    {
     "name": "stdout",
     "output_type": "stream",
     "text": [
      "package 'Rcpp' successfully unpacked and MD5 sums checked\n"
     ]
    },
    {
     "name": "stderr",
     "output_type": "stream",
     "text": [
      "Warning message:\n",
      "\"cannot remove prior installation of package 'Rcpp'\"Warning message in file.copy(savedcopy, lib, recursive = TRUE):\n",
      "\"problem copying C:\\Users\\SATHISH\\Anaconda3\\envs\\rprog\\Lib\\R\\library\\00LOCK\\Rcpp\\libs\\x64\\Rcpp.dll to C:\\Users\\SATHISH\\Anaconda3\\envs\\rprog\\Lib\\R\\library\\Rcpp\\libs\\x64\\Rcpp.dll: Permission denied\"Warning message:\n",
      "\"restored 'Rcpp'\""
     ]
    },
    {
     "name": "stdout",
     "output_type": "stream",
     "text": [
      "package 'matrixStats' successfully unpacked and MD5 sums checked\n",
      "package 'RcppArmadillo' successfully unpacked and MD5 sums checked\n",
      "package 'zip' successfully unpacked and MD5 sums checked\n",
      "package 'glue' successfully unpacked and MD5 sums checked\n"
     ]
    },
    {
     "name": "stderr",
     "output_type": "stream",
     "text": [
      "Warning message:\n",
      "\"cannot remove prior installation of package 'glue'\"Warning message in file.copy(savedcopy, lib, recursive = TRUE):\n",
      "\"problem copying C:\\Users\\SATHISH\\Anaconda3\\envs\\rprog\\Lib\\R\\library\\00LOCK\\glue\\libs\\x64\\glue.dll to C:\\Users\\SATHISH\\Anaconda3\\envs\\rprog\\Lib\\R\\library\\glue\\libs\\x64\\glue.dll: Permission denied\"Warning message:\n",
      "\"restored 'glue'\""
     ]
    },
    {
     "name": "stdout",
     "output_type": "stream",
     "text": [
      "package 'SparseM' successfully unpacked and MD5 sums checked\n",
      "package 'MatrixModels' successfully unpacked and MD5 sums checked\n",
      "package 'conquer' successfully unpacked and MD5 sums checked\n",
      "package 'sp' successfully unpacked and MD5 sums checked\n",
      "package 'openxlsx' successfully unpacked and MD5 sums checked\n",
      "package 'minqa' successfully unpacked and MD5 sums checked\n",
      "package 'nloptr' successfully unpacked and MD5 sums checked\n",
      "package 'statmod' successfully unpacked and MD5 sums checked\n",
      "package 'RcppEigen' successfully unpacked and MD5 sums checked\n",
      "package 'vctrs' successfully unpacked and MD5 sums checked\n",
      "package 'pillar' successfully unpacked and MD5 sums checked\n",
      "package 'carData' successfully unpacked and MD5 sums checked\n",
      "package 'pbkrtest' successfully unpacked and MD5 sums checked\n",
      "package 'quantreg' successfully unpacked and MD5 sums checked\n",
      "package 'maptools' successfully unpacked and MD5 sums checked\n",
      "package 'rio' successfully unpacked and MD5 sums checked\n",
      "package 'lme4' successfully unpacked and MD5 sums checked\n",
      "package 'tidyr' successfully unpacked and MD5 sums checked\n",
      "package 'broom' successfully unpacked and MD5 sums checked\n",
      "package 'tibble' successfully unpacked and MD5 sums checked\n"
     ]
    },
    {
     "name": "stderr",
     "output_type": "stream",
     "text": [
      "Warning message:\n",
      "\"cannot remove prior installation of package 'tibble'\"Warning message in file.copy(savedcopy, lib, recursive = TRUE):\n",
      "\"problem copying C:\\Users\\SATHISH\\Anaconda3\\envs\\rprog\\Lib\\R\\library\\00LOCK\\tibble\\libs\\x64\\tibble.dll to C:\\Users\\SATHISH\\Anaconda3\\envs\\rprog\\Lib\\R\\library\\tibble\\libs\\x64\\tibble.dll: Permission denied\"Warning message:\n",
      "\"restored 'tibble'\""
     ]
    },
    {
     "name": "stdout",
     "output_type": "stream",
     "text": [
      "package 'corrplot' successfully unpacked and MD5 sums checked\n",
      "package 'tidyselect' successfully unpacked and MD5 sums checked\n"
     ]
    },
    {
     "name": "stderr",
     "output_type": "stream",
     "text": [
      "Warning message:\n",
      "\"cannot remove prior installation of package 'tidyselect'\"Warning message in file.copy(savedcopy, lib, recursive = TRUE):\n",
      "\"problem copying C:\\Users\\SATHISH\\Anaconda3\\envs\\rprog\\Lib\\R\\library\\00LOCK\\tidyselect\\libs\\x64\\tidyselect.dll to C:\\Users\\SATHISH\\Anaconda3\\envs\\rprog\\Lib\\R\\library\\tidyselect\\libs\\x64\\tidyselect.dll: Permission denied\"Warning message:\n",
      "\"restored 'tidyselect'\""
     ]
    },
    {
     "name": "stdout",
     "output_type": "stream",
     "text": [
      "package 'viridis' successfully unpacked and MD5 sums checked\n",
      "package 'car' successfully unpacked and MD5 sums checked\n",
      "package 'ellipse' successfully unpacked and MD5 sums checked\n",
      "package 'flashClust' successfully unpacked and MD5 sums checked\n",
      "package 'leaps' successfully unpacked and MD5 sums checked\n",
      "package 'scatterplot3d' successfully unpacked and MD5 sums checked\n",
      "package 'ggsci' successfully unpacked and MD5 sums checked\n",
      "package 'cowplot' successfully unpacked and MD5 sums checked\n",
      "package 'ggsignif' successfully unpacked and MD5 sums checked\n",
      "package 'gridExtra' successfully unpacked and MD5 sums checked\n",
      "package 'polynom' successfully unpacked and MD5 sums checked\n",
      "package 'rstatix' successfully unpacked and MD5 sums checked\n",
      "package 'abind' successfully unpacked and MD5 sums checked\n",
      "package 'dendextend' successfully unpacked and MD5 sums checked\n",
      "package 'FactoMineR' successfully unpacked and MD5 sums checked\n",
      "package 'ggpubr' successfully unpacked and MD5 sums checked\n",
      "package 'ggrepel' successfully unpacked and MD5 sums checked\n",
      "package 'factoextra' successfully unpacked and MD5 sums checked\n",
      "\n",
      "The downloaded binary packages are in\n",
      "\tC:\\Users\\SATHISH\\AppData\\Local\\Temp\\RtmpQzhxtr\\downloaded_packages\n"
     ]
    },
    {
     "name": "stderr",
     "output_type": "stream",
     "text": [
      "installing the source package 'cpp11'\n",
      "\n"
     ]
    }
   ],
   "source": [
    "install.packages(\"factoextra\")"
   ]
  },
  {
   "cell_type": "code",
   "execution_count": 32,
   "metadata": {},
   "outputs": [
    {
     "ename": "ERROR",
     "evalue": "Error in loadNamespace(i, c(lib.loc, .libPaths()), versionCheck = vI[[i]]): namespace 'dplyr' 0.8.0.1 is already loaded, but >= 1.0.0 is required\n",
     "output_type": "error",
     "traceback": [
      "Error in loadNamespace(i, c(lib.loc, .libPaths()), versionCheck = vI[[i]]): namespace 'dplyr' 0.8.0.1 is already loaded, but >= 1.0.0 is required\nTraceback:\n",
      "1. fviz_nbclust(df, kmeans, method = \"silhouette\")",
      "2. ggpubr::ggline",
      "3. getExportedValue(pkg, name)",
      "4. asNamespace(ns)",
      "5. getNamespace(ns)",
      "6. loadNamespace(name)",
      "7. namespaceImportFrom(ns, loadNamespace(j <- i[[1L]], c(lib.loc, \n .     .libPaths()), versionCheck = vI[[j]]), i[[2L]], from = package)",
      "8. asNamespace(ns)",
      "9. loadNamespace(j <- i[[1L]], c(lib.loc, .libPaths()), versionCheck = vI[[j]])",
      "10. namespaceImportFrom(ns, loadNamespace(j <- i[[1L]], c(lib.loc, \n  .     .libPaths()), versionCheck = vI[[j]]), i[[2L]], from = package)",
      "11. asNamespace(ns)",
      "12. loadNamespace(j <- i[[1L]], c(lib.loc, .libPaths()), versionCheck = vI[[j]])",
      "13. namespaceImport(ns, loadNamespace(i, c(lib.loc, .libPaths()), \n  .     versionCheck = vI[[i]]), from = package)",
      "14. loadNamespace(i, c(lib.loc, .libPaths()), versionCheck = vI[[i]])",
      "15. stop(gettextf(\"namespace %s %s is already loaded, but %s %s is required\", \n  .     sQuote(package), current, zop, zversion), domain = NA)"
     ]
    }
   ],
   "source": [
    "fviz_nbclust(df, kmeans, method = \"silhouette\")+\n",
    "  labs(subtitle = \"Silhouette method\")"
   ]
  },
  {
   "cell_type": "code",
   "execution_count": 36,
   "metadata": {},
   "outputs": [
    {
     "data": {
      "text/plain": [
       "[1] '0.8.0.1'"
      ]
     },
     "metadata": {},
     "output_type": "display_data"
    }
   ],
   "source": [
    "packageVersion(\"dplyr\")"
   ]
  },
  {
   "cell_type": "code",
   "execution_count": 35,
   "metadata": {},
   "outputs": [],
   "source": [
    "update.packages(\"dplyr\")"
   ]
  },
  {
   "cell_type": "code",
   "execution_count": null,
   "metadata": {},
   "outputs": [],
   "source": []
  }
 ],
 "metadata": {
  "kernelspec": {
   "display_name": "R",
   "language": "R",
   "name": "ir"
  },
  "language_info": {
   "codemirror_mode": "r",
   "file_extension": ".r",
   "mimetype": "text/x-r-source",
   "name": "R",
   "pygments_lexer": "r",
   "version": "3.6.1"
  }
 },
 "nbformat": 4,
 "nbformat_minor": 4
}
