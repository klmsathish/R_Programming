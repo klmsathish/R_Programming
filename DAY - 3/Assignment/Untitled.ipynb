{
 "cells": [
  {
   "cell_type": "code",
   "execution_count": 7,
   "metadata": {},
   "outputs": [
    {
     "name": "stdout",
     "output_type": "stream",
     "text": [
      "[1] \"sathish,kumar,good\"\n",
      "[1] \"sathish,kumar\"\n",
      "[1] \"sathish\"\n"
     ]
    }
   ],
   "source": [
    "#collapse function\n",
    "convert=function(x) {\n",
    "  #Using collapse for cancatenating into one string\n",
    "  y=paste(x,collapse=\",\")\n",
    "  print(y)\n",
    "}\n",
    "#Checking for 3 values\n",
    "convert(c(\"sathish\",\"kumar\",\"good\"))\n",
    "convert(c(\"sathish\",\"kumar\"))\n",
    "#Checking for 1 value\n",
    "convert(c(\"sathish\"))"
   ]
  },
  {
   "cell_type": "code",
   "execution_count": 10,
   "metadata": {},
   "outputs": [
    {
     "data": {
      "text/html": [
       "<table>\n",
       "<thead><tr><th scope=col>Id</th><th scope=col>Age</th><th scope=col>Sex</th><th scope=col>Code</th></tr></thead>\n",
       "<tbody>\n",
       "\t<tr><td> 1</td><td>14</td><td>F </td><td>i </td></tr>\n",
       "\t<tr><td> 2</td><td>12</td><td>M </td><td>b </td></tr>\n",
       "\t<tr><td> 3</td><td>15</td><td>M </td><td>j </td></tr>\n",
       "\t<tr><td> 4</td><td>10</td><td>F </td><td>h </td></tr>\n",
       "\t<tr><td> 5</td><td>23</td><td>M </td><td>e </td></tr>\n",
       "\t<tr><td> 6</td><td>21</td><td>F </td><td>f </td></tr>\n",
       "\t<tr><td> 7</td><td>41</td><td>M </td><td>g </td></tr>\n",
       "\t<tr><td> 8</td><td>56</td><td>M </td><td>d </td></tr>\n",
       "\t<tr><td> 9</td><td>78</td><td>F </td><td>a </td></tr>\n",
       "\t<tr><td>10</td><td>12</td><td>M </td><td>c </td></tr>\n",
       "</tbody>\n",
       "</table>\n"
      ],
      "text/latex": [
       "\\begin{tabular}{r|llll}\n",
       " Id & Age & Sex & Code\\\\\n",
       "\\hline\n",
       "\t  1 & 14 & F  & i \\\\\n",
       "\t  2 & 12 & M  & b \\\\\n",
       "\t  3 & 15 & M  & j \\\\\n",
       "\t  4 & 10 & F  & h \\\\\n",
       "\t  5 & 23 & M  & e \\\\\n",
       "\t  6 & 21 & F  & f \\\\\n",
       "\t  7 & 41 & M  & g \\\\\n",
       "\t  8 & 56 & M  & d \\\\\n",
       "\t  9 & 78 & F  & a \\\\\n",
       "\t 10 & 12 & M  & c \\\\\n",
       "\\end{tabular}\n"
      ],
      "text/markdown": [
       "\n",
       "| Id | Age | Sex | Code |\n",
       "|---|---|---|---|\n",
       "|  1 | 14 | F  | i  |\n",
       "|  2 | 12 | M  | b  |\n",
       "|  3 | 15 | M  | j  |\n",
       "|  4 | 10 | F  | h  |\n",
       "|  5 | 23 | M  | e  |\n",
       "|  6 | 21 | F  | f  |\n",
       "|  7 | 41 | M  | g  |\n",
       "|  8 | 56 | M  | d  |\n",
       "|  9 | 78 | F  | a  |\n",
       "| 10 | 12 | M  | c  |\n",
       "\n"
      ],
      "text/plain": [
       "   Id Age Sex Code\n",
       "1   1 14  F   i   \n",
       "2   2 12  M   b   \n",
       "3   3 15  M   j   \n",
       "4   4 10  F   h   \n",
       "5   5 23  M   e   \n",
       "6   6 21  F   f   \n",
       "7   7 41  M   g   \n",
       "8   8 56  M   d   \n",
       "9   9 78  F   a   \n",
       "10 10 12  M   c   "
      ]
     },
     "metadata": {},
     "output_type": "display_data"
    }
   ],
   "source": [
    "#Values for datframe\n",
    "Id=c(1:10)\n",
    "Age=c(14,12,15,10,23,21,41,56,78,12)\n",
    "Sex=c('F','M','M','F','M','F','M','M','F','M')\n",
    "Code=letters[1:10]\n",
    "#Creating a datframe\n",
    "df=data.frame(Id,Age,Sex,Code)\n",
    "\n",
    "#function that, given a data frame and two indexes, exchanges two values of the Code with each other.\n",
    "change_values=function(df,firstindex,secondindex)\n",
    "{\n",
    "  first_value=df[firstindex,'Code']\n",
    "  df[firstindex,'Code']=df[secondindex,'Code']\n",
    "  df[secondindex,'Code']=first_value\n",
    "  return(df)\n",
    "}\n",
    "#Interchnaging values\n",
    "df=change_values(df,4,8)\n",
    "df=change_values(df,9,1)\n",
    "df=change_values(df,3,10)\n",
    "df"
   ]
  },
  {
   "cell_type": "code",
   "execution_count": 20,
   "metadata": {},
   "outputs": [
    {
     "data": {
      "text/html": [
       "<ol class=list-inline>\n",
       "\t<li>2</li>\n",
       "\t<li>2</li>\n",
       "\t<li>4</li>\n",
       "\t<li>6</li>\n",
       "\t<li>10</li>\n",
       "\t<li>10</li>\n",
       "\t<li>12</li>\n",
       "\t<li>18</li>\n",
       "</ol>\n"
      ],
      "text/latex": [
       "\\begin{enumerate*}\n",
       "\\item 2\n",
       "\\item 2\n",
       "\\item 4\n",
       "\\item 6\n",
       "\\item 10\n",
       "\\item 10\n",
       "\\item 12\n",
       "\\item 18\n",
       "\\end{enumerate*}\n"
      ],
      "text/markdown": [
       "1. 2\n",
       "2. 2\n",
       "3. 4\n",
       "4. 6\n",
       "5. 10\n",
       "6. 10\n",
       "7. 12\n",
       "8. 18\n",
       "\n",
       "\n"
      ],
      "text/plain": [
       "[1]  2  2  4  6 10 10 12 18"
      ]
     },
     "metadata": {},
     "output_type": "display_data"
    }
   ],
   "source": [
    "#Ascending values\n",
    "sort_asc=function(vec)\n",
    "{\n",
    "  #Mutplipying by 2\n",
    "  vec=sort(vec)*2\n",
    "  return(vec)\n",
    "}\n",
    "#input\n",
    "vec=c(1,5,9,2,5,1,6,3)\n",
    "#Invoking function\n",
    "sort_asc(vec)"
   ]
  },
  {
   "cell_type": "code",
   "execution_count": 19,
   "metadata": {},
   "outputs": [
    {
     "data": {
      "text/html": [
       "<ol class=list-inline>\n",
       "\t<li>0</li>\n",
       "\t<li>2</li>\n",
       "\t<li>4</li>\n",
       "\t<li>6</li>\n",
       "\t<li>7</li>\n",
       "\t<li>9</li>\n",
       "</ol>\n"
      ],
      "text/latex": [
       "\\begin{enumerate*}\n",
       "\\item 0\n",
       "\\item 2\n",
       "\\item 4\n",
       "\\item 6\n",
       "\\item 7\n",
       "\\item 9\n",
       "\\end{enumerate*}\n"
      ],
      "text/markdown": [
       "1. 0\n",
       "2. 2\n",
       "3. 4\n",
       "4. 6\n",
       "5. 7\n",
       "6. 9\n",
       "\n",
       "\n"
      ],
      "text/plain": [
       "[1] 0 2 4 6 7 9"
      ]
     },
     "metadata": {},
     "output_type": "display_data"
    }
   ],
   "source": [
    "#Fuction to find missing numbers in the limit\n",
    "nums=function(input)\n",
    "{ #limit to check\n",
    "  lim=0:9\n",
    "  #Checking  and saving the values missing\n",
    "  output=lim[!lim %in% input]\n",
    "  #%in% gives the present postion\n",
    "  return(output)\n",
    "}\n",
    "#Assigning input\n",
    "input=c(1,5,3,8)\n",
    "#Invoking function\n",
    "nums(input)"
   ]
  },
  {
   "cell_type": "code",
   "execution_count": 39,
   "metadata": {},
   "outputs": [
    {
     "data": {
      "text/html": [
       "<ol class=list-inline>\n",
       "\t<li>1</li>\n",
       "\t<li>2</li>\n",
       "\t<li>3</li>\n",
       "</ol>\n"
      ],
      "text/latex": [
       "\\begin{enumerate*}\n",
       "\\item 1\n",
       "\\item 2\n",
       "\\item 3\n",
       "\\end{enumerate*}\n"
      ],
      "text/markdown": [
       "1. 1\n",
       "2. 2\n",
       "3. 3\n",
       "\n",
       "\n"
      ],
      "text/plain": [
       "[1] 1 2 3"
      ]
     },
     "metadata": {},
     "output_type": "display_data"
    }
   ],
   "source": [
    "#function to convert string to corresponding number\n",
    "convert_str_num<-function(str)\n",
    "{\n",
    "  #extracting letters seperately\n",
    "  extract = stri_extract_all(str, regex=c('\\\\p{L}'))\n",
    "  #conerts leters to corresponding numbers\n",
    "  converted = letters%in%unlist(extract)\n",
    "  #Returning Value\n",
    "  return(which(converted))\n",
    "}\n",
    "str='abc'\n",
    "#Invoking function\n",
    "convert(str)"
   ]
  },
  {
   "cell_type": "code",
   "execution_count": 51,
   "metadata": {},
   "outputs": [
    {
     "name": "stdout",
     "output_type": "stream",
     "text": [
      "[1] TRUE\n"
     ]
    }
   ],
   "source": [
    "#Creating a function to check for anagram\n",
    "anagram<-function(str1,str2)\n",
    "{\n",
    "  #Splicing word into letter with regex\n",
    "  str1=unlist(stri_extract_all(str1, regex=c('\\\\p{L}')))\n",
    "  str2=unlist(stri_extract_all(str2, regex=c('\\\\p{L}')))\n",
    "  #First Checking for length\n",
    "  if (length(str1)==length(str2)) \n",
    "  {\n",
    "   #Reverse and check and return true\n",
    "  match=unique(str1%in%str2==str2%in%str1)\n",
    "  return( ifelse(length(str1)==length(str2) & length(match)==1,ifelse(match==TRUE,TRUE,FALSE),FALSE))\n",
    "  }\n",
    "  #If length is not equal diirectly returs false\n",
    "  if (length(str1)!=length(str2))\n",
    "    return(FALSE)\n",
    "}\n",
    "#Input\n",
    "str1='rotator'\n",
    "str2='rotator'\n",
    "#Invoking function\n",
    "print(anagram(str1,str2))"
   ]
  },
  {
   "cell_type": "code",
   "execution_count": null,
   "metadata": {},
   "outputs": [],
   "source": []
  }
 ],
 "metadata": {
  "kernelspec": {
   "display_name": "R",
   "language": "R",
   "name": "ir"
  },
  "language_info": {
   "codemirror_mode": "r",
   "file_extension": ".r",
   "mimetype": "text/x-r-source",
   "name": "R",
   "pygments_lexer": "r",
   "version": "3.6.1"
  }
 },
 "nbformat": 4,
 "nbformat_minor": 4
}
