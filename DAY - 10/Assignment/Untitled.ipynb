{
 "cells": [
  {
   "cell_type": "code",
   "execution_count": 3,
   "metadata": {},
   "outputs": [
    {
     "name": "stderr",
     "output_type": "stream",
     "text": [
      "Warning message:\n",
      "\"package 'googleVis' was built under R version 3.6.3\"Creating a generic function for 'toJSON' from package 'jsonlite' in package 'googleVis'\n",
      "\n",
      "Welcome to googleVis version 0.6.9\n",
      "\n",
      "Please read Google's Terms of Use\n",
      "before you start using the package:\n",
      "https://developers.google.com/terms/\n",
      "\n",
      "Note, the plot method of googleVis will by default use\n",
      "the standard browser to display its output.\n",
      "\n",
      "See the googleVis package vignettes for more details,\n",
      "or visit https://github.com/mages/googleVis.\n",
      "\n",
      "To suppress this message use:\n",
      "suppressPackageStartupMessages(library(googleVis))\n",
      "\n",
      "starting httpd help server ... done\n"
     ]
    }
   ],
   "source": [
    "library(googleVis)\n",
    "df=data.frame(name=c(\"James\", \"Curry\", \"Harden\"),\n",
    "              Pts=c(20,23,34),\n",
    "              Rbs=c(13,7,9))\n",
    "Line_2 <- gvisLineChart(df)\n",
    "plot(Line_2)\n"
   ]
  },
  {
   "cell_type": "code",
   "execution_count": 2,
   "metadata": {},
   "outputs": [
    {
     "name": "stdout",
     "output_type": "stream",
     "text": [
      "package 'googleVis' successfully unpacked and MD5 sums checked\n",
      "\n",
      "The downloaded binary packages are in\n",
      "\tC:\\Users\\SATHISH\\AppData\\Local\\Temp\\RtmpOYdn5U\\downloaded_packages\n"
     ]
    }
   ],
   "source": [
    "install.packages(\"googleVis\")"
   ]
  },
  {
   "cell_type": "code",
   "execution_count": 4,
   "metadata": {},
   "outputs": [
    {
     "ename": "ERROR",
     "evalue": "Error in `[.data.frame`(data, , c(xvar, yvar)): undefined columns selected\n",
     "output_type": "error",
     "traceback": [
      "Error in `[.data.frame`(data, , c(xvar, yvar)): undefined columns selected\nTraceback:\n",
      "1. gvisLineChart(df, \"name\", c(\"pts\"))",
      "2. gvisCoreChart(data, xvar, yvar, options, chartid, chart.type = \"LineChart\")",
      "3. gvisCheckCoreChartData(data, xvar = xvar, yvar = yvar)",
      "4. data[, c(xvar, yvar)]",
      "5. `[.data.frame`(data, , c(xvar, yvar))",
      "6. stop(\"undefined columns selected\")"
     ]
    }
   ],
   "source": [
    "LineC <- gvisLineChart(df)\n",
    "gr=gvisLineChart(df,\"name\",c(\"pts\"))\n",
    "plot(gr)"
   ]
  },
  {
   "cell_type": "code",
   "execution_count": 5,
   "metadata": {},
   "outputs": [],
   "source": [
    "library(googleVis)\n",
    "op <- options(gvis.plot.tag='chart')"
   ]
  },
  {
   "cell_type": "code",
   "execution_count": 7,
   "metadata": {},
   "outputs": [
    {
     "data": {
      "text/plain": [
       "$gvis.plot.tag\n",
       "NULL\n"
      ]
     },
     "metadata": {},
     "output_type": "display_data"
    }
   ],
   "source": [
    "op"
   ]
  },
  {
   "cell_type": "code",
   "execution_count": 15,
   "metadata": {},
   "outputs": [
    {
     "ename": "ERROR",
     "evalue": "Error in library(dkuDisplayGooglevis): there is no package called 'dkuDisplayGooglevis'\n",
     "output_type": "error",
     "traceback": [
      "Error in library(dkuDisplayGooglevis): there is no package called 'dkuDisplayGooglevis'\nTraceback:\n",
      "1. library(dkuDisplayGooglevis)"
     ]
    }
   ],
   "source": [
    "library(googleVis)\n",
    "library(dkuDisplayGooglevis)\n",
    "# Make some data\n",
    "df=data.frame(country=c(\"US\", \"GB\", \"BR\"),\n",
    "          val1=c(10,13,14),\n",
    "          val2=c(23,12,32))\n",
    "\n",
    "# Prepare the chart\n",
    "Line <- gvisLineChart(df)\n",
    "\n",
    "# And display it\n",
    "dkuDisplayGooglevis(Line)"
   ]
  },
  {
   "cell_type": "code",
   "execution_count": 18,
   "metadata": {},
   "outputs": [
    {
     "name": "stderr",
     "output_type": "stream",
     "text": [
      "Warning message:\n",
      "\"package 'dkuDisplayGooglevis' is not available (for R version 3.6.1)\""
     ]
    }
   ],
   "source": [
    "install.packages(\"dkuDisplayGooglevis\")"
   ]
  },
  {
   "cell_type": "code",
   "execution_count": 13,
   "metadata": {},
   "outputs": [
    {
     "ename": "ERROR",
     "evalue": "Error in dkuSaveGooglevisInsight(\"my-googlevis-plot\", Line): could not find function \"dkuSaveGooglevisInsight\"\n",
     "output_type": "error",
     "traceback": [
      "Error in dkuSaveGooglevisInsight(\"my-googlevis-plot\", Line): could not find function \"dkuSaveGooglevisInsight\"\nTraceback:\n"
     ]
    }
   ],
   "source": [
    "Line <- gvisLineChart(df)\n",
    "\n",
    "# Save it as an insight\n",
    "dkuSaveGooglevisInsight(\"my-googlevis-plot\", Line)"
   ]
  },
  {
   "cell_type": "code",
   "execution_count": 17,
   "metadata": {},
   "outputs": [
    {
     "ename": "ERROR",
     "evalue": "Error in dkuDisplayGooglevis(Line): could not find function \"dkuDisplayGooglevis\"\n",
     "output_type": "error",
     "traceback": [
      "Error in dkuDisplayGooglevis(Line): could not find function \"dkuDisplayGooglevis\"\nTraceback:\n"
     ]
    }
   ],
   "source": [
    "library(googleVis)\n",
    "\n",
    "    # Make some data\n",
    "    df=data.frame(country=c(\"US\", \"GB\", \"BR\"),\n",
    "          val1=c(10,13,14),\n",
    "          val2=c(23,12,32))\n",
    "\n",
    "# Prepare the chart\n",
    "Line <- gvisLineChart(df)\n",
    "\n",
    "# And display it\n",
    "dkuDisplayGooglevis(Line)"
   ]
  },
  {
   "cell_type": "code",
   "execution_count": null,
   "metadata": {},
   "outputs": [],
   "source": []
  }
 ],
 "metadata": {
  "kernelspec": {
   "display_name": "R",
   "language": "R",
   "name": "ir"
  },
  "language_info": {
   "codemirror_mode": "r",
   "file_extension": ".r",
   "mimetype": "text/x-r-source",
   "name": "R",
   "pygments_lexer": "r",
   "version": "3.6.1"
  }
 },
 "nbformat": 4,
 "nbformat_minor": 4
}
