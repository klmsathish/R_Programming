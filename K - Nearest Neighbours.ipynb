{
 "cells": [
  {
   "cell_type": "markdown",
   "metadata": {},
   "source": [
    "<center><font color = \"Red\" size = 5>K - Nearest Neighbours</font></center>"
   ]
  },
  {
   "cell_type": "markdown",
   "metadata": {},
   "source": [
    "<center><font size = 4 color = \"blue\">K-Nearest Neighbors is one of the most basic <b>CLASSIFICATION</b> algorithms in Machine Learning.</center><br>\n"
   ]
  },
  {
   "cell_type": "markdown",
   "metadata": {},
   "source": [
    "<font size = 4>Introduction</font><br>\n",
    "<font size = 3><ul>\n",
    "<li>k nearest neighbours is a simple algorithm that stores all available cases and classifies new cases by a majority vote of its k neighbors.<br></li>\n",
    "<li>This algorithm segregates unlabeled data points into well defined groups.</li>\n",
    "<li>supervised machine learning algorithm</li>\n",
    "    </ul></font>"
   ]
  },
  {
   "cell_type": "markdown",
   "metadata": {},
   "source": [
    "<font size =4 >Properties of KNN</font>\n",
    "<ul>\n",
    "    <li><b>Lazy learning algorithm</b><br></li>\n",
    "       <ul><li> KNN is a lazy learning algorithm because it does not have a specialized training phase <br></li>\n",
    "        <li>It uses all the data for training while classification.<br></li>\n",
    "    </ul>\n",
    "    <li><b>Non-parametric learning algorithm</b><br></li>\n",
    "    <ul><li>KNN is also a non-parametric learning algorithm because it doesn’t assume anything about the underlying data.</li>"
   ]
  },
  {
   "cell_type": "markdown",
   "metadata": {},
   "source": [
    "### The KNN Algorithm\n",
    "Load the data\n",
    "Initialize K to your chosen number of neighbors\n",
    "For each example in the data\n",
    "    3.1 Calculate the distance between the query example and the current example from the data.\n",
    "    3.2 Add the distance and the index of the example to an ordered collection\n",
    "Sort the ordered collection of distances and indices from smallest to largest (in ascending order) by the distances\n",
    "Pick the first K entries from the sorted collection\n",
    "Get the labels of the selected K entries\n",
    "If regression, return the mean of the K labels\n",
    "If classification, return the mode of the K labels"
   ]
  },
  {
   "cell_type": "markdown",
   "metadata": {},
   "source": []
  },
  {
   "cell_type": "markdown",
   "metadata": {},
   "source": [
    "It is an approach to data classification that estimates how likely a data point is to be a member of one group or the other depending on what group the data points nearest to it are in."
   ]
  },
  {
   "cell_type": "markdown",
   "metadata": {},
   "source": [
    "K Nearest Neighbours — Pseudocode\n",
    "1. Load the training and test data \n",
    "2. Choose the value of K \n",
    "3. For each point in test data:\n",
    "       - find the Euclidean distance to all training data points\n",
    "       - store the Euclidean distances in a list and sort it \n",
    "       - choose the first k points \n",
    "       - assign a class to the test point based on the majority of classes present in the chosen points"
   ]
  },
  {
   "cell_type": "markdown",
   "metadata": {},
   "source": []
  },
  {
   "cell_type": "markdown",
   "metadata": {},
   "source": [
    "![Image of Yaktocat](data:image/png;base64,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)\n",
    "![Image of Yaktocat](data:image/png;base64,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)"
   ]
  },
  {
   "cell_type": "code",
   "execution_count": 2,
   "metadata": {},
   "outputs": [
    {
     "name": "stdout",
     "output_type": "stream",
     "text": [
      "package 'Rcpp' successfully unpacked and MD5 sums checked\n"
     ]
    },
    {
     "name": "stderr",
     "output_type": "stream",
     "text": [
      "Warning message:\n",
      "\"cannot remove prior installation of package 'Rcpp'\"Warning message in file.copy(savedcopy, lib, recursive = TRUE):\n",
      "\"problem copying C:\\Users\\SATHISH\\Anaconda3\\envs\\rprog\\Lib\\R\\library\\00LOCK\\Rcpp\\libs\\x64\\Rcpp.dll to C:\\Users\\SATHISH\\Anaconda3\\envs\\rprog\\Lib\\R\\library\\Rcpp\\libs\\x64\\Rcpp.dll: Permission denied\"Warning message:\n",
      "\"restored 'Rcpp'\""
     ]
    },
    {
     "name": "stdout",
     "output_type": "stream",
     "text": [
      "\n",
      "The downloaded binary packages are in\n",
      "\tC:\\Users\\SATHISH\\AppData\\Local\\Temp\\Rtmp84r6eZ\\downloaded_packages\n",
      "package 'NbClust' successfully unpacked and MD5 sums checked\n",
      "\n",
      "The downloaded binary packages are in\n",
      "\tC:\\Users\\SATHISH\\AppData\\Local\\Temp\\Rtmp84r6eZ\\downloaded_packages\n"
     ]
    }
   ],
   "source": [
    "install.packages(\"Rcpp\")\n",
    "install.packages(\"NbClust\")"
   ]
  },
  {
   "cell_type": "code",
   "execution_count": null,
   "metadata": {},
   "outputs": [],
   "source": []
  }
 ],
 "metadata": {
  "kernelspec": {
   "display_name": "R",
   "language": "R",
   "name": "ir"
  },
  "language_info": {
   "codemirror_mode": "r",
   "file_extension": ".r",
   "mimetype": "text/x-r-source",
   "name": "R",
   "pygments_lexer": "r",
   "version": "3.6.1"
  }
 },
 "nbformat": 4,
 "nbformat_minor": 4
}
