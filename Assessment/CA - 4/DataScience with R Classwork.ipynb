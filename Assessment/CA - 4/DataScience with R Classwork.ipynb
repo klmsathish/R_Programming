{
 "cells": [
  {
   "cell_type": "markdown",
   "metadata": {},
   "source": [
    "<font size = 5 color = \"blue\"><center>Data Science with R Programming</center></font>"
   ]
  },
  {
   "cell_type": "markdown",
   "metadata": {},
   "source": [
    "<font size = 3.5 color = \"red\"><center> R is a programming language and software environment for statistical analysis, graphics representation and reporting.</center></font>"
   ]
  },
  {
   "cell_type": "markdown",
   "metadata": {},
   "source": [
    "\n",
    "## Features of R\n",
    "    \n",
    "\n",
    "- R is a well-developed, simple and effective programming language which includes conditionals, loops, user defined recursive functions and input and output facilities.<br>\n",
    "\n",
    "    \n",
    "- R has an effective data handling and storage facility<br>\n",
    "\n",
    "    \n",
    "- R provides a suite of operators for calculations on arrays, lists, vectors and matrices.<br>\n",
    "\n",
    "    \n",
    "- R provides a large, coherent and integrated collection of tools for data analysis.<br>\n",
    "\n",
    "    \n",
    "- R provides graphical facilities for data analysis and display either directly at the computer or printing at the papers.<br>"
   ]
  },
  {
   "cell_type": "markdown",
   "metadata": {},
   "source": [
    "## <font color = \"grey\" >DAY - 1 </font>"
   ]
  },
  {
   "cell_type": "markdown",
   "metadata": {},
   "source": [
    "#### The variables are assigned with R-Objects and the data type of the R-object becomes the data type of the variable. There are many types of R-objects. The frequently used ones are −\n",
    "\n",
    "- Vectors\n",
    "- Lists\n",
    "- Matrices\n",
    "- Arrays\n",
    "- Factors\n",
    "- Data Frames"
   ]
  },
  {
   "cell_type": "markdown",
   "metadata": {},
   "source": [
    "## Variables"
   ]
  },
  {
   "cell_type": "code",
   "execution_count": 1,
   "metadata": {},
   "outputs": [
    {
     "name": "stdout",
     "output_type": "stream",
     "text": [
      "My Name is Sathish and 19 years old"
     ]
    }
   ],
   "source": [
    "Name <- \"Sathish\"\n",
    "Age = 19\n",
    "#Cat - cat converts its arguments to character strings, concatenates them and then prints them.\n",
    "cat(\"My Name is\",Name,\"and\",Age,\"years old\")"
   ]
  },
  {
   "cell_type": "markdown",
   "metadata": {},
   "source": [
    "## Dynamic User input\n",
    "we can use readline() function to take input from the user (terminal).\n",
    "\n",
    "This function will return a single element character vector."
   ]
  },
  {
   "cell_type": "code",
   "execution_count": 2,
   "metadata": {},
   "outputs": [
    {
     "name": "stdout",
     "output_type": "stream",
     "text": [
      "Enter you name:Sathish\n",
      "Enter you age:19\n",
      "Your name is Sathish and you are 19 years old"
     ]
    }
   ],
   "source": [
    "name = readline(\"Enter you name:\")\n",
    "age = readline(prompt=\"Enter you age:\")\n",
    "cat(\"Your name is\",name,\"and you are\",age,\"years old\")"
   ]
  },
  {
   "cell_type": "markdown",
   "metadata": {},
   "source": [
    "## Type Conversion\n",
    "Adding a character string to a numeric vector converts all the elements in the vector to character."
   ]
  },
  {
   "cell_type": "code",
   "execution_count": 3,
   "metadata": {},
   "outputs": [
    {
     "name": "stdout",
     "output_type": "stream",
     "text": [
      "[1] \"integer\"\n"
     ]
    }
   ],
   "source": [
    "age=\"18\"\n",
    "num_age=as.integer(age)\n",
    "print(class(num_age))"
   ]
  },
  {
   "cell_type": "markdown",
   "metadata": {},
   "source": [
    "## MatrixSlicing\n",
    "A matrix is a 2-dimensional array that has m number of rows and n number of columns. In other words, matrix is a combination of two or more vectors with the same data type."
   ]
  },
  {
   "cell_type": "code",
   "execution_count": 4,
   "metadata": {},
   "outputs": [
    {
     "name": "stdout",
     "output_type": "stream",
     "text": [
      "[1] \"14\"\n",
      "       CA1  CA2  CA3 \n",
      "Python \"15\" \"14\" \"10\"\n",
      "R      \"12\" \"13\" \"32\"\n",
      " CA1  CA2  CA3   FA \n",
      "\"12\" \"13\" \"32\" \"34\" \n"
     ]
    }
   ],
   "source": [
    "#Matrix\n",
    "marks = matrix( c('15','14','10','8','12','13','32',\"34\"), nrow = 2, ncol = 4, byrow = TRUE,dimnames = list(c(\"Python\",\"R\"),c(\"CA1\",\"CA2\",\"CA3\",\"FA\")))\n",
    "#Python Ca-2 marks\n",
    "print(marks[\"Python\",\"CA2\"])\n",
    "# FA Marks\n",
    "print(marks[c(1,2),c(1,2,3)])\n",
    "#Only R program\n",
    "print(marks[\"R\",c(1:4)])"
   ]
  },
  {
   "cell_type": "markdown",
   "metadata": {},
   "source": [
    "## Dataframes\n",
    "A data frame is a table or a two-dimensional array-like structure in which each column contains values of one variable and each row contains one set of values from each column.\n",
    "\n",
    "Following are the characteristics of a data frame.\n",
    "\n",
    "- The column names should be non-empty.\n",
    "- The row names should be unique.\n",
    "- The data stored in a data frame can be of numeric, factor or character type.\n",
    "- Each column should contain same number of data items."
   ]
  },
  {
   "cell_type": "code",
   "execution_count": 5,
   "metadata": {},
   "outputs": [
    {
     "name": "stdout",
     "output_type": "stream",
     "text": [
      "     name age class\n",
      "1 Sathish  20    AI\n",
      "2   Karan  18    CS\n",
      "3  Sivant  19    ML\n",
      "      name        age       class \n",
      " Karan  :1   Min.   :18.0   AI:1  \n",
      " Sathish:1   1st Qu.:18.5   CS:1  \n",
      " Sivant :1   Median :19.0   ML:1  \n",
      "             Mean   :19.0         \n",
      "             3rd Qu.:19.5         \n",
      "             Max.   :20.0         \n"
     ]
    }
   ],
   "source": [
    "name = c(\"Sathish\",\"Karan\",\"Sivant\")\n",
    "age = c(20,18,19)\n",
    "class = c(\"AI\",\"CS\",\"ML\")\n",
    "df = data.frame(name,age,class)\n",
    "print(df)\n",
    "print(summary(df))"
   ]
  },
  {
   "cell_type": "markdown",
   "metadata": {},
   "source": [
    "## <font color = \"grey\" >DAY - 2 </font>"
   ]
  },
  {
   "cell_type": "markdown",
   "metadata": {},
   "source": [
    "## Vector\n",
    "Vectors are the most basic R data objects and there are six types of atomic vectors. They are logical, integer, double, complex, character and raw."
   ]
  },
  {
   "cell_type": "code",
   "execution_count": 6,
   "metadata": {},
   "outputs": [
    {
     "name": "stdout",
     "output_type": "stream",
     "text": [
      "[1] \"red\"    \"green\"  \"yellow\"\n"
     ]
    }
   ],
   "source": [
    "apple <- c('red','green',\"yellow\")\n",
    "print(apple)"
   ]
  },
  {
   "cell_type": "markdown",
   "metadata": {},
   "source": [
    "## Bypassing Scope\n",
    "R provides many different “escape hatches”—ways to bypass lexical scoping."
   ]
  },
  {
   "cell_type": "code",
   "execution_count": 7,
   "metadata": {},
   "outputs": [
    {
     "name": "stdout",
     "output_type": "stream",
     "text": [
      "[1] 25\n"
     ]
    }
   ],
   "source": [
    "num = 10\n",
    "func<-function(){\n",
    "  num<<- 25      #changing global value.<<- assigns as global irrespective of scope\n",
    "  print(num)\n",
    "}\n",
    "func()"
   ]
  },
  {
   "cell_type": "markdown",
   "metadata": {},
   "source": [
    "## CumulativeSum\n",
    "Used to calculate the cumulative sum of the vector passed as argument"
   ]
  },
  {
   "cell_type": "code",
   "execution_count": 8,
   "metadata": {},
   "outputs": [
    {
     "name": "stdout",
     "output_type": "stream",
     "text": [
      "[1] 98\n",
      "[1]  1  6 13 98\n"
     ]
    }
   ],
   "source": [
    "#Cumulative Sum\n",
    "numbers = c(1,5,7,85)\n",
    "#Summation\n",
    "print(sum(numbers))\n",
    "#Cumulative summation\n",
    "print(cumsum(numbers))"
   ]
  },
  {
   "cell_type": "markdown",
   "metadata": {},
   "source": [
    "## Decision Statements\n",
    "Decision making structures requires to specify one or more conditions to be evaluated or tested by the program, along with a statement or statements to be executed if the condition is determined to be true, and optionally, other statements to be executed if the condition is determined to be false.<br><br>\n",
    "![](https://www.tutorialspoint.com/r/images/r_decision_making.png)"
   ]
  },
  {
   "cell_type": "code",
   "execution_count": 9,
   "metadata": {},
   "outputs": [
    {
     "name": "stdout",
     "output_type": "stream",
     "text": [
      "[1] FALSE  TRUE FALSE FALSE\n",
      "[1] FALSE FALSE FALSE  TRUE\n",
      "[1]  TRUE  TRUE  TRUE FALSE\n",
      "[1] TRUE\n"
     ]
    }
   ],
   "source": [
    "#Decision Statements\n",
    "v <- c(2,5.5,6,9)\n",
    "t <- c(8,2.5,14,9)\n",
    "print(v>t)\n",
    "print(v == t)\n",
    "print(v!=t)\n",
    "print(v&&t)"
   ]
  },
  {
   "cell_type": "markdown",
   "metadata": {},
   "source": [
    "## Deleting Columns In DataFrame"
   ]
  },
  {
   "cell_type": "code",
   "execution_count": 10,
   "metadata": {},
   "outputs": [
    {
     "name": "stdout",
     "output_type": "stream",
     "text": [
      "                    Subject Score Rank\n",
      "1              Data Science    56    5\n",
      "2          Machine Learning    76    8\n",
      "3             Deep Learning    86    6\n",
      "4           Data Structures    96    7\n",
      "5 Database Managemnt System    73    9\n",
      "6         Operating Systems    87    2\n",
      "7        Python Programming    47    1\n"
     ]
    }
   ],
   "source": [
    "#Dataframe creation\n",
    "Name <- c(\"Jhon\", \"Lee\", \"Suzan\", \"Abhinav\", \"Brain\", \"Emma\", \"David\") \n",
    "#Variables\n",
    "Subject <- c(\"Data Science\", \"Machine Learning\", \"Deep Learning\", \"Data Structures\", \n",
    "             \"Database Managemnt System\", \"Operating Systems\", \"Python Programming\") \n",
    "\n",
    "Score <- c(56, 76, 86, 96, 73, 87, 47) \n",
    "\n",
    "Rank <- c(5,8,6,7,9,2,1) \n",
    "\n",
    "df = data.frame(Name,Subject,Score,Rank)\n",
    "#Deleting Columns with subset and selcting -C\n",
    "new_df = subset(df,select = -c(Name))\n",
    "print(new_df)"
   ]
  },
  {
   "cell_type": "markdown",
   "metadata": {},
   "source": [
    "## Deleting Rows In DataFrame\n"
   ]
  },
  {
   "cell_type": "code",
   "execution_count": 11,
   "metadata": {},
   "outputs": [
    {
     "name": "stdout",
     "output_type": "stream",
     "text": [
      "   Name                   Subject Score Rank\n",
      "1  Jhon              Data Science    56    5\n",
      "3 Suzan             Deep Learning    86    6\n",
      "5 Brain Database Managemnt System    73    9\n",
      "6  Emma         Operating Systems    87    2\n",
      "7 David        Python Programming    47    1\n"
     ]
    }
   ],
   "source": [
    "#Dataframe creation\n",
    "Name <- c(\"Jhon\", \"Lee\", \"Suzan\", \"Abhinav\", \"Brain\", \"Emma\", \"David\") \n",
    "#Variables\n",
    "Subject <- c(\"Data Science\", \"Machine Learning\", \"Deep Learning\", \"Data Structures\", \n",
    "             \"Database Managemnt System\", \"Operating Systems\", \"Python Programming\") \n",
    "\n",
    "Score <- c(56, 76, 86, 96, 73, 87, 47) \n",
    "\n",
    "Rank <- c(5,8,6,7,9,2,1) \n",
    "\n",
    "df = data.frame(Name,Subject,Score,Rank) \n",
    "#Slicing rows from dataframe\n",
    "df_new = df[-c(2,4),]\n",
    "print(df_new)"
   ]
  },
  {
   "cell_type": "markdown",
   "metadata": {},
   "source": [
    "## Factors\n",
    "Factors are the data objects which are used to categorize the data and store it as levels. They can store both strings and integers. They are useful in the columns which have a limited number of unique values. They are useful in data analysis for statistical modeling."
   ]
  },
  {
   "cell_type": "code",
   "execution_count": 12,
   "metadata": {},
   "outputs": [
    {
     "name": "stdout",
     "output_type": "stream",
     "text": [
      "[1] Arjun  Ravi   Tharun Ravi   Tharun Arjun  Divi  \n",
      "Levels: Arjun Divi Ravi Tharun\n",
      "factor\n",
      " Arjun   Divi   Ravi Tharun \n",
      "     2      1      2      2 \n"
     ]
    }
   ],
   "source": [
    "#Factors\n",
    "names= c(\"Arjun\",\"Ravi\",\"Tharun\",\"Ravi\",\"Tharun\",\"Arjun\",\"Divi\")\n",
    "factor = factor(names)\n",
    "#Printing unique values present in our vector\n",
    "print(factor)\n",
    "#Printing Count of unique values presnt in our vector\n",
    "print(table(factor))"
   ]
  },
  {
   "cell_type": "markdown",
   "metadata": {},
   "source": [
    "## Filling NA Values\n",
    "Missing values in data science arise when an observation is missing in a column of a data frame or contains a character value instead of numeric value. Missing values must be dropped or replaced in order to draw correct conclusion from the data."
   ]
  },
  {
   "cell_type": "code",
   "execution_count": 13,
   "metadata": {},
   "outputs": [
    {
     "name": "stdout",
     "output_type": "stream",
     "text": [
      "     Name                    Subject Score Rank\n",
      "1    Jhon               Data Science    56    5\n",
      "2     Lee Database Managemnet System     0    8\n",
      "3   Suzan              Deep Learning    86    6\n",
      "4 Abhinav            Data Structures    96    0\n",
      "5   Brain             Cyber Security    73    9\n",
      "6    Arun          Operating Systems    87    2\n",
      "7   David         Python Programming    47    0\n"
     ]
    }
   ],
   "source": [
    "#Dataframe creation\n",
    "Name <- c(\"Jhon\", \"Lee\", \"Suzan\", \"Abhinav\", \"Brain\",\"Arun\", \"David\") \n",
    "#Variables\n",
    "Subject <- c(\"Data Science\",\"Database Managemnet System\", \"Deep Learning\", \n",
    "             \"Data Structures\",\"Cyber Security\",\n",
    "             \"Operating Systems\", \"Python Programming\") \n",
    "\n",
    "Score <- c(56,NA, 86, 96, 73, 87, 47) \n",
    "\n",
    "Rank <- c(5,8,6,NA,9,2,NA) \n",
    "\n",
    "df = data.frame(Name,Subject,Score,Rank,stringsAsFactors=FALSE) \n",
    "\n",
    "#filling Na values with o\n",
    "df[is.na(df)] = 0\n",
    "print(df)"
   ]
  },
  {
   "cell_type": "markdown",
   "metadata": {},
   "source": [
    "## For Looping\n",
    "A loop statement allows us to execute a statement or group of statements multiple times and the following is the general form of a loop statement in most of the programming languages<br><br>\n",
    "![](https://www.tutorialspoint.com/r/images/loop_architecture.jpg)"
   ]
  },
  {
   "cell_type": "code",
   "execution_count": 14,
   "metadata": {},
   "outputs": [
    {
     "name": "stdout",
     "output_type": "stream",
     "text": [
      "1  2  3  4  5  6  7  8  9  10  "
     ]
    }
   ],
   "source": [
    "#For Looping\n",
    "numbers <- c(1:10)\n",
    "for (i in numbers) \n",
    "  {\n",
    "  #Prints in same line\n",
    "  cat(paste(i,\" \"))\n",
    "  }\n"
   ]
  },
  {
   "cell_type": "markdown",
   "metadata": {},
   "source": [
    "## Nested For Loops \n",
    "The inner loop executes n-times of every execution of the outer for loop and also it’s a great tool to work with R Programming Language."
   ]
  },
  {
   "cell_type": "code",
   "execution_count": 15,
   "metadata": {},
   "outputs": [
    {
     "name": "stdout",
     "output_type": "stream",
     "text": [
      "     [,1] [,2] [,3] [,4]\n",
      "[1,]    1    2    3    4\n",
      "[2,]    2    4    6    8\n",
      "[3,]    3    6    9   12\n",
      "[4,]    4    8   12   16\n"
     ]
    }
   ],
   "source": [
    "#Nested For loops\n",
    "res = matrix(nrow=4, ncol=4) # create a 4 x 4 matrix (of 4 rows and 4 columns)\n",
    "for(i in 1:nrow(res))   #Assigned a variable  ‘i’for each row\n",
    "{\n",
    "  for(j in 1:ncol(res)) #Assigned a variable  ‘j for each column\n",
    "  {\n",
    "    res[i,j] = i*j      #calculating product of two indices\n",
    "  }\n",
    "}\n",
    "print(res)\n"
   ]
  },
  {
   "cell_type": "markdown",
   "metadata": {},
   "source": [
    "## Functions - Assigning Parameters\n",
    "A function is a set of statements organized together to perform a specific task."
   ]
  },
  {
   "cell_type": "code",
   "execution_count": 16,
   "metadata": {},
   "outputs": [
    {
     "data": {
      "text/html": [
       "'Even'"
      ],
      "text/latex": [
       "'Even'"
      ],
      "text/markdown": [
       "'Even'"
      ],
      "text/plain": [
       "[1] \"Even\""
      ]
     },
     "metadata": {},
     "output_type": "display_data"
    }
   ],
   "source": [
    "#Functions\n",
    "EvenOdd<-function(num= 4,a=4,z=7){ #Defining a function with parameters\n",
    "  #conditional statements\n",
    "  if(num%%2==1)\n",
    "  {\n",
    "    return(\"Odd\")           \n",
    "  }\n",
    "  else\n",
    "  {\n",
    "    return(\"Even\")\n",
    "  }\n",
    "}\n",
    "#invoking function\n",
    "EvenOdd()"
   ]
  },
  {
   "cell_type": "markdown",
   "metadata": {},
   "source": [
    "## Functions - Passing Parameters"
   ]
  },
  {
   "cell_type": "code",
   "execution_count": 17,
   "metadata": {},
   "outputs": [
    {
     "name": "stdout",
     "output_type": "stream",
     "text": [
      "enter a number: 25\n"
     ]
    },
    {
     "data": {
      "text/html": [
       "'Odd'"
      ],
      "text/latex": [
       "'Odd'"
      ],
      "text/markdown": [
       "'Odd'"
      ],
      "text/plain": [
       "[1] \"Odd\""
      ]
     },
     "metadata": {},
     "output_type": "display_data"
    }
   ],
   "source": [
    "#Functions\n",
    "EvenOdd<-function(num= 4){     #Defining a function\n",
    "  #conditional statements\n",
    "  if(num%%2==1)\n",
    "  {\n",
    "    return(\"Odd\")           \n",
    "  }\n",
    "  else\n",
    "  {\n",
    "      return(\"Even\")\n",
    "  }\n",
    "}\n",
    "#giving parameters to the function\n",
    "EvenOdd(as.integer(readline(\"enter a number: \")))\n"
   ]
  },
  {
   "cell_type": "markdown",
   "metadata": {},
   "source": [
    "## IF statements"
   ]
  },
  {
   "cell_type": "code",
   "execution_count": 18,
   "metadata": {},
   "outputs": [
    {
     "name": "stdout",
     "output_type": "stream",
     "text": [
      "[1] 15\n",
      "[1] 8\n",
      "[1] 9\n",
      "[1] 45\n",
      "[1] 89\n",
      "[1] 23\n"
     ]
    }
   ],
   "source": [
    "#IF condidtions\n",
    "x <- c(15,8,9,45,89,23)\n",
    "for (i in 1:6)\n",
    "{\n",
    "  print(x[i])\n",
    "}"
   ]
  },
  {
   "cell_type": "markdown",
   "metadata": {},
   "source": [
    "## If - Else \n",
    "An if statement can be followed by an optional else statement which executes when the boolean expression is false."
   ]
  },
  {
   "cell_type": "code",
   "execution_count": 19,
   "metadata": {},
   "outputs": [
    {
     "name": "stdout",
     "output_type": "stream",
     "text": [
      "[1] \"Negative number\"\n"
     ]
    }
   ],
   "source": [
    "#If-Else statements\n",
    "x <- -5\n",
    "if(x > 0){\n",
    "  #If condition\n",
    "  print(\"Non-negative number\")\n",
    "} else {\n",
    "  #Else Condition\n",
    "  print(\"Negative number\")\n",
    "}"
   ]
  },
  {
   "cell_type": "markdown",
   "metadata": {},
   "source": [
    "## Inbuilt Functions\n",
    "Simple examples of in-built functions are seq(), mean(), max(), sum(x) and paste(...) etc. They are directly called by user written programs. You can refer most widely used R functions"
   ]
  },
  {
   "cell_type": "code",
   "execution_count": 20,
   "metadata": {},
   "outputs": [
    {
     "name": "stdout",
     "output_type": "stream",
     "text": [
      " [1] 47 48 49 50 51 52 53 54 55 56 57 58 59 60 61 62 63 64 65 66 67 68 69 70 71\n",
      "[26] 72 73 74 75 76 77 78 79 80 81 82 83 84 85 86 87 88 89\n",
      "[1] 43\n",
      "[1] 1526\n"
     ]
    }
   ],
   "source": [
    "#Inbuild Functions\n",
    "#Sequence of numbers \n",
    "print(seq(47,89))            #print(47:89)\n",
    "#Mean of all values in specified interval \n",
    "print(mean(18:68))\n",
    "#sum of all values\n",
    "print(sum(41:68))"
   ]
  },
  {
   "cell_type": "markdown",
   "metadata": {},
   "source": [
    "## Max,Min Vectors"
   ]
  },
  {
   "cell_type": "code",
   "execution_count": 21,
   "metadata": {},
   "outputs": [
    {
     "name": "stdout",
     "output_type": "stream",
     "text": [
      "[1]  5 85 97 14 65\n",
      "Maximum Value is the vector is:  97 \n",
      "Minimum Value in the vector is :  5 \n",
      "Length of values : 5"
     ]
    }
   ],
   "source": [
    "#Summary of data\n",
    "numbers = c(5,85,97,14,65)\n",
    "print(numbers)\n",
    "#Maximum value in a vector\n",
    "cat(\"Maximum Value is the vector is: \",max(numbers),\"\\n\")\n",
    "#Minimum value in a vector\n",
    "cat(\"Minimum Value in the vector is : \",min(numbers),\"\\n\")\n",
    "#Length of values in a vector\n",
    "cat(\"Length of values :\",length(numbers))\n"
   ]
  },
  {
   "cell_type": "markdown",
   "metadata": {},
   "source": [
    "## Merging Dataframes\n",
    "To merge two data frames (datasets) horizontally, use the merge function. In most cases, you join two data frames by one or more common key variables (i.e., an inner join)."
   ]
  },
  {
   "cell_type": "code",
   "execution_count": 22,
   "metadata": {},
   "outputs": [
    {
     "name": "stdout",
     "output_type": "stream",
     "text": [
      "     Name                   Subject Score Rank\n",
      "1    Jhon              Data Science    56    5\n",
      "2     Lee          Machine Learning    76    8\n",
      "3   Suzan             Deep Learning    86    6\n",
      "4 Abhinav           Data Structures    96    7\n",
      "5   Brain Database Managemnt System    73    9\n",
      "6    Emma         Operating Systems    87    2\n",
      "7   David        Python Programming    47    1\n",
      "8     Abi            Cyber security    78    7\n",
      "9     Anu            Cyber security    65    4\n"
     ]
    }
   ],
   "source": [
    "#Dataframe creation\n",
    "Name <- c(\"Jhon\", \"Lee\", \"Suzan\", \"Abhinav\", \"Brain\", \"Emma\", \"David\") \n",
    "#Variables\n",
    "Subject <- c(\"Data Science\", \"Machine Learning\", \"Deep Learning\", \"Data Structures\", \n",
    "             \"Database Managemnt System\", \"Operating Systems\", \"Python Programming\") \n",
    "\n",
    "Score <- c(56, 76, 86, 96, 73, 87, 47) \n",
    "\n",
    "Rank <- c(5,8,6,7,9,2,1) \n",
    "\n",
    "df_1 = data.frame(Name,Subject,Score,Rank)\n",
    "#Cre\n",
    "df_2 = data.frame(Name = c(\"Abi\",\"Anu\"),Subject = c(\"Cyber security\"),Score = c(78,65),Rank = c(7,4))\n",
    "df = rbind(df_1,df_2)\n",
    "#Merging Two DataFrames\n",
    "print(df)\n"
   ]
  },
  {
   "cell_type": "markdown",
   "metadata": {},
   "source": [
    "## Random Numbers"
   ]
  },
  {
   "cell_type": "code",
   "execution_count": 23,
   "metadata": {},
   "outputs": [
    {
     "name": "stdout",
     "output_type": "stream",
     "text": [
      "[1] 90 91 69 99 57\n",
      " [1] 69.59 64.41 99.43 65.91 71.14 54.86 59.82 29.63 15.56 96.34\n"
     ]
    }
   ],
   "source": [
    "#Random Numbers\n",
    "print(sample(1:100,5))\n",
    "#Sample integer values sample(start:end,frequency)\n",
    "print(round(runif(10,1,100),2))\n",
    "#Sample float values round(runif(frequency,start,end)frequency)"
   ]
  },
  {
   "cell_type": "markdown",
   "metadata": {},
   "source": [
    "## Dataframe Operations"
   ]
  },
  {
   "cell_type": "code",
   "execution_count": 24,
   "metadata": {},
   "outputs": [
    {
     "name": "stdout",
     "output_type": "stream",
     "text": [
      "  Candidate Name                   Subject Score Rank\n",
      "1           Jhon              Data Science    56    5\n",
      "2            Lee          Machine Learning    76    8\n",
      "3          Suzan             Deep Learning    86    6\n",
      "4        Abhinav           Data Structures    96    7\n",
      "5          Brain Database Managemnt System    73    9\n",
      "6           Emma         Operating Systems    87    2\n",
      "7          David        Python Programming    47    1\n"
     ]
    }
   ],
   "source": [
    "#Dataframe creation\n",
    "Name <- c(\"Jhon\", \"Lee\", \"Suzan\", \"Abhinav\", \"Brain\", \"Emma\", \"David\") \n",
    "#Variables\n",
    "Subject <- c(\"Data Science\", \"Machine Learning\", \"Deep Learning\", \"Data Structures\", \n",
    "             \"Database Managemnt System\", \"Operating Systems\", \"Python Programming\") \n",
    "\n",
    "Score <- c(56, 76, 86, 96, 73, 87, 47) \n",
    "\n",
    "Rank <- c(5,8,6,7,9,2,1) \n",
    "\n",
    "df = data.frame(Name,Subject,Score,Rank) \n",
    "#Renaming Column Name\n",
    "colnames(df)[which(names(df) == \"Name\")] =\"Candidate Name\"\n",
    "print(df)\n"
   ]
  },
  {
   "cell_type": "markdown",
   "metadata": {},
   "source": [
    "## Repeat\n",
    "The Repeat Function(loop) in R executes a same block of code iteratively until a stop condition is met. repeat loop in R, is similar to while and for loop, it will execute a block of commands repeatedly till break."
   ]
  },
  {
   "cell_type": "code",
   "execution_count": 25,
   "metadata": {},
   "outputs": [
    {
     "name": "stdout",
     "output_type": "stream",
     "text": [
      "[1] 5\n",
      "[1] 6\n",
      "[1] 7\n",
      "[1] 8\n",
      "[1] 9\n"
     ]
    }
   ],
   "source": [
    "#Repeat looping\n",
    "x <- 5\n",
    "repeat {\n",
    "  print(x)\n",
    "  x = x+1#Incrementing values\n",
    "  if (x == 10){\n",
    "    break\n",
    "}}"
   ]
  },
  {
   "cell_type": "markdown",
   "metadata": {},
   "source": [
    "## Repeat - Break"
   ]
  },
  {
   "cell_type": "code",
   "execution_count": 26,
   "metadata": {},
   "outputs": [
    {
     "name": "stdout",
     "output_type": "stream",
     "text": [
      "[1] \"Hello World\"\n",
      "[1] \"Hello World\"\n",
      "[1] \"Hello World\"\n",
      "[1] \"Hello World\"\n",
      "[1] \"Hello World\"\n"
     ]
    }
   ],
   "source": [
    "#repeat Break loop \n",
    "result <- c(\"Hello World\") \n",
    "i <- 1\n",
    "\n",
    "# test expression  \n",
    "repeat { \n",
    "  \n",
    "  print(result) \n",
    "  \n",
    "  # update expression  \n",
    "  i <- i + 1\n",
    "  \n",
    "  # Breaking condition \n",
    "  if(i >5) { \n",
    "    break\n",
    "  } \n",
    "} "
   ]
  },
  {
   "cell_type": "markdown",
   "metadata": {},
   "source": [
    "## <font color = \"grey\" >DAY - 3 </font>"
   ]
  },
  {
   "cell_type": "markdown",
   "metadata": {},
   "source": [
    "## Appending"
   ]
  },
  {
   "cell_type": "code",
   "execution_count": 27,
   "metadata": {},
   "outputs": [
    {
     "data": {
      "text/html": [
       "<ol class=list-inline>\n",
       "\t<li>19</li>\n",
       "\t<li>4</li>\n",
       "\t<li>14</li>\n",
       "\t<li>17</li>\n",
       "\t<li>11</li>\n",
       "\t<li>7</li>\n",
       "\t<li>5</li>\n",
       "\t<li>12</li>\n",
       "\t<li>10</li>\n",
       "\t<li>15</li>\n",
       "\t<li>108</li>\n",
       "\t<li>140</li>\n",
       "\t<li>173</li>\n",
       "\t<li>122</li>\n",
       "\t<li>126</li>\n",
       "</ol>\n"
      ],
      "text/latex": [
       "\\begin{enumerate*}\n",
       "\\item 19\n",
       "\\item 4\n",
       "\\item 14\n",
       "\\item 17\n",
       "\\item 11\n",
       "\\item 7\n",
       "\\item 5\n",
       "\\item 12\n",
       "\\item 10\n",
       "\\item 15\n",
       "\\item 108\n",
       "\\item 140\n",
       "\\item 173\n",
       "\\item 122\n",
       "\\item 126\n",
       "\\end{enumerate*}\n"
      ],
      "text/markdown": [
       "1. 19\n",
       "2. 4\n",
       "3. 14\n",
       "4. 17\n",
       "5. 11\n",
       "6. 7\n",
       "7. 5\n",
       "8. 12\n",
       "9. 10\n",
       "10. 15\n",
       "11. 108\n",
       "12. 140\n",
       "13. 173\n",
       "14. 122\n",
       "15. 126\n",
       "\n",
       "\n"
      ],
      "text/plain": [
       " [1]  19   4  14  17  11   7   5  12  10  15 108 140 173 122 126"
      ]
     },
     "metadata": {},
     "output_type": "display_data"
    }
   ],
   "source": [
    "#append to merge objects together\n",
    "#random numbers\n",
    "list1=sample(1:20,10)\n",
    "#sample(start:end,numbers)\n",
    "list2=sample(100:200,5)\n",
    "#appending two lists\n",
    "append(list1,list2)"
   ]
  },
  {
   "cell_type": "markdown",
   "metadata": {},
   "source": [
    "## Substrings\n",
    "Extract or replace substrings in a character vector."
   ]
  },
  {
   "cell_type": "code",
   "execution_count": 28,
   "metadata": {},
   "outputs": [
    {
     "name": "stdout",
     "output_type": "stream",
     "text": [
      "[1] \"rn R \"\n",
      "[1] \"thi\"\n"
     ]
    }
   ],
   "source": [
    "#substring\n",
    "#substring(\"string\",start,end)\n",
    "#substr(\"string\",start,end)\n",
    "print(substr(\"learn R program\",4,8))\n",
    "str <-\"Sathish kumar\"\n",
    "len <- nchar(\"Hello\")\n",
    "print(substring(str,len-2,len))\n"
   ]
  },
  {
   "cell_type": "markdown",
   "metadata": {},
   "source": [
    "## String Operations\n",
    "Any value written within a pair of single quote or double quotes in R is treated as a string. Internally R stores every string within double quotes, even when you create them with single quote.\n",
    "\n",
    "Rules Applied in String Construction\n",
    "- The quotes at the beginning and end of a string should be both double quotes or both single quote. They can not be mixed.\n",
    "\n",
    "\n",
    "- Double quotes can be inserted into a string starting and ending with single quote.\n",
    "\n",
    "\n",
    "- Single quote can beinserted into a string starting and ending with double quotes.\n",
    "\n",
    "\n",
    "- Double quotes can not be inserted into a string starting and ending with double quotes.\n",
    "\n",
    "\n",
    "- Single quote can not be inserted into a string starting and ending with single quote."
   ]
  },
  {
   "cell_type": "code",
   "execution_count": 29,
   "metadata": {},
   "outputs": [
    {
     "data": {
      "text/html": [
       "5"
      ],
      "text/latex": [
       "5"
      ],
      "text/markdown": [
       "5"
      ],
      "text/plain": [
       "[1] 5"
      ]
     },
     "metadata": {},
     "output_type": "display_data"
    },
    {
     "data": {
      "text/html": [
       "11"
      ],
      "text/latex": [
       "11"
      ],
      "text/markdown": [
       "11"
      ],
      "text/plain": [
       "[1] 11"
      ]
     },
     "metadata": {},
     "output_type": "display_data"
    },
    {
     "data": {
      "text/html": [
       "7"
      ],
      "text/latex": [
       "7"
      ],
      "text/markdown": [
       "7"
      ],
      "text/plain": [
       "[1] 7"
      ]
     },
     "metadata": {},
     "output_type": "display_data"
    }
   ],
   "source": [
    "#Length of String\n",
    "#Importing package\n",
    "library(stringr)\n",
    "str_length(\"Hello\")\n",
    "\n",
    "a<-\"sathish\"\n",
    "#Another way\n",
    "nchar(\"h****elo'lo\")\n",
    "nchar(a)"
   ]
  },
  {
   "cell_type": "code",
   "execution_count": 30,
   "metadata": {},
   "outputs": [
    {
     "name": "stdout",
     "output_type": "stream",
     "text": [
      "[1] \"Start and end with single quote\"\n",
      "[1] \"Start and end with double quotes\"\n",
      "[1] \"single quote ' in between double quotes\"\n",
      "[1] \"Double quotes \\\" in between single quote\"\n",
      "[1] \"hello 1 ' hello how are you ' hello \"\n",
      "[1] \"hello 1 ' hello how are you ' hello \"\n"
     ]
    }
   ],
   "source": [
    "#Types of expressing Strings\n",
    "a <- 'Start and end with single quote'\n",
    "print(a)\n",
    "\n",
    "b <- \"Start and end with double quotes\"\n",
    "print(b)\n",
    "\n",
    "c <- \"single quote ' in between double quotes\"\n",
    "print(c)\n",
    "\n",
    "d <- 'Double quotes \" in between single quote'\n",
    "print(d)\n",
    "\n",
    "#print(e <- 'Mixed\" ) (It gives as error)\n",
    "\n",
    "print(\"hello 1 ' hello how are you ' hello \")\n",
    "print('hello 1 \\' hello how are you \\' hello ')"
   ]
  },
  {
   "cell_type": "markdown",
   "metadata": {},
   "source": [
    "## Sorting\n",
    "The variable by which sort you can be a numeric, string or factor variable. You also have some options on how missing values will be handled: they can be listed first, last or removed."
   ]
  },
  {
   "cell_type": "code",
   "execution_count": 31,
   "metadata": {},
   "outputs": [
    {
     "data": {
      "text/html": [
       "<ol class=list-inline>\n",
       "\t<li>9</li>\n",
       "\t<li>8</li>\n",
       "\t<li>6</li>\n",
       "\t<li>1</li>\n",
       "</ol>\n"
      ],
      "text/latex": [
       "\\begin{enumerate*}\n",
       "\\item 9\n",
       "\\item 8\n",
       "\\item 6\n",
       "\\item 1\n",
       "\\end{enumerate*}\n"
      ],
      "text/markdown": [
       "1. 9\n",
       "2. 8\n",
       "3. 6\n",
       "4. 1\n",
       "\n",
       "\n"
      ],
      "text/plain": [
       "[1] 9 8 6 1"
      ]
     },
     "metadata": {},
     "output_type": "display_data"
    },
    {
     "data": {
      "text/html": [
       "<ol class=list-inline>\n",
       "\t<li>1</li>\n",
       "\t<li>6</li>\n",
       "\t<li>8</li>\n",
       "\t<li>9</li>\n",
       "</ol>\n"
      ],
      "text/latex": [
       "\\begin{enumerate*}\n",
       "\\item 1\n",
       "\\item 6\n",
       "\\item 8\n",
       "\\item 9\n",
       "\\end{enumerate*}\n"
      ],
      "text/markdown": [
       "1. 1\n",
       "2. 6\n",
       "3. 8\n",
       "4. 9\n",
       "\n",
       "\n"
      ],
      "text/plain": [
       "[1] 1 6 8 9"
      ]
     },
     "metadata": {},
     "output_type": "display_data"
    },
    {
     "name": "stdout",
     "output_type": "stream",
     "text": [
      "[1] \"Ajay\"    \"Arun\"    \"banana\"  \"Sathish\" \"Test\"   \n"
     ]
    }
   ],
   "source": [
    "#Built-in R features\n",
    "#sorting\n",
    "#Specifying to show in descending\n",
    "sort(c(1,8,6,9),decreasing = TRUE)\n",
    "#Default Ascending\n",
    "sort(c(1,8,6,9))\n",
    "\n",
    "names=c(\"Sathish\",\"Arun\",\"Ajay\",\"Test\",\"banana\")\n",
    "print(sort(names))"
   ]
  },
  {
   "attachments": {},
   "cell_type": "markdown",
   "metadata": {},
   "source": [
    "## Switch Expressions\n",
    "Switch case statements are a substitute for long if statements that compare a variable to several integral values. Switch case in R is a multiway branch statement. It allows a variable to be tested for equality against a list of values."
   ]
  },
  {
   "cell_type": "code",
   "execution_count": 32,
   "metadata": {},
   "outputs": [
    {
     "data": {
      "text/html": [
       "'five'"
      ],
      "text/latex": [
       "'five'"
      ],
      "text/markdown": [
       "'five'"
      ],
      "text/plain": [
       "[1] \"five\""
      ]
     },
     "metadata": {},
     "output_type": "display_data"
    },
    {
     "data": {
      "text/html": [
       "'square'"
      ],
      "text/latex": [
       "'square'"
      ],
      "text/markdown": [
       "'square'"
      ],
      "text/plain": [
       "[1] \"square\""
      ]
     },
     "metadata": {},
     "output_type": "display_data"
    }
   ],
   "source": [
    "#Switch Expression\n",
    "#switch()\n",
    "switch(5,\"one\",\"two\",\"three\",\"four\",\"five\")\n",
    "switch(2,colour = \"green\",\"shape\"=\"square\",length = \"five\")"
   ]
  },
  {
   "cell_type": "markdown",
   "metadata": {},
   "source": [
    "## Reverse\n",
    "A generic function for reversing vector-like or list-like objects."
   ]
  },
  {
   "cell_type": "code",
   "execution_count": 33,
   "metadata": {},
   "outputs": [
    {
     "data": {
      "text/html": [
       "<ol class=list-inline>\n",
       "\t<li>55</li>\n",
       "\t<li>4</li>\n",
       "\t<li>3</li>\n",
       "\t<li>2</li>\n",
       "</ol>\n"
      ],
      "text/latex": [
       "\\begin{enumerate*}\n",
       "\\item 55\n",
       "\\item 4\n",
       "\\item 3\n",
       "\\item 2\n",
       "\\end{enumerate*}\n"
      ],
      "text/markdown": [
       "1. 55\n",
       "2. 4\n",
       "3. 3\n",
       "4. 2\n",
       "\n",
       "\n"
      ],
      "text/plain": [
       "[1] 55  4  3  2"
      ]
     },
     "metadata": {},
     "output_type": "display_data"
    },
    {
     "name": "stdout",
     "output_type": "stream",
     "text": [
      " [1] 78 77 76 75 74 73 72 71 70 69 68 67 66 65 64 63 62 61 60 59 58 57 56 55 54\n",
      "[26] 53 52 51 50 49 48 47 46 45 44 43 42 41 40 39 38 37 36 35 34 33 32 31 30 29\n",
      "[51] 28 27 26 25 24 23 22 21 20 19 18 17 16 15 14 13 12 11 10  9  8  7  6  5  4\n",
      "[76]  3  2  1\n"
     ]
    }
   ],
   "source": [
    "#reversing vector \n",
    "rev(c(2,3,4,55))\n",
    "#rev()\n",
    "print(rev(c(1:78)))"
   ]
  },
  {
   "cell_type": "markdown",
   "metadata": {},
   "source": [
    "## Splicing datasets"
   ]
  },
  {
   "cell_type": "code",
   "execution_count": 34,
   "metadata": {},
   "outputs": [
    {
     "name": "stdout",
     "output_type": "stream",
     "text": [
      "     Name                   Subject Score Rank\n",
      "1    Jhon              Data Science    56    5\n",
      "2     Lee          Machine Learning    76    8\n",
      "3   Suzan             Deep Learning    86    6\n",
      "4 Abhinav           Data Structures    96    7\n",
      "5   Brain Database Managemnt System    73    9\n",
      "6    Emma         Operating Systems    87    2\n",
      "7   David        Python Programming    47    1\n",
      "[1] Jhon    Lee     Suzan   Abhinav Brain   Emma    David  \n",
      "Levels: Abhinav Brain David Emma Jhon Lee Suzan\n"
     ]
    }
   ],
   "source": [
    "#Dataframe creation\n",
    "Name <- c(\"Jhon\", \"Lee\", \"Suzan\", \"Abhinav\", \"Brain\", \"Emma\", \"David\") \n",
    "#Variables\n",
    "Subject <- c(\"Data Science\", \"Machine Learning\", \"Deep Learning\", \"Data Structures\", \n",
    "             \"Database Managemnt System\", \"Operating Systems\", \"Python Programming\") \n",
    "\n",
    "Score <- c(56, 76, 86, 96, 73, 87, 47) \n",
    "\n",
    "Rank <- c(5,8,6,7,9,2,1) \n",
    "\n",
    "df = data.frame(Name,Subject,Score,Rank)\n",
    "print(df)\n",
    "#Dataframe Created Successfully\n",
    "print(df$Name)\n",
    "#Accessing columns with dOllar symbol"
   ]
  },
  {
   "cell_type": "markdown",
   "metadata": {},
   "source": [
    "## Sqrt - Log Functions"
   ]
  },
  {
   "cell_type": "code",
   "execution_count": 35,
   "metadata": {},
   "outputs": [
    {
     "name": "stdout",
     "output_type": "stream",
     "text": [
      "[1] 2.236068\n",
      "[1] -2\n"
     ]
    }
   ],
   "source": [
    "  #sqrt,log functions\n",
    "\n",
    "print(sqrt(5))\n",
    "\n",
    "#log base10 100 multiplied by cos pi\n",
    "print(log10(100)*cos(pi))"
   ]
  },
  {
   "cell_type": "markdown",
   "metadata": {},
   "source": [
    "## Replace Strings"
   ]
  },
  {
   "cell_type": "code",
   "execution_count": 36,
   "metadata": {},
   "outputs": [
    {
     "data": {
      "text/html": [
       "<ol class=list-inline>\n",
       "\t<li>'I_like maths'</li>\n",
       "\t<li>'you_like apples'</li>\n",
       "</ol>\n"
      ],
      "text/latex": [
       "\\begin{enumerate*}\n",
       "\\item 'I\\_like maths'\n",
       "\\item 'you\\_like apples'\n",
       "\\end{enumerate*}\n"
      ],
      "text/markdown": [
       "1. 'I_like maths'\n",
       "2. 'you_like apples'\n",
       "\n",
       "\n"
      ],
      "text/plain": [
       "[1] \"I_like maths\"    \"you_like apples\""
      ]
     },
     "metadata": {},
     "output_type": "display_data"
    },
    {
     "data": {
      "text/html": [
       "<ol class=list-inline>\n",
       "\t<li>'I_like_maths'</li>\n",
       "\t<li>'you_like_apples'</li>\n",
       "</ol>\n"
      ],
      "text/latex": [
       "\\begin{enumerate*}\n",
       "\\item 'I\\_like\\_maths'\n",
       "\\item 'you\\_like\\_apples'\n",
       "\\end{enumerate*}\n"
      ],
      "text/markdown": [
       "1. 'I_like_maths'\n",
       "2. 'you_like_apples'\n",
       "\n",
       "\n"
      ],
      "text/plain": [
       "[1] \"I_like_maths\"    \"you_like_apples\""
      ]
     },
     "metadata": {},
     "output_type": "display_data"
    }
   ],
   "source": [
    "#replace string\n",
    "#sub & gsub\n",
    "\n",
    "sentences = c(\"I like maths\", \"you like apples\")\n",
    "\n",
    "#sub replaces only first instance\n",
    "sub (pattern=\" \" , replacement=\"_\",sentences)\n",
    "\n",
    "#gsub replaces all instances\n",
    "gsub (pattern=\" \" , replacement=\"_\",sentences)"
   ]
  },
  {
   "cell_type": "markdown",
   "metadata": {},
   "source": [
    "## Regular Expression\n",
    "A 'regular expression' is a pattern that describes a set of strings.<br> Two types of regular expressions are used in R, extended regular expressions (the default) and Perl-like regular expressions used by perl = TRUE . <br>There is also fixed = TRUE which can be considered to use a literal regular expression."
   ]
  },
  {
   "cell_type": "code",
   "execution_count": 37,
   "metadata": {},
   "outputs": [
    {
     "data": {
      "text/html": [
       "<ol class=list-inline>\n",
       "\t<li>FALSE</li>\n",
       "\t<li>TRUE</li>\n",
       "\t<li>TRUE</li>\n",
       "\t<li>FALSE</li>\n",
       "\t<li>FALSE</li>\n",
       "\t<li>FALSE</li>\n",
       "</ol>\n"
      ],
      "text/latex": [
       "\\begin{enumerate*}\n",
       "\\item FALSE\n",
       "\\item TRUE\n",
       "\\item TRUE\n",
       "\\item FALSE\n",
       "\\item FALSE\n",
       "\\item FALSE\n",
       "\\end{enumerate*}\n"
      ],
      "text/markdown": [
       "1. FALSE\n",
       "2. TRUE\n",
       "3. TRUE\n",
       "4. FALSE\n",
       "5. FALSE\n",
       "6. FALSE\n",
       "\n",
       "\n"
      ],
      "text/plain": [
       "[1] FALSE  TRUE  TRUE FALSE FALSE FALSE"
      ]
     },
     "metadata": {},
     "output_type": "display_data"
    },
    {
     "data": {
      "text/html": [
       "<ol class=list-inline>\n",
       "\t<li>2</li>\n",
       "\t<li>3</li>\n",
       "</ol>\n"
      ],
      "text/latex": [
       "\\begin{enumerate*}\n",
       "\\item 2\n",
       "\\item 3\n",
       "\\end{enumerate*}\n"
      ],
      "text/markdown": [
       "1. 2\n",
       "2. 3\n",
       "\n",
       "\n"
      ],
      "text/plain": [
       "[1] 2 3"
      ]
     },
     "metadata": {},
     "output_type": "display_data"
    },
    {
     "data": {
      "text/html": [
       "TRUE"
      ],
      "text/latex": [
       "TRUE"
      ],
      "text/markdown": [
       "TRUE"
      ],
      "text/plain": [
       "[1] TRUE"
      ]
     },
     "metadata": {},
     "output_type": "display_data"
    },
    {
     "data": {
      "text/html": [],
      "text/latex": [],
      "text/markdown": [],
      "text/plain": [
       "integer(0)"
      ]
     },
     "metadata": {},
     "output_type": "display_data"
    },
    {
     "data": {
      "text/html": [
       "1"
      ],
      "text/latex": [
       "1"
      ],
      "text/markdown": [
       "1"
      ],
      "text/plain": [
       "[1] 1"
      ]
     },
     "metadata": {},
     "output_type": "display_data"
    },
    {
     "data": {
      "text/html": [
       "TRUE"
      ],
      "text/latex": [
       "TRUE"
      ],
      "text/markdown": [
       "TRUE"
      ],
      "text/plain": [
       "[1] TRUE"
      ]
     },
     "metadata": {},
     "output_type": "display_data"
    }
   ],
   "source": [
    "#Regular expressions\n",
    "#grep(\"pattern\",\"variable value\")\n",
    "vector<-c('a','b','b','c','c','d')\n",
    "string <- \"Sathish\"\n",
    "num <- \"[1-9]\"\n",
    "\n",
    "#grepl in vector gives binary output of pattern\n",
    "grepl('b',vector)\n",
    "\n",
    "#grep in vector gives index of pattern\n",
    "grep(\"b\",vector)\n",
    "\n",
    "#grepl in string gives binary output of pattern\n",
    "grepl('t',string)\n",
    "\n",
    "#grep in string gives whether it is present or not\n",
    "grep(\"8\",string)\n",
    "\n",
    "#grep with index limit as pattern\n",
    "grep(num,\"sath45\")\n",
    "\n",
    "#grepl with index gives binary output of pattern\n",
    "grepl(num,\"sath45\")"
   ]
  },
  {
   "cell_type": "markdown",
   "metadata": {},
   "source": [
    "## Paste Function\n",
    "paste converts its arguments (via as. character ) to character strings, and concatenates them (separating them by the string given by sep ). "
   ]
  },
  {
   "cell_type": "code",
   "execution_count": 38,
   "metadata": {},
   "outputs": [
    {
     "data": {
      "text/html": [
       "'My Name is Sathish. I am 19 years old'"
      ],
      "text/latex": [
       "'My Name is Sathish. I am 19 years old'"
      ],
      "text/markdown": [
       "'My Name is Sathish. I am 19 years old'"
      ],
      "text/plain": [
       "[1] \"My Name is Sathish. I am 19 years old\""
      ]
     },
     "metadata": {},
     "output_type": "display_data"
    }
   ],
   "source": [
    "#Concatenating strings \n",
    "#paste(variables,sep = \"\",collapse=NULL)\n",
    "a<-\"My Name is\"\n",
    "b<- \"Sathish.\"\n",
    "c<-\"I am 19 years old\"\n",
    "paste(a,b,c,sep = \" \")"
   ]
  },
  {
   "cell_type": "markdown",
   "metadata": {},
   "source": [
    "## Next Function "
   ]
  },
  {
   "cell_type": "code",
   "execution_count": 39,
   "metadata": {},
   "outputs": [
    {
     "name": "stdout",
     "output_type": "stream",
     "text": [
      "[1] \"A\"\n",
      "[1] \"B\"\n",
      "[1] \"C\"\n",
      "[1] \"E\"\n",
      "[1] \"F\"\n",
      "[1] \"G\"\n",
      "[1] \"H\"\n",
      "[1] \"I\"\n",
      "[1] \"J\"\n",
      "[1] \"K\"\n",
      "[1] \"L\"\n",
      "[1] \"M\"\n",
      "[1] \"N\"\n",
      "[1] \"O\"\n",
      "[1] \"P\"\n",
      "[1] \"Q\"\n"
     ]
    }
   ],
   "source": [
    "#next operation\n",
    "v=LETTERS[1:17]\n",
    "for (i in v) {\n",
    "  if(i==\"D\"){\n",
    "  next                     #bypasses the value given with next\n",
    "  }\n",
    "print(i)\n",
    "}"
   ]
  },
  {
   "cell_type": "markdown",
   "metadata": {},
   "source": [
    "## Inbuilt Dataframe"
   ]
  },
  {
   "cell_type": "code",
   "execution_count": 40,
   "metadata": {},
   "outputs": [
    {
     "name": "stdout",
     "output_type": "stream",
     "text": [
      "'data.frame':\t32 obs. of  11 variables:\n",
      " $ mpg : num  21 21 22.8 21.4 18.7 18.1 14.3 24.4 22.8 19.2 ...\n",
      " $ cyl : num  6 6 4 6 8 6 8 4 4 6 ...\n",
      " $ disp: num  160 160 108 258 360 ...\n",
      " $ hp  : num  110 110 93 110 175 105 245 62 95 123 ...\n",
      " $ drat: num  3.9 3.9 3.85 3.08 3.15 2.76 3.21 3.69 3.92 3.92 ...\n",
      " $ wt  : num  2.62 2.88 2.32 3.21 3.44 ...\n",
      " $ qsec: num  16.5 17 18.6 19.4 17 ...\n",
      " $ vs  : num  0 0 1 1 0 1 0 1 1 1 ...\n",
      " $ am  : num  1 1 1 0 0 0 0 0 0 0 ...\n",
      " $ gear: num  4 4 4 3 3 3 3 4 4 4 ...\n",
      " $ carb: num  4 4 1 1 2 1 4 2 2 4 ...\n"
     ]
    },
    {
     "data": {
      "text/plain": [
       "      mpg             cyl             disp             hp       \n",
       " Min.   :10.40   Min.   :4.000   Min.   : 71.1   Min.   : 52.0  \n",
       " 1st Qu.:15.43   1st Qu.:4.000   1st Qu.:120.8   1st Qu.: 96.5  \n",
       " Median :19.20   Median :6.000   Median :196.3   Median :123.0  \n",
       " Mean   :20.09   Mean   :6.188   Mean   :230.7   Mean   :146.7  \n",
       " 3rd Qu.:22.80   3rd Qu.:8.000   3rd Qu.:326.0   3rd Qu.:180.0  \n",
       " Max.   :33.90   Max.   :8.000   Max.   :472.0   Max.   :335.0  \n",
       "      drat             wt             qsec             vs        \n",
       " Min.   :2.760   Min.   :1.513   Min.   :14.50   Min.   :0.0000  \n",
       " 1st Qu.:3.080   1st Qu.:2.581   1st Qu.:16.89   1st Qu.:0.0000  \n",
       " Median :3.695   Median :3.325   Median :17.71   Median :0.0000  \n",
       " Mean   :3.597   Mean   :3.217   Mean   :17.85   Mean   :0.4375  \n",
       " 3rd Qu.:3.920   3rd Qu.:3.610   3rd Qu.:18.90   3rd Qu.:1.0000  \n",
       " Max.   :4.930   Max.   :5.424   Max.   :22.90   Max.   :1.0000  \n",
       "       am              gear            carb      \n",
       " Min.   :0.0000   Min.   :3.000   Min.   :1.000  \n",
       " 1st Qu.:0.0000   1st Qu.:3.000   1st Qu.:2.000  \n",
       " Median :0.0000   Median :4.000   Median :2.000  \n",
       " Mean   :0.4062   Mean   :3.688   Mean   :2.812  \n",
       " 3rd Qu.:1.0000   3rd Qu.:4.000   3rd Qu.:4.000  \n",
       " Max.   :1.0000   Max.   :5.000   Max.   :8.000  "
      ]
     },
     "metadata": {},
     "output_type": "display_data"
    }
   ],
   "source": [
    "#Dataframes\n",
    "str(mtcars)#inbuilt dataframe\n",
    "summary(mtcars)"
   ]
  },
  {
   "cell_type": "markdown",
   "metadata": {},
   "source": [
    "## Date-time\n",
    " R provides a broad range of capabilities to deal with times and dates. While these ideas are quite fundamental to R programming, they have been left until now as some of the best ways of using them comes with in add-on packages."
   ]
  },
  {
   "cell_type": "code",
   "execution_count": 41,
   "metadata": {},
   "outputs": [
    {
     "data": {
      "text/html": [
       "<time datetime=\"2020-11-15\">2020-11-15</time>"
      ],
      "text/latex": [
       "2020-11-15"
      ],
      "text/markdown": [
       "2020-11-15"
      ],
      "text/plain": [
       "[1] \"2020-11-15\""
      ]
     },
     "metadata": {},
     "output_type": "display_data"
    },
    {
     "data": {
      "text/plain": [
       "[1] \"2020-11-15 18:05:12 IST\""
      ]
     },
     "metadata": {},
     "output_type": "display_data"
    },
    {
     "data": {
      "text/html": [
       "'character'"
      ],
      "text/latex": [
       "'character'"
      ],
      "text/markdown": [
       "'character'"
      ],
      "text/plain": [
       "[1] \"character\""
      ]
     },
     "metadata": {},
     "output_type": "display_data"
    },
    {
     "data": {
      "text/html": [
       "'Date'"
      ],
      "text/latex": [
       "'Date'"
      ],
      "text/markdown": [
       "'Date'"
      ],
      "text/plain": [
       "[1] \"Date\""
      ]
     },
     "metadata": {},
     "output_type": "display_data"
    },
    {
     "name": "stdout",
     "output_type": "stream",
     "text": [
      "[1] \"1990-11-03\"\n"
     ]
    },
    {
     "data": {
      "text/plain": [
       "[1] \"2020-11-15 11:02:03 IST\""
      ]
     },
     "metadata": {},
     "output_type": "display_data"
    }
   ],
   "source": [
    "#Date - time\n",
    "Sys.Date()\n",
    "#Time in system\n",
    "Sys.time()\n",
    "\n",
    "g<- \"2020-11-4\"\n",
    "class(g)\n",
    "#Converting String to date\n",
    "y=as.Date(g)\n",
    "#Here class will be date\n",
    "class(y)\n",
    "#Changing Date to specified format\n",
    "my.date=as.Date(\"Nov-03-90\",format=\"%b-%d-%y\")\n",
    "print(my.date)\n",
    "#Converts Date-tiem to specified format\n",
    "as.POSIXlt(\"11:02:03\",format=\"%H:%M:%S\")\n"
   ]
  },
  {
   "cell_type": "markdown",
   "metadata": {},
   "source": [
    "## Datatypes"
   ]
  },
  {
   "cell_type": "code",
   "execution_count": 42,
   "metadata": {},
   "outputs": [
    {
     "data": {
      "text/html": [
       "FALSE"
      ],
      "text/latex": [
       "FALSE"
      ],
      "text/markdown": [
       "FALSE"
      ],
      "text/plain": [
       "[1] FALSE"
      ]
     },
     "metadata": {},
     "output_type": "display_data"
    },
    {
     "data": {
      "text/html": [
       "FALSE"
      ],
      "text/latex": [
       "FALSE"
      ],
      "text/markdown": [
       "FALSE"
      ],
      "text/plain": [
       "[1] FALSE"
      ]
     },
     "metadata": {},
     "output_type": "display_data"
    },
    {
     "data": {
      "text/html": [
       "FALSE"
      ],
      "text/latex": [
       "FALSE"
      ],
      "text/markdown": [
       "FALSE"
      ],
      "text/plain": [
       "[1] FALSE"
      ]
     },
     "metadata": {},
     "output_type": "display_data"
    },
    {
     "data": {
      "text/html": [
       "TRUE"
      ],
      "text/latex": [
       "TRUE"
      ],
      "text/markdown": [
       "TRUE"
      ],
      "text/plain": [
       "[1] TRUE"
      ]
     },
     "metadata": {},
     "output_type": "display_data"
    },
    {
     "data": {
      "text/html": [
       "FALSE"
      ],
      "text/latex": [
       "FALSE"
      ],
      "text/markdown": [
       "FALSE"
      ],
      "text/plain": [
       "[1] FALSE"
      ]
     },
     "metadata": {},
     "output_type": "display_data"
    },
    {
     "data": {
      "text/html": [
       "TRUE"
      ],
      "text/latex": [
       "TRUE"
      ],
      "text/markdown": [
       "TRUE"
      ],
      "text/plain": [
       "[1] TRUE"
      ]
     },
     "metadata": {},
     "output_type": "display_data"
    },
    {
     "data": {
      "text/html": [
       "FALSE"
      ],
      "text/latex": [
       "FALSE"
      ],
      "text/markdown": [
       "FALSE"
      ],
      "text/plain": [
       "[1] FALSE"
      ]
     },
     "metadata": {},
     "output_type": "display_data"
    },
    {
     "data": {
      "text/html": [
       "FALSE"
      ],
      "text/latex": [
       "FALSE"
      ],
      "text/markdown": [
       "FALSE"
      ],
      "text/plain": [
       "[1] FALSE"
      ]
     },
     "metadata": {},
     "output_type": "display_data"
    }
   ],
   "source": [
    "#Datatype check\n",
    "h <- \"Sathish\"\n",
    "#Checking for Datatypes\n",
    "is.double(h)\n",
    "is.matrix(h)\n",
    "is.array(h)\n",
    "is.atomic(h)\n",
    "is.call(h)\n",
    "is.character(h)\n",
    "is.complex(h)\n",
    "is.data.frame(h)"
   ]
  },
  {
   "cell_type": "markdown",
   "metadata": {},
   "source": [
    "## Basic Calculator"
   ]
  },
  {
   "cell_type": "code",
   "execution_count": 43,
   "metadata": {},
   "outputs": [
    {
     "name": "stdout",
     "output_type": "stream",
     "text": [
      "[1] \"Select operation.\"\n",
      "[1] \"1.Add\"\n",
      "[1] \"2.Subtract\"\n",
      "[1] \"3.Multiply\"\n",
      "[1] \"4.Divide\"\n",
      "Enter choice[1/2/3/4]: 2\n",
      "Enter first number: 78\n",
      "Enter second number: 9\n",
      "[1] \"78 - 9 = 69\"\n"
     ]
    }
   ],
   "source": [
    "#Simple Calculator\n",
    "#add function\n",
    "add <- function(x, y) {\n",
    "  return(x + y)\n",
    "}\n",
    "#subtract\n",
    "subtract <- function(x, y) {\n",
    "  return(x - y)\n",
    "}\n",
    "#Multiply\n",
    "multiply <- function(x, y) {\n",
    "  return(x * y)\n",
    "}\n",
    "#Divide\n",
    "divide <- function(x, y) {\n",
    "  return(x / y)\n",
    "}\n",
    "# take input from the user\n",
    "print(\"Select operation.\")\n",
    "print(\"1.Add\")\n",
    "print(\"2.Subtract\")\n",
    "print(\"3.Multiply\")\n",
    "print(\"4.Divide\")\n",
    "#Taking the choice of the user\n",
    "choice = as.integer(readline(prompt=\"Enter choice[1/2/3/4]: \"))\n",
    "num1 = as.integer(readline(prompt=\"Enter first number: \"))\n",
    "num2 = as.integer(readline(prompt=\"Enter second number: \"))\n",
    "operator <- switch(choice,\"+\",\"-\",\"*\",\"/\")\n",
    "result <- switch(choice, add(num1, num2), subtract(num1, num2), multiply(num1, num2), divide(num1, num2))\n",
    "print(paste(num1, operator, num2, \"=\", result))"
   ]
  },
  {
   "cell_type": "markdown",
   "metadata": {},
   "source": [
    "## <font color = \"grey\" >DAY - 4 </font>"
   ]
  },
  {
   "cell_type": "markdown",
   "metadata": {},
   "source": [
    "## Dataframe Slicing"
   ]
  },
  {
   "cell_type": "code",
   "execution_count": 44,
   "metadata": {},
   "outputs": [
    {
     "name": "stdout",
     "output_type": "stream",
     "text": [
      "  ï..Name Age   phone Salary\n",
      "1 sathish  45 9155525   1485\n",
      "2   arjun  78   21561   5455\n",
      "3   karan  89 4514444    955\n",
      "4  sivant  21     556    255\n",
      "5    Raja  64   54674   7555\n",
      "6    siva  14     564   5552\n",
      "[1] \"Maximum Salary:  7555\"\n",
      "  ï..Name Age phone Salary\n",
      "5    Raja  64 54674   7555\n",
      "  ï..Name Age   phone Salary\n",
      "2   arjun  78   21561   5455\n",
      "3   karan  89 4514444    955\n",
      "5    Raja  64   54674   7555\n",
      "  ï..Name Age phone Salary\n",
      "2   arjun  78 21561   5455\n",
      "5    Raja  64 54674   7555\n",
      "  ï..Name Age   phone Salary\n",
      "2   arjun  78   21561   5455\n",
      "3   karan  89 4514444    955\n",
      "5    Raja  64   54674   7555\n",
      "6    siva  14     564   5552\n"
     ]
    }
   ],
   "source": [
    "#Reading a CSV File\n",
    "df<-read.csv(\"E:/R Programs For Practice/DAY - 4/Class/Data/EmployeeDetails.csv\")\n",
    "#Data\n",
    "print(df)\n",
    "#Maximum value for a single column\n",
    "print(paste(\"Maximum Salary: \",max(df$Salary)))\n",
    "#Splicing the record with higer salary\n",
    "details=subset(df,Salary==max(Salary))\n",
    "print(details)\n",
    "#Splicing person with age greater than 50\n",
    "aged_ppl=subset(df,Age>=50)\n",
    "print(aged_ppl)\n",
    "#Satisying Two condition using and & operator\n",
    "aged_ppl_and_high_salary=subset(df,Age>=50&Salary>5000)\n",
    "print(aged_ppl_and_high_salary)\n",
    "#Satisying Any one condition using and | operator\n",
    "aged_ppl_or_high_salary=subset(df,Age>=50|Salary>5000)\n",
    "print(aged_ppl_or_high_salary)\n"
   ]
  },
  {
   "cell_type": "markdown",
   "metadata": {},
   "source": [
    "## File location Locator"
   ]
  },
  {
   "cell_type": "code",
   "execution_count": 45,
   "metadata": {},
   "outputs": [
    {
     "data": {
      "text/html": [
       "'E:/R Programs For Practice'"
      ],
      "text/latex": [
       "'E:/R Programs For Practice'"
      ],
      "text/markdown": [
       "'E:/R Programs For Practice'"
      ],
      "text/plain": [
       "[1] \"E:/R Programs For Practice\""
      ]
     },
     "metadata": {},
     "output_type": "display_data"
    }
   ],
   "source": [
    "#File location\n",
    "#gets the present file location\n",
    "getwd()\n",
    "#set the location for our file\n",
    "setwd(\"E:/R Programs For Practice/DAY - 4/Class\")\n"
   ]
  },
  {
   "cell_type": "markdown",
   "metadata": {},
   "source": [
    "## Reading Csv File"
   ]
  },
  {
   "cell_type": "code",
   "execution_count": 46,
   "metadata": {},
   "outputs": [
    {
     "name": "stdout",
     "output_type": "stream",
     "text": [
      "  ï..Name Age   phone Salary\n",
      "1 sathish  45 9155525   1485\n",
      "2   arjun  78   21561   5455\n",
      "3   karan  89 4514444    955\n",
      "4  sivant  21     556    255\n",
      "5    Raja  64   54674   7555\n",
      "6    siva  14     564   5552\n",
      "[1] TRUE\n",
      "[1] 4\n",
      "[1] 6\n"
     ]
    }
   ],
   "source": [
    "#Reading a CSV File\n",
    "df<-read.csv(\"E:/R Programs For Practice/DAY - 4/Class/Data/EmployeeDetails.csv\")\n",
    "#Data\n",
    "print(df)\n",
    "#Checking if it is a dataframe\n",
    "print(is.data.frame(df))\n",
    "#Number of columns\n",
    "print(ncol(df))\n",
    "#Number of rows\n",
    "print(nrow(df))"
   ]
  },
  {
   "cell_type": "markdown",
   "metadata": {},
   "source": [
    "## Writing a Csv File"
   ]
  },
  {
   "cell_type": "code",
   "execution_count": 47,
   "metadata": {},
   "outputs": [
    {
     "name": "stdout",
     "output_type": "stream",
     "text": [
      "  ï..Name Age   phone Salary\n",
      "1 sathish  45 9155525   1485\n",
      "2   arjun  78   21561   5455\n",
      "3   karan  89 4514444    955\n",
      "4  sivant  21     556    255\n",
      "5    Raja  64   54674   7555\n",
      "6    siva  14     564   5552\n",
      "  X ï..Name Age   phone Salary\n",
      "1 1 sathish  45 9155525   1485\n",
      "2 2   arjun  78   21561   5455\n",
      "3 3   karan  89 4514444    955\n",
      "4 4  sivant  21     556    255\n",
      "5 5    Raja  64   54674   7555\n",
      "6 6    siva  14     564   5552\n"
     ]
    }
   ],
   "source": [
    "df<-read.csv(\"E:/R Programs For Practice/DAY - 4/Class/Data/EmployeeDetails.csv\")\n",
    "#Data\n",
    "print(df)\n",
    "#writig dataframe to csv\n",
    "write.csv(df,\"test.csv\",row.names = TRUE)\n",
    "#reading again the file for check\n",
    "data = read.csv(\"test.csv\")\n",
    "print(data)\n"
   ]
  },
  {
   "cell_type": "markdown",
   "metadata": {},
   "source": [
    "## <font color = \"grey\" >DAY - 5 </font>"
   ]
  },
  {
   "cell_type": "markdown",
   "metadata": {},
   "source": [
    "## ggplot layers"
   ]
  },
  {
   "cell_type": "code",
   "execution_count": 48,
   "metadata": {},
   "outputs": [
    {
     "name": "stderr",
     "output_type": "stream",
     "text": [
      "Warning message:\n",
      "\"package 'ggplot2' was built under R version 3.6.3\"`geom_smooth()` using method = 'loess' and formula 'y ~ x'\n"
     ]
    },
    {
     "data": {
      "image/png": "[encoded data removed]",
      "text/plain": [
       "plot without title"
      ]
     },
     "metadata": {},
     "output_type": "display_data"
    }
   ],
   "source": [
    "#ggplot-grammar of graphics\n",
    "#data visualisation is the graphical representation of information\n",
    "#import packages\n",
    "library('ggplot2')\n",
    "library('ggplot2movies')\n",
    "#layers of ggplot:\n",
    "#data,asthetics,geometry,customisationfacets,Statistics,Cordinates\n",
    "#for first three layers  in ggplot we can use comma\n",
    "pl=ggplot(data=mtcars,aes(x=mpg,y=hp))\n",
    "pl+geom_point()+facet_grid(cyl ~ .)+\n",
    "  stat_smooth()+coord_cartesian(xlim=c(10,35))+theme_bw()\n",
    "#facet grid is applying the factor method to get the unique values\n",
    "#coord cartion is used to limit the cordinates"
   ]
  },
  {
   "cell_type": "markdown",
   "metadata": {},
   "source": [
    "## ggplot Histogram"
   ]
  },
  {
   "cell_type": "code",
   "execution_count": 49,
   "metadata": {},
   "outputs": [
    {
     "data": {
      "text/html": [
       "<ol class=list-inline>\n",
       "\t<li>'title'</li>\n",
       "\t<li>'year'</li>\n",
       "\t<li>'length'</li>\n",
       "\t<li>'budget'</li>\n",
       "\t<li>'rating'</li>\n",
       "\t<li>'votes'</li>\n",
       "\t<li>'r1'</li>\n",
       "\t<li>'r2'</li>\n",
       "\t<li>'r3'</li>\n",
       "\t<li>'r4'</li>\n",
       "\t<li>'r5'</li>\n",
       "\t<li>'r6'</li>\n",
       "\t<li>'r7'</li>\n",
       "\t<li>'r8'</li>\n",
       "\t<li>'r9'</li>\n",
       "\t<li>'r10'</li>\n",
       "\t<li>'mpaa'</li>\n",
       "\t<li>'Action'</li>\n",
       "\t<li>'Animation'</li>\n",
       "\t<li>'Comedy'</li>\n",
       "\t<li>'Drama'</li>\n",
       "\t<li>'Documentary'</li>\n",
       "\t<li>'Romance'</li>\n",
       "\t<li>'Short'</li>\n",
       "</ol>\n"
      ],
      "text/latex": [
       "\\begin{enumerate*}\n",
       "\\item 'title'\n",
       "\\item 'year'\n",
       "\\item 'length'\n",
       "\\item 'budget'\n",
       "\\item 'rating'\n",
       "\\item 'votes'\n",
       "\\item 'r1'\n",
       "\\item 'r2'\n",
       "\\item 'r3'\n",
       "\\item 'r4'\n",
       "\\item 'r5'\n",
       "\\item 'r6'\n",
       "\\item 'r7'\n",
       "\\item 'r8'\n",
       "\\item 'r9'\n",
       "\\item 'r10'\n",
       "\\item 'mpaa'\n",
       "\\item 'Action'\n",
       "\\item 'Animation'\n",
       "\\item 'Comedy'\n",
       "\\item 'Drama'\n",
       "\\item 'Documentary'\n",
       "\\item 'Romance'\n",
       "\\item 'Short'\n",
       "\\end{enumerate*}\n"
      ],
      "text/markdown": [
       "1. 'title'\n",
       "2. 'year'\n",
       "3. 'length'\n",
       "4. 'budget'\n",
       "5. 'rating'\n",
       "6. 'votes'\n",
       "7. 'r1'\n",
       "8. 'r2'\n",
       "9. 'r3'\n",
       "10. 'r4'\n",
       "11. 'r5'\n",
       "12. 'r6'\n",
       "13. 'r7'\n",
       "14. 'r8'\n",
       "15. 'r9'\n",
       "16. 'r10'\n",
       "17. 'mpaa'\n",
       "18. 'Action'\n",
       "19. 'Animation'\n",
       "20. 'Comedy'\n",
       "21. 'Drama'\n",
       "22. 'Documentary'\n",
       "23. 'Romance'\n",
       "24. 'Short'\n",
       "\n",
       "\n"
      ],
      "text/plain": [
       " [1] \"title\"       \"year\"        \"length\"      \"budget\"      \"rating\"     \n",
       " [6] \"votes\"       \"r1\"          \"r2\"          \"r3\"          \"r4\"         \n",
       "[11] \"r5\"          \"r6\"          \"r7\"          \"r8\"          \"r9\"         \n",
       "[16] \"r10\"         \"mpaa\"        \"Action\"      \"Animation\"   \"Comedy\"     \n",
       "[21] \"Drama\"       \"Documentary\" \"Romance\"     \"Short\"      "
      ]
     },
     "metadata": {},
     "output_type": "display_data"
    },
    {
     "data": {
      "text/html": [
       "<table>\n",
       "<thead><tr><th scope=col>title</th><th scope=col>year</th><th scope=col>length</th><th scope=col>budget</th><th scope=col>rating</th><th scope=col>votes</th><th scope=col>r1</th><th scope=col>r2</th><th scope=col>r3</th><th scope=col>r4</th><th scope=col>...</th><th scope=col>r9</th><th scope=col>r10</th><th scope=col>mpaa</th><th scope=col>Action</th><th scope=col>Animation</th><th scope=col>Comedy</th><th scope=col>Drama</th><th scope=col>Documentary</th><th scope=col>Romance</th><th scope=col>Short</th></tr></thead>\n",
       "<tbody>\n",
       "\t<tr><td>$                       </td><td>1971                    </td><td>121                     </td><td>NA                      </td><td>6.4                     </td><td>348                     </td><td> 4.5                    </td><td> 4.5                    </td><td>4.5                     </td><td> 4.5                    </td><td>...                     </td><td> 4.5                    </td><td> 4.5                    </td><td>                        </td><td>0                       </td><td>0                       </td><td>1                       </td><td>1                       </td><td>0                       </td><td>0                       </td><td>0                       </td></tr>\n",
       "\t<tr><td>$1000 a Touchdown       </td><td>1939                    </td><td> 71                     </td><td>NA                      </td><td>6.0                     </td><td> 20                     </td><td> 0.0                    </td><td>14.5                    </td><td>4.5                     </td><td>24.5                    </td><td>...                     </td><td> 4.5                    </td><td>14.5                    </td><td>                        </td><td>0                       </td><td>0                       </td><td>1                       </td><td>0                       </td><td>0                       </td><td>0                       </td><td>0                       </td></tr>\n",
       "\t<tr><td>$21 a Day Once a Month  </td><td>1941                    </td><td>  7                     </td><td>NA                      </td><td>8.2                     </td><td>  5                     </td><td> 0.0                    </td><td> 0.0                    </td><td>0.0                     </td><td> 0.0                    </td><td>...                     </td><td>24.5                    </td><td>24.5                    </td><td>                        </td><td>0                       </td><td>1                       </td><td>0                       </td><td>0                       </td><td>0                       </td><td>0                       </td><td>1                       </td></tr>\n",
       "\t<tr><td>$40,000                 </td><td>1996                    </td><td> 70                     </td><td>NA                      </td><td>8.2                     </td><td>  6                     </td><td>14.5                    </td><td> 0.0                    </td><td>0.0                     </td><td> 0.0                    </td><td>...                     </td><td>34.5                    </td><td>45.5                    </td><td>                        </td><td>0                       </td><td>0                       </td><td>1                       </td><td>0                       </td><td>0                       </td><td>0                       </td><td>0                       </td></tr>\n",
       "\t<tr><td>$50,000 Climax Show, The</td><td>1975                    </td><td> 71                     </td><td>NA                      </td><td>3.4                     </td><td> 17                     </td><td>24.5                    </td><td> 4.5                    </td><td>0.0                     </td><td>14.5                    </td><td>...                     </td><td> 0.0                    </td><td>24.5                    </td><td>                        </td><td>0                       </td><td>0                       </td><td>0                       </td><td>0                       </td><td>0                       </td><td>0                       </td><td>0                       </td></tr>\n",
       "\t<tr><td>$pent                   </td><td>2000                    </td><td> 91                     </td><td>NA                      </td><td>4.3                     </td><td> 45                     </td><td> 4.5                    </td><td> 4.5                    </td><td>4.5                     </td><td>14.5                    </td><td>...                     </td><td>14.5                    </td><td>14.5                    </td><td>                        </td><td>0                       </td><td>0                       </td><td>0                       </td><td>1                       </td><td>0                       </td><td>0                       </td><td>0                       </td></tr>\n",
       "</tbody>\n",
       "</table>\n"
      ],
      "text/latex": [
       "\\begin{tabular}{r|llllllllllllllllllllllll}\n",
       " title & year & length & budget & rating & votes & r1 & r2 & r3 & r4 & ... & r9 & r10 & mpaa & Action & Animation & Comedy & Drama & Documentary & Romance & Short\\\\\n",
       "\\hline\n",
       "\t \\$                        & 1971                       & 121                        & NA                         & 6.4                        & 348                        &  4.5                       &  4.5                       & 4.5                        &  4.5                       & ...                        &  4.5                       &  4.5                       &                            & 0                          & 0                          & 1                          & 1                          & 0                          & 0                          & 0                         \\\\\n",
       "\t \\$1000 a Touchdown        & 1939                       &  71                        & NA                         & 6.0                        &  20                        &  0.0                       & 14.5                       & 4.5                        & 24.5                       & ...                        &  4.5                       & 14.5                       &                            & 0                          & 0                          & 1                          & 0                          & 0                          & 0                          & 0                         \\\\\n",
       "\t \\$21 a Day Once a Month   & 1941                       &   7                        & NA                         & 8.2                        &   5                        &  0.0                       &  0.0                       & 0.0                        &  0.0                       & ...                        & 24.5                       & 24.5                       &                            & 0                          & 1                          & 0                          & 0                          & 0                          & 0                          & 1                         \\\\\n",
       "\t \\$40,000                  & 1996                       &  70                        & NA                         & 8.2                        &   6                        & 14.5                       &  0.0                       & 0.0                        &  0.0                       & ...                        & 34.5                       & 45.5                       &                            & 0                          & 0                          & 1                          & 0                          & 0                          & 0                          & 0                         \\\\\n",
       "\t \\$50,000 Climax Show, The & 1975                       &  71                        & NA                         & 3.4                        &  17                        & 24.5                       &  4.5                       & 0.0                        & 14.5                       & ...                        &  0.0                       & 24.5                       &                            & 0                          & 0                          & 0                          & 0                          & 0                          & 0                          & 0                         \\\\\n",
       "\t \\$pent                    & 2000                       &  91                        & NA                         & 4.3                        &  45                        &  4.5                       &  4.5                       & 4.5                        & 14.5                       & ...                        & 14.5                       & 14.5                       &                            & 0                          & 0                          & 0                          & 1                          & 0                          & 0                          & 0                         \\\\\n",
       "\\end{tabular}\n"
      ],
      "text/markdown": [
       "\n",
       "| title | year | length | budget | rating | votes | r1 | r2 | r3 | r4 | ... | r9 | r10 | mpaa | Action | Animation | Comedy | Drama | Documentary | Romance | Short |\n",
       "|---|---|---|---|---|---|---|---|---|---|---|---|---|---|---|---|---|---|---|---|---|\n",
       "| $                        | 1971                     | 121                      | NA                       | 6.4                      | 348                      |  4.5                     |  4.5                     | 4.5                      |  4.5                     | ...                      |  4.5                     |  4.5                     |                          | 0                        | 0                        | 1                        | 1                        | 0                        | 0                        | 0                        |\n",
       "| $1000 a Touchdown        | 1939                     |  71                      | NA                       | 6.0                      |  20                      |  0.0                     | 14.5                     | 4.5                      | 24.5                     | ...                      |  4.5                     | 14.5                     |                          | 0                        | 0                        | 1                        | 0                        | 0                        | 0                        | 0                        |\n",
       "| $21 a Day Once a Month   | 1941                     |   7                      | NA                       | 8.2                      |   5                      |  0.0                     |  0.0                     | 0.0                      |  0.0                     | ...                      | 24.5                     | 24.5                     |                          | 0                        | 1                        | 0                        | 0                        | 0                        | 0                        | 1                        |\n",
       "| $40,000                  | 1996                     |  70                      | NA                       | 8.2                      |   6                      | 14.5                     |  0.0                     | 0.0                      |  0.0                     | ...                      | 34.5                     | 45.5                     |                          | 0                        | 0                        | 1                        | 0                        | 0                        | 0                        | 0                        |\n",
       "| $50,000 Climax Show, The | 1975                     |  71                      | NA                       | 3.4                      |  17                      | 24.5                     |  4.5                     | 0.0                      | 14.5                     | ...                      |  0.0                     | 24.5                     |                          | 0                        | 0                        | 0                        | 0                        | 0                        | 0                        | 0                        |\n",
       "| $pent                    | 2000                     |  91                      | NA                       | 4.3                      |  45                      |  4.5                     |  4.5                     | 4.5                      | 14.5                     | ...                      | 14.5                     | 14.5                     |                          | 0                        | 0                        | 0                        | 1                        | 0                        | 0                        | 0                        |\n",
       "\n"
      ],
      "text/plain": [
       "  title                    year length budget rating votes r1   r2   r3  r4  \n",
       "1 $                        1971 121    NA     6.4    348    4.5  4.5 4.5  4.5\n",
       "2 $1000 a Touchdown        1939  71    NA     6.0     20    0.0 14.5 4.5 24.5\n",
       "3 $21 a Day Once a Month   1941   7    NA     8.2      5    0.0  0.0 0.0  0.0\n",
       "4 $40,000                  1996  70    NA     8.2      6   14.5  0.0 0.0  0.0\n",
       "5 $50,000 Climax Show, The 1975  71    NA     3.4     17   24.5  4.5 0.0 14.5\n",
       "6 $pent                    2000  91    NA     4.3     45    4.5  4.5 4.5 14.5\n",
       "  ... r9   r10  mpaa Action Animation Comedy Drama Documentary Romance Short\n",
       "1 ...  4.5  4.5      0      0         1      1     0           0       0    \n",
       "2 ...  4.5 14.5      0      0         1      0     0           0       0    \n",
       "3 ... 24.5 24.5      0      1         0      0     0           0       1    \n",
       "4 ... 34.5 45.5      0      0         1      0     0           0       0    \n",
       "5 ...  0.0 24.5      0      0         0      0     0           0       0    \n",
       "6 ... 14.5 14.5      0      0         0      1     0           0       0    "
      ]
     },
     "metadata": {},
     "output_type": "display_data"
    },
    {
     "data": {
      "image/png": "[encoded data removed]",
      "text/plain": [
       "plot without title"
      ]
     },
     "metadata": {},
     "output_type": "display_data"
    }
   ],
   "source": [
    "#Histogram\n",
    "#Importing Packages\n",
    "library('ggplot2')\n",
    "library('ggplot2movies')\n",
    "colnames(movies)\n",
    "head(movies)\n",
    "#frequency of the rating column is done by histogram\n",
    "pl=ggplot(data=movies,aes(x=rating))\n",
    "#geometry\n",
    "l=pl+geom_histogram(binwidth=3,color='red',fill=\"blue\",alpha=0.3)\n",
    "l+xlab(\"Movie rating\")+ylab(\"Movies count\")+ggtitle('MY FIRST CODE')"
   ]
  },
  {
   "cell_type": "markdown",
   "metadata": {},
   "source": [
    "## Bar plot\n",
    "Bar plots can be created in R using the barplot() function. We can supply a vector or matrix to this function."
   ]
  },
  {
   "cell_type": "code",
   "execution_count": 50,
   "metadata": {},
   "outputs": [
    {
     "name": "stdout",
     "output_type": "stream",
     "text": [
      " [1] 4 4 4 3 3 3 3 4 4 4 4 3 3 3 3 3 3 4 4 4 3 3 3 3 3 4 5 5 5 5 5 4\n"
     ]
    },
    {
     "data": {
      "image/png": "[encoded data removed]",
      "text/plain": [
       "plot without title"
      ]
     },
     "metadata": {},
     "output_type": "display_data"
    }
   ],
   "source": [
    "#taking gear column values from mtcars\n",
    "count=mtcars$gear\n",
    "print(count)\n",
    "#changing raw data to frequency values\n",
    "table=table(count)\n",
    "#barplot(table name,horiz = true)\n",
    "#deafult horiz is false\n",
    "barplot(table,horiz = TRUE)\n"
   ]
  },
  {
   "cell_type": "code",
   "execution_count": 51,
   "metadata": {},
   "outputs": [
    {
     "name": "stdout",
     "output_type": "stream",
     "text": [
      " [1] 4 4 4 3 3 3 3 4 4 4 4 3 3 3 3 3 3 4 4 4 3 3 3 3 3 4 5 5 5 5 5 4\n"
     ]
    },
    {
     "data": {
      "image/png": "[encoded data removed]",
      "text/plain": [
       "Plot with title \"Simple Chart\""
      ]
     },
     "metadata": {},
     "output_type": "display_data"
    }
   ],
   "source": [
    "#taking gear column values from mtcars\n",
    "count=mtcars$gear\n",
    "print(count)\n",
    "#changing raw data to frequency values\n",
    "table=table(count)\n",
    "#barplot(table name,horiz = true)\n",
    "#deafult horiz is false\n",
    "barplot(table,main=\"Simple Chart\",\n",
    "        xlab = \"Improvement\",\n",
    "        ylab =\"Frequence\",\n",
    "        legend= rownames(table),\n",
    "        col = c(\"red\",\"yellow\",\"blue\"))\n",
    "#giving parameters for legend,colours,clable,ylabels"
   ]
  },
  {
   "cell_type": "markdown",
   "metadata": {},
   "source": [
    "## Hist Plot\n",
    "Histogram can be created using the hist() function in R programming language. This function takes in a vector of values for which the histogram is plotted."
   ]
  },
  {
   "cell_type": "code",
   "execution_count": 52,
   "metadata": {},
   "outputs": [
    {
     "data": {
      "image/png": "[encoded data removed]",
      "text/plain": [
       "Plot with title \"Histogram of mpg\""
      ]
     },
     "metadata": {},
     "output_type": "display_data"
    }
   ],
   "source": [
    "mpg = (mtcars$mpg)\n",
    "hist(mpg,col = \"green\")"
   ]
  },
  {
   "cell_type": "markdown",
   "metadata": {},
   "source": [
    "## Kernel Density Estimator"
   ]
  },
  {
   "cell_type": "code",
   "execution_count": 53,
   "metadata": {},
   "outputs": [
    {
     "data": {
      "image/png": "[encoded data removed]",
      "text/plain": [
       "Plot with title \"Chart\""
      ]
     },
     "metadata": {},
     "output_type": "display_data"
    }
   ],
   "source": [
    "d <- density(mtcars$mpg)\n",
    "plot(d, main=\"Chart\")\n",
    "polygon(d, col=\"yellow\", border=\"red\")"
   ]
  },
  {
   "cell_type": "markdown",
   "metadata": {},
   "source": [
    "## Line Chart\n",
    " c is a vector containing the numeric values. type takes the value \"p\" to draw only the points, \"l\" to draw only the lines and \"o\" to draw both points and lines."
   ]
  },
  {
   "cell_type": "code",
   "execution_count": 54,
   "metadata": {},
   "outputs": [
    {
     "data": {
      "image/png": "[encoded data removed]",
      "text/plain": [
       "Plot with title \"Marks Vs Age\""
      ]
     },
     "metadata": {},
     "output_type": "display_data"
    }
   ],
   "source": [
    "#Line plot\n",
    "marks <- c(7,12,28,3,41)\n",
    "age <- c(14,7,6,19,3)\n",
    "#Line chart only accepts numbers(no string)\n",
    "plot(marks,type = \"o\",col = \"red\", xlab = \"marks\", ylab = \"Age\", \n",
    "     main = \"Marks Vs Age\")\n",
    "#Mutiple lines in a single chart used for comparison\n",
    "lines(age, type = \"o\", col = \"blue\")"
   ]
  },
  {
   "cell_type": "markdown",
   "metadata": {},
   "source": [
    "## Pie Chart\n",
    "The slices are labeled and the numbers corresponding to each slice is also represented in the chart. ... In R the pie chart is created using the pie() function which takes positive numbers as a vector input. The additional parameters are used to control labels, color, title etc."
   ]
  },
  {
   "cell_type": "code",
   "execution_count": 55,
   "metadata": {},
   "outputs": [
    {
     "name": "stderr",
     "output_type": "stream",
     "text": [
      "Warning message:\n",
      "\"package 'plotrix' was built under R version 3.6.3\""
     ]
    },
    {
     "data": {
      "image/png": "[encoded data removed]",
      "text/plain": [
       "Plot with title \"pie chart\""
      ]
     },
     "metadata": {},
     "output_type": "display_data"
    }
   ],
   "source": [
    "library(plotrix)\n",
    "#Data\n",
    "slices=c(10,20,30,40,50)\n",
    "#taking percentage of frequency\n",
    "pct=round(slices/sum(slices)*100)\n",
    "lab=c(\"c\",\"python\",\"R\",\"Java\",\"Go\")\n",
    "#concatenating percentage and labels\n",
    "lbl=paste(lab,\" - \",pct,\"%\",sep=\"\")\n",
    "#Plotting chart with color,header\n",
    "pie(slices,labels=lbl,main=\"pie chart\",col=rainbow(5))\n",
    "\n"
   ]
  },
  {
   "cell_type": "markdown",
   "metadata": {},
   "source": [
    "## Pie chart - 3D"
   ]
  },
  {
   "cell_type": "code",
   "execution_count": 56,
   "metadata": {},
   "outputs": [
    {
     "data": {
      "image/png": "[encoded data removed]",
      "text/plain": [
       "Plot with title \"pie chart\""
      ]
     },
     "metadata": {},
     "output_type": "display_data"
    }
   ],
   "source": [
    "#importing Required Packages\n",
    "library(plotrix)\n",
    "#Data\n",
    "slices=c(10,20,30,40,50)\n",
    "#taking percentage of frequency\n",
    "pct=round(slices/sum(slices)*100)\n",
    "lab=c(\"c\",\"python\",\"R\",\"Java\",\"Go\")\n",
    "#concatenating percentage and labels\n",
    "lbl=paste(lab,\" - \",pct,\"%\",sep=\"\")\n",
    "#Plotting chart with color,header\n",
    "pie3D(slices,labels=lbl,main=\"pie chart\",explode = 0.1,col=rainbow(5))\n"
   ]
  },
  {
   "cell_type": "markdown",
   "metadata": {},
   "source": [
    "## Violin Plot\n",
    "violin plots are similar to box plots, except that they also show the kernel probability density of the data at different values."
   ]
  },
  {
   "cell_type": "code",
   "execution_count": 57,
   "metadata": {},
   "outputs": [
    {
     "data": {
      "image/png": "[encoded data removed]",
      "text/plain": [
       "plot without title"
      ]
     },
     "metadata": {},
     "output_type": "display_data"
    }
   ],
   "source": [
    "p <- ggplot(mtcars, aes(factor(cyl), mpg))\n",
    "p + geom_violin()\n"
   ]
  },
  {
   "cell_type": "code",
   "execution_count": 58,
   "metadata": {},
   "outputs": [
    {
     "data": {
      "image/png": "[encoded data removed]",
      "text/plain": [
       "plot without title"
      ]
     },
     "metadata": {},
     "output_type": "display_data"
    }
   ],
   "source": [
    "p + geom_violin(aes(fill = cyl))\n"
   ]
  },
  {
   "cell_type": "code",
   "execution_count": 59,
   "metadata": {},
   "outputs": [
    {
     "data": {
      "image/png": "[encoded data removed]",
      "text/plain": [
       "plot without title"
      ]
     },
     "metadata": {},
     "output_type": "display_data"
    }
   ],
   "source": [
    "p + geom_violin(aes(fill = factor(cyl)))"
   ]
  },
  {
   "cell_type": "markdown",
   "metadata": {},
   "source": [
    "## Reading Excel File"
   ]
  },
  {
   "cell_type": "code",
   "execution_count": 60,
   "metadata": {},
   "outputs": [
    {
     "name": "stdout",
     "output_type": "stream",
     "text": [
      " [1] \"hello\"    \"hey\"      \"test\"     \"photo\"    \"sathish\"  \"sret\"    \n",
      " [7] \"yahoo\"    \"gmail\"    \"chennai\"  \"AI\"       \"ML\"       \"Data\"    \n",
      "[13] \"mining\"   \"Learning\" \"SBNA\"    \n"
     ]
    },
    {
     "data": {
      "text/html": [
       "'file'"
      ],
      "text/latex": [
       "'file'"
      ],
      "text/markdown": [
       "'file'"
      ],
      "text/plain": [
       "[1] \"file\""
      ]
     },
     "metadata": {},
     "output_type": "display_data"
    },
    {
     "data": {
      "text/html": [
       "185"
      ],
      "text/latex": [
       "185"
      ],
      "text/markdown": [
       "185"
      ],
      "text/plain": [
       "[1] 185"
      ]
     },
     "metadata": {},
     "output_type": "display_data"
    },
    {
     "data": {
      "text/plain": [
       "     word                freq      \n",
       " Length:15          Min.   : 2.00  \n",
       " Class :character   1st Qu.: 5.50  \n",
       " Mode  :character   Median : 8.00  \n",
       "                    Mean   :12.33  \n",
       "                    3rd Qu.:14.00  \n",
       "                    Max.   :45.00  "
      ]
     },
     "metadata": {},
     "output_type": "display_data"
    }
   ],
   "source": [
    "#Importing Required Packages\n",
    "library(readxl)\n",
    "# reading the excel file\n",
    "#sheeet attribute can also be added to give the sheet1\n",
    "data=read_xlsx('E:/R Programs For Practice/DAY - 5/Class/Data/file.xlsx')\n",
    "#data=read_xlsx('file path',sheet=\"sheet1\")\n",
    "print(data$word)\n",
    "#gettting the number of sheets in excel file\n",
    "excel_sheets('E:/R Programs For Practice/DAY - 5/Class/Data/file.xlsx')\n",
    "sum(data$freq)\n",
    "summary(data)"
   ]
  },
  {
   "cell_type": "markdown",
   "metadata": {},
   "source": [
    "## Writing Excel File"
   ]
  },
  {
   "cell_type": "code",
   "execution_count": 61,
   "metadata": {},
   "outputs": [
    {
     "name": "stdout",
     "output_type": "stream",
     "text": [
      " [1] \"hello\"    \"hey\"      \"test\"     \"photo\"    \"sathish\"  \"sret\"    \n",
      " [7] \"yahoo\"    \"gmail\"    \"chennai\"  \"AI\"       \"ML\"       \"Data\"    \n",
      "[13] \"mining\"   \"Learning\" \"SBNA\"    \n"
     ]
    },
    {
     "data": {
      "text/html": [
       "'file'"
      ],
      "text/latex": [
       "'file'"
      ],
      "text/markdown": [
       "'file'"
      ],
      "text/plain": [
       "[1] \"file\""
      ]
     },
     "metadata": {},
     "output_type": "display_data"
    },
    {
     "name": "stdout",
     "output_type": "stream",
     "text": [
      "       word freq\n",
      "1     hello    5\n",
      "2       hey   14\n",
      "3      test    8\n",
      "4     photo    2\n",
      "5   sathish    9\n",
      "6      sret   36\n",
      "7     yahoo    2\n",
      "8     gmail    8\n",
      "9   chennai    5\n",
      "10       AI    7\n",
      "11       ML   14\n",
      "12     Data    9\n",
      "13   mining    6\n",
      "14 Learning   45\n",
      "15     SBNA   15\n"
     ]
    }
   ],
   "source": [
    "#Importing Required Packages\n",
    "library(readxl)\n",
    "# reading the excel file\n",
    "#sheeet attribute can also be added to give the sheet1\n",
    "data=read_xlsx('E:/R Programs For Practice/DAY - 5/Class/Data/file.xlsx')\n",
    "#data=read_xlsx('file path',sheet=\"sheet1\")\n",
    "print(data$word)\n",
    "#gettting the number of sheets in excel file\n",
    "excel_sheets('E:/R Programs For Practice/DAY - 5/Class/Data/file.xlsx')\n",
    "#to write a data from xlsx to txt or xls....\n",
    "write.table(data,file=\"data.txt\",row.names=F)\n",
    "data1=read.table(\"data.txt\",header=TRUE)\n",
    "print(data1)\n"
   ]
  },
  {
   "cell_type": "markdown",
   "metadata": {},
   "source": [
    "## WordCloud"
   ]
  },
  {
   "cell_type": "code",
   "execution_count": 62,
   "metadata": {},
   "outputs": [
    {
     "name": "stderr",
     "output_type": "stream",
     "text": [
      "Warning message:\n",
      "\"package 'wordcloud' was built under R version 3.6.3\"Loading required package: RColorBrewer\n"
     ]
    },
    {
     "data": {
      "text/html": [
       "<table>\n",
       "<thead><tr><th scope=col>word</th><th scope=col>freq</th></tr></thead>\n",
       "<tbody>\n",
       "\t<tr><td>hello  </td><td> 5     </td></tr>\n",
       "\t<tr><td>hey    </td><td>14     </td></tr>\n",
       "\t<tr><td>test   </td><td> 8     </td></tr>\n",
       "\t<tr><td>photo  </td><td> 2     </td></tr>\n",
       "\t<tr><td>sathish</td><td> 9     </td></tr>\n",
       "\t<tr><td>sret   </td><td>36     </td></tr>\n",
       "</tbody>\n",
       "</table>\n"
      ],
      "text/latex": [
       "\\begin{tabular}{r|ll}\n",
       " word & freq\\\\\n",
       "\\hline\n",
       "\t hello   &  5     \\\\\n",
       "\t hey     & 14     \\\\\n",
       "\t test    &  8     \\\\\n",
       "\t photo   &  2     \\\\\n",
       "\t sathish &  9     \\\\\n",
       "\t sret    & 36     \\\\\n",
       "\\end{tabular}\n"
      ],
      "text/markdown": [
       "\n",
       "| word | freq |\n",
       "|---|---|\n",
       "| hello   |  5      |\n",
       "| hey     | 14      |\n",
       "| test    |  8      |\n",
       "| photo   |  2      |\n",
       "| sathish |  9      |\n",
       "| sret    | 36      |\n",
       "\n"
      ],
      "text/plain": [
       "  word    freq\n",
       "1 hello    5  \n",
       "2 hey     14  \n",
       "3 test     8  \n",
       "4 photo    2  \n",
       "5 sathish  9  \n",
       "6 sret    36  "
      ]
     },
     "metadata": {},
     "output_type": "display_data"
    },
    {
     "data": {
      "image/png": "[encoded data removed]",
      "text/plain": [
       "plot without title"
      ]
     },
     "metadata": {},
     "output_type": "display_data"
    }
   ],
   "source": [
    "\n",
    "#Importing Required Packages\n",
    "library(wordcloud)\n",
    "data=read.csv(\"E:/R Programs For Practice/DAY - 5/Class/Data/file.csv\",header= TRUE)\n",
    "head(data)\n",
    "#Creates a word cloud with parameters value and frequency \n",
    "#worcloud(word = dataframe_name$words,dataframe_name$words,min.freq=\"Least_legth,max.words=\"max_length\")\n",
    "wordcloud(words=data$word,freq=data$freq,min.freq=2,max.words = 50,random.order = FALSE)"
   ]
  },
  {
   "cell_type": "markdown",
   "metadata": {},
   "source": [
    "## S3_Class"
   ]
  },
  {
   "cell_type": "code",
   "execution_count": 63,
   "metadata": {},
   "outputs": [
    {
     "name": "stdout",
     "output_type": "stream",
     "text": [
      "[1] \"list\"\n",
      "[1] \"Siva\"\n"
     ]
    }
   ],
   "source": [
    "#s3 class\n",
    "#A list with its class attribute set to some class name, is an S3 object.\n",
    "c=list(name=\"Siva\",age=20,cgpa=9.5)\n",
    "print(class(c))\n",
    "print(c$name)"
   ]
  },
  {
   "cell_type": "markdown",
   "metadata": {},
   "source": [
    "## S4_Class"
   ]
  },
  {
   "cell_type": "code",
   "execution_count": 64,
   "metadata": {},
   "outputs": [
    {
     "name": "stdout",
     "output_type": "stream",
     "text": [
      "An object of class \"student\"\n",
      "Slot \"name\":\n",
      "[1] \"john\"\n",
      "\n",
      "Slot \"age\":\n",
      "[1] 21\n",
      "\n",
      "Slot \"GPA\":\n",
      "[1] 3.5\n",
      "\n"
     ]
    },
    {
     "data": {
      "text/html": [
       "TRUE"
      ],
      "text/latex": [
       "TRUE"
      ],
      "text/markdown": [
       "TRUE"
      ],
      "text/plain": [
       "[1] TRUE"
      ]
     },
     "metadata": {},
     "output_type": "display_data"
    }
   ],
   "source": [
    "#s4 class\n",
    "#S4 class is defined using the setClass() function.\n",
    "setClass(\"student\",slots=list(name=\"character\",age=\"numeric\",GPA=\"numeric\"))\n",
    "#Creating S4 objects\n",
    "s=new(\"student\",name=\"john\",age=21,GPA=3.5)\n",
    "print(s)\n",
    "isS4(s)\n"
   ]
  },
  {
   "cell_type": "markdown",
   "metadata": {},
   "source": [
    "## Reference CLass"
   ]
  },
  {
   "cell_type": "code",
   "execution_count": 65,
   "metadata": {},
   "outputs": [
    {
     "name": "stdout",
     "output_type": "stream",
     "text": [
      "Reference class object of class \"details\"\n",
      "Field \"name\":\n",
      "[1] \"john\"\n",
      "Field \"age\":\n",
      "[1] 21\n",
      "Field \"GPA\":\n",
      "[1] 3.5\n"
     ]
    }
   ],
   "source": [
    "#setref\n",
    "# setRefClass(\"student\")\n",
    "s=setRefClass(\"details\",fields=list(name=\"character\",age=\"numeric\",GPA=\"numeric\"))\n",
    "s1=s(name=\"john\",age=21,GPA=3.5)\n",
    "print(s1)"
   ]
  },
  {
   "cell_type": "markdown",
   "metadata": {},
   "source": [
    "## <font color = \"grey\" >DAY - 6</font>"
   ]
  },
  {
   "cell_type": "markdown",
   "metadata": {},
   "source": [
    "## Skewness & Kurtosis"
   ]
  },
  {
   "cell_type": "code",
   "execution_count": 66,
   "metadata": {},
   "outputs": [
    {
     "name": "stderr",
     "output_type": "stream",
     "text": [
      "Warning message:\n",
      "\"package 'e1071' was built under R version 3.6.3\""
     ]
    },
    {
     "name": "stdout",
     "output_type": "stream",
     "text": [
      "[1] -0.4277135\n",
      "[1] 59.45326\n"
     ]
    },
    {
     "data": {
      "text/html": [
       "<ol class=list-inline>\n",
       "\t<li>9.1</li>\n",
       "\t<li>6.7</li>\n",
       "\t<li>7.32</li>\n",
       "\t<li>7.54</li>\n",
       "\t<li>4.79</li>\n",
       "\t<li>10.28</li>\n",
       "\t<li>17.29</li>\n",
       "\t<li>13.39</li>\n",
       "\t<li>18.22</li>\n",
       "\t<li>11.09</li>\n",
       "\t<li>15.05</li>\n",
       "\t<li>10.6</li>\n",
       "\t<li>14.77</li>\n",
       "\t<li>15.48</li>\n",
       "\t<li>15.48</li>\n",
       "\t<li>28.91</li>\n",
       "\t<li>29.51</li>\n",
       "\t<li>20.49</li>\n",
       "\t<li>28.98</li>\n",
       "\t<li>25.17</li>\n",
       "\t<li>20.6</li>\n",
       "\t<li>25.7</li>\n",
       "\t<li>26.73</li>\n",
       "\t<li>21.55</li>\n",
       "\t<li>27</li>\n",
       "\t<li>27.01</li>\n",
       "\t<li>25.6</li>\n",
       "\t<li>28.39</li>\n",
       "\t<li>28.86</li>\n",
       "\t<li>23.98</li>\n",
       "\t<li>34.19</li>\n",
       "\t<li>31.39</li>\n",
       "\t<li>32.86</li>\n",
       "\t<li>30.98</li>\n",
       "\t<li>31.45</li>\n",
       "\t<li>31.91</li>\n",
       "\t<li>30.04</li>\n",
       "\t<li>35.55</li>\n",
       "\t<li>39.77</li>\n",
       "\t<li>33.71</li>\n",
       "\t<li>36.83</li>\n",
       "\t<li>35.42</li>\n",
       "\t<li>30.6</li>\n",
       "\t<li>33.89</li>\n",
       "\t<li>37.31</li>\n",
       "\t<li>32.98</li>\n",
       "\t<li>37.1</li>\n",
       "\t<li>31.83</li>\n",
       "\t<li>30.89</li>\n",
       "\t<li>34.91</li>\n",
       "\t<li>49.05</li>\n",
       "\t<li>48.4</li>\n",
       "\t<li>47.29</li>\n",
       "\t<li>42.38</li>\n",
       "\t<li>45.74</li>\n",
       "\t<li>40.94</li>\n",
       "\t<li>47.71</li>\n",
       "\t<li>49.49</li>\n",
       "\t<li>42.31</li>\n",
       "\t<li>46.25</li>\n",
       "\t<li>42.91</li>\n",
       "\t<li>47.03</li>\n",
       "\t<li>43.82</li>\n",
       "\t<li>40.6</li>\n",
       "\t<li>45.85</li>\n",
       "\t<li>49.52</li>\n",
       "\t<li>41.68</li>\n",
       "\t<li>40.65</li>\n",
       "\t<li>42.35</li>\n",
       "\t<li>48.1</li>\n",
       "\t<li>46.25</li>\n",
       "\t<li>49.28</li>\n",
       "\t<li>40.59</li>\n",
       "\t<li>40.9</li>\n",
       "\t<li>40.49</li>\n",
       "\t<li>58.27</li>\n",
       "\t<li>51.4</li>\n",
       "\t<li>56.02</li>\n",
       "\t<li>59.48</li>\n",
       "\t<li>54.14</li>\n",
       "\t<li>53.82</li>\n",
       "\t<li>59.73</li>\n",
       "\t<li>53.82</li>\n",
       "\t<li>56.97</li>\n",
       "\t<li>56.53</li>\n",
       "\t<li>52.58</li>\n",
       "\t<li>57.11</li>\n",
       "\t<li>53.82</li>\n",
       "\t<li>59.46</li>\n",
       "\t<li>51.83</li>\n",
       "\t<li>53.4</li>\n",
       "\t<li>57.45</li>\n",
       "\t<li>53.12</li>\n",
       "\t<li>57.74</li>\n",
       "\t<li>50.67</li>\n",
       "\t<li>56.79</li>\n",
       "\t<li>50.91</li>\n",
       "\t<li>57.21</li>\n",
       "\t<li>51.52</li>\n",
       "\t<li>52.61</li>\n",
       "\t<li>51.68</li>\n",
       "\t<li>57.49</li>\n",
       "\t<li>51.91</li>\n",
       "\t<li>59.86</li>\n",
       "\t<li>58.06</li>\n",
       "\t<li>62.97</li>\n",
       "\t<li>69.8</li>\n",
       "\t<li>62.24</li>\n",
       "\t<li>65.36</li>\n",
       "\t<li>63.27</li>\n",
       "\t<li>62.5</li>\n",
       "\t<li>63.98</li>\n",
       "\t<li>68.54</li>\n",
       "\t<li>63.21</li>\n",
       "\t<li>67.77</li>\n",
       "\t<li>63.33</li>\n",
       "\t<li>62.53</li>\n",
       "\t<li>66.49</li>\n",
       "\t<li>62.38</li>\n",
       "\t<li>66.51</li>\n",
       "\t<li>65.31</li>\n",
       "\t<li>69.63</li>\n",
       "\t<li>65.28</li>\n",
       "\t<li>60.62</li>\n",
       "\t<li>62.11</li>\n",
       "\t<li>62.03</li>\n",
       "\t<li>67.26</li>\n",
       "\t<li>60.9</li>\n",
       "\t<li>64.5</li>\n",
       "\t<li>68.76</li>\n",
       "\t<li>67.68</li>\n",
       "\t<li>65.16</li>\n",
       "\t<li>65.11</li>\n",
       "\t<li>62.56</li>\n",
       "\t<li>60.23</li>\n",
       "\t<li>63.65</li>\n",
       "\t<li>69.15</li>\n",
       "\t<li>61.15</li>\n",
       "\t<li>64.98</li>\n",
       "\t<li>63.45</li>\n",
       "\t<li>78.38</li>\n",
       "\t<li>71.06</li>\n",
       "\t<li>78.15</li>\n",
       "\t<li>75.35</li>\n",
       "\t<li>79.72</li>\n",
       "\t<li>79.43</li>\n",
       "\t<li>76.66</li>\n",
       "\t<li>71.78</li>\n",
       "\t<li>74.15</li>\n",
       "\t<li>77.09</li>\n",
       "\t<li>76.14</li>\n",
       "\t<li>79.1</li>\n",
       "\t<li>74.51</li>\n",
       "\t<li>74.97</li>\n",
       "\t<li>78.92</li>\n",
       "\t<li>79.79</li>\n",
       "\t<li>74.91</li>\n",
       "\t<li>73.38</li>\n",
       "\t<li>78.42</li>\n",
       "\t<li>72.32</li>\n",
       "\t<li>73.35</li>\n",
       "\t<li>77.8</li>\n",
       "\t<li>77.36</li>\n",
       "\t<li>73.96</li>\n",
       "\t<li>71.35</li>\n",
       "\t<li>70.05</li>\n",
       "\t<li>71.56</li>\n",
       "\t<li>74.81</li>\n",
       "\t<li>74.18</li>\n",
       "\t<li>73.09</li>\n",
       "\t<li>74.46</li>\n",
       "\t<li>73.33</li>\n",
       "\t<li>79.58</li>\n",
       "\t<li>73.89</li>\n",
       "\t<li>79.49</li>\n",
       "\t<li>70.26</li>\n",
       "\t<li>73.97</li>\n",
       "\t<li>72.88</li>\n",
       "\t<li>74.19</li>\n",
       "\t<li>76.18</li>\n",
       "\t<li>88.59</li>\n",
       "\t<li>85.12</li>\n",
       "\t<li>87.8</li>\n",
       "\t<li>88.36</li>\n",
       "\t<li>80.95</li>\n",
       "\t<li>84.52</li>\n",
       "\t<li>84.94</li>\n",
       "\t<li>83.49</li>\n",
       "\t<li>81.18</li>\n",
       "\t<li>80.8</li>\n",
       "\t<li>81.91</li>\n",
       "\t<li>84.78</li>\n",
       "\t<li>84.72</li>\n",
       "\t<li>84.8</li>\n",
       "\t<li>80.64</li>\n",
       "\t<li>83.59</li>\n",
       "\t<li>84.66</li>\n",
       "\t<li>83.03</li>\n",
       "\t<li>85.99</li>\n",
       "\t<li>80.4</li>\n",
       "\t<li>80.6</li>\n",
       "\t<li>83.05</li>\n",
       "\t<li>85.36</li>\n",
       "\t<li>81.59</li>\n",
       "\t<li>84.13</li>\n",
       "\t<li>86.64</li>\n",
       "\t<li>80.44</li>\n",
       "\t<li>86.07</li>\n",
       "\t<li>80.62</li>\n",
       "\t<li>86.11</li>\n",
       "\t<li>94.4</li>\n",
       "\t<li>98.53</li>\n",
       "\t<li>91.96</li>\n",
       "\t<li>93.94</li>\n",
       "\t<li>92.23</li>\n",
       "\t<li>93.2</li>\n",
       "\t<li>93.75</li>\n",
       "\t<li>93.09</li>\n",
       "\t<li>91.69</li>\n",
       "\t<li>92.18</li>\n",
       "\t<li>93.51</li>\n",
       "\t<li>96</li>\n",
       "\t<li>98.26</li>\n",
       "\t<li>94.09</li>\n",
       "\t<li>92.48</li>\n",
       "\t<li>94.21</li>\n",
       "\t<li>92.84</li>\n",
       "\t<li>94.42</li>\n",
       "\t<li>92.93</li>\n",
       "\t<li>91.12</li>\n",
       "</ol>\n"
      ],
      "text/latex": [
       "\\begin{enumerate*}\n",
       "\\item 9.1\n",
       "\\item 6.7\n",
       "\\item 7.32\n",
       "\\item 7.54\n",
       "\\item 4.79\n",
       "\\item 10.28\n",
       "\\item 17.29\n",
       "\\item 13.39\n",
       "\\item 18.22\n",
       "\\item 11.09\n",
       "\\item 15.05\n",
       "\\item 10.6\n",
       "\\item 14.77\n",
       "\\item 15.48\n",
       "\\item 15.48\n",
       "\\item 28.91\n",
       "\\item 29.51\n",
       "\\item 20.49\n",
       "\\item 28.98\n",
       "\\item 25.17\n",
       "\\item 20.6\n",
       "\\item 25.7\n",
       "\\item 26.73\n",
       "\\item 21.55\n",
       "\\item 27\n",
       "\\item 27.01\n",
       "\\item 25.6\n",
       "\\item 28.39\n",
       "\\item 28.86\n",
       "\\item 23.98\n",
       "\\item 34.19\n",
       "\\item 31.39\n",
       "\\item 32.86\n",
       "\\item 30.98\n",
       "\\item 31.45\n",
       "\\item 31.91\n",
       "\\item 30.04\n",
       "\\item 35.55\n",
       "\\item 39.77\n",
       "\\item 33.71\n",
       "\\item 36.83\n",
       "\\item 35.42\n",
       "\\item 30.6\n",
       "\\item 33.89\n",
       "\\item 37.31\n",
       "\\item 32.98\n",
       "\\item 37.1\n",
       "\\item 31.83\n",
       "\\item 30.89\n",
       "\\item 34.91\n",
       "\\item 49.05\n",
       "\\item 48.4\n",
       "\\item 47.29\n",
       "\\item 42.38\n",
       "\\item 45.74\n",
       "\\item 40.94\n",
       "\\item 47.71\n",
       "\\item 49.49\n",
       "\\item 42.31\n",
       "\\item 46.25\n",
       "\\item 42.91\n",
       "\\item 47.03\n",
       "\\item 43.82\n",
       "\\item 40.6\n",
       "\\item 45.85\n",
       "\\item 49.52\n",
       "\\item 41.68\n",
       "\\item 40.65\n",
       "\\item 42.35\n",
       "\\item 48.1\n",
       "\\item 46.25\n",
       "\\item 49.28\n",
       "\\item 40.59\n",
       "\\item 40.9\n",
       "\\item 40.49\n",
       "\\item 58.27\n",
       "\\item 51.4\n",
       "\\item 56.02\n",
       "\\item 59.48\n",
       "\\item 54.14\n",
       "\\item 53.82\n",
       "\\item 59.73\n",
       "\\item 53.82\n",
       "\\item 56.97\n",
       "\\item 56.53\n",
       "\\item 52.58\n",
       "\\item 57.11\n",
       "\\item 53.82\n",
       "\\item 59.46\n",
       "\\item 51.83\n",
       "\\item 53.4\n",
       "\\item 57.45\n",
       "\\item 53.12\n",
       "\\item 57.74\n",
       "\\item 50.67\n",
       "\\item 56.79\n",
       "\\item 50.91\n",
       "\\item 57.21\n",
       "\\item 51.52\n",
       "\\item 52.61\n",
       "\\item 51.68\n",
       "\\item 57.49\n",
       "\\item 51.91\n",
       "\\item 59.86\n",
       "\\item 58.06\n",
       "\\item 62.97\n",
       "\\item 69.8\n",
       "\\item 62.24\n",
       "\\item 65.36\n",
       "\\item 63.27\n",
       "\\item 62.5\n",
       "\\item 63.98\n",
       "\\item 68.54\n",
       "\\item 63.21\n",
       "\\item 67.77\n",
       "\\item 63.33\n",
       "\\item 62.53\n",
       "\\item 66.49\n",
       "\\item 62.38\n",
       "\\item 66.51\n",
       "\\item 65.31\n",
       "\\item 69.63\n",
       "\\item 65.28\n",
       "\\item 60.62\n",
       "\\item 62.11\n",
       "\\item 62.03\n",
       "\\item 67.26\n",
       "\\item 60.9\n",
       "\\item 64.5\n",
       "\\item 68.76\n",
       "\\item 67.68\n",
       "\\item 65.16\n",
       "\\item 65.11\n",
       "\\item 62.56\n",
       "\\item 60.23\n",
       "\\item 63.65\n",
       "\\item 69.15\n",
       "\\item 61.15\n",
       "\\item 64.98\n",
       "\\item 63.45\n",
       "\\item 78.38\n",
       "\\item 71.06\n",
       "\\item 78.15\n",
       "\\item 75.35\n",
       "\\item 79.72\n",
       "\\item 79.43\n",
       "\\item 76.66\n",
       "\\item 71.78\n",
       "\\item 74.15\n",
       "\\item 77.09\n",
       "\\item 76.14\n",
       "\\item 79.1\n",
       "\\item 74.51\n",
       "\\item 74.97\n",
       "\\item 78.92\n",
       "\\item 79.79\n",
       "\\item 74.91\n",
       "\\item 73.38\n",
       "\\item 78.42\n",
       "\\item 72.32\n",
       "\\item 73.35\n",
       "\\item 77.8\n",
       "\\item 77.36\n",
       "\\item 73.96\n",
       "\\item 71.35\n",
       "\\item 70.05\n",
       "\\item 71.56\n",
       "\\item 74.81\n",
       "\\item 74.18\n",
       "\\item 73.09\n",
       "\\item 74.46\n",
       "\\item 73.33\n",
       "\\item 79.58\n",
       "\\item 73.89\n",
       "\\item 79.49\n",
       "\\item 70.26\n",
       "\\item 73.97\n",
       "\\item 72.88\n",
       "\\item 74.19\n",
       "\\item 76.18\n",
       "\\item 88.59\n",
       "\\item 85.12\n",
       "\\item 87.8\n",
       "\\item 88.36\n",
       "\\item 80.95\n",
       "\\item 84.52\n",
       "\\item 84.94\n",
       "\\item 83.49\n",
       "\\item 81.18\n",
       "\\item 80.8\n",
       "\\item 81.91\n",
       "\\item 84.78\n",
       "\\item 84.72\n",
       "\\item 84.8\n",
       "\\item 80.64\n",
       "\\item 83.59\n",
       "\\item 84.66\n",
       "\\item 83.03\n",
       "\\item 85.99\n",
       "\\item 80.4\n",
       "\\item 80.6\n",
       "\\item 83.05\n",
       "\\item 85.36\n",
       "\\item 81.59\n",
       "\\item 84.13\n",
       "\\item 86.64\n",
       "\\item 80.44\n",
       "\\item 86.07\n",
       "\\item 80.62\n",
       "\\item 86.11\n",
       "\\item 94.4\n",
       "\\item 98.53\n",
       "\\item 91.96\n",
       "\\item 93.94\n",
       "\\item 92.23\n",
       "\\item 93.2\n",
       "\\item 93.75\n",
       "\\item 93.09\n",
       "\\item 91.69\n",
       "\\item 92.18\n",
       "\\item 93.51\n",
       "\\item 96\n",
       "\\item 98.26\n",
       "\\item 94.09\n",
       "\\item 92.48\n",
       "\\item 94.21\n",
       "\\item 92.84\n",
       "\\item 94.42\n",
       "\\item 92.93\n",
       "\\item 91.12\n",
       "\\end{enumerate*}\n"
      ],
      "text/markdown": [
       "1. 9.1\n",
       "2. 6.7\n",
       "3. 7.32\n",
       "4. 7.54\n",
       "5. 4.79\n",
       "6. 10.28\n",
       "7. 17.29\n",
       "8. 13.39\n",
       "9. 18.22\n",
       "10. 11.09\n",
       "11. 15.05\n",
       "12. 10.6\n",
       "13. 14.77\n",
       "14. 15.48\n",
       "15. 15.48\n",
       "16. 28.91\n",
       "17. 29.51\n",
       "18. 20.49\n",
       "19. 28.98\n",
       "20. 25.17\n",
       "21. 20.6\n",
       "22. 25.7\n",
       "23. 26.73\n",
       "24. 21.55\n",
       "25. 27\n",
       "26. 27.01\n",
       "27. 25.6\n",
       "28. 28.39\n",
       "29. 28.86\n",
       "30. 23.98\n",
       "31. 34.19\n",
       "32. 31.39\n",
       "33. 32.86\n",
       "34. 30.98\n",
       "35. 31.45\n",
       "36. 31.91\n",
       "37. 30.04\n",
       "38. 35.55\n",
       "39. 39.77\n",
       "40. 33.71\n",
       "41. 36.83\n",
       "42. 35.42\n",
       "43. 30.6\n",
       "44. 33.89\n",
       "45. 37.31\n",
       "46. 32.98\n",
       "47. 37.1\n",
       "48. 31.83\n",
       "49. 30.89\n",
       "50. 34.91\n",
       "51. 49.05\n",
       "52. 48.4\n",
       "53. 47.29\n",
       "54. 42.38\n",
       "55. 45.74\n",
       "56. 40.94\n",
       "57. 47.71\n",
       "58. 49.49\n",
       "59. 42.31\n",
       "60. 46.25\n",
       "61. 42.91\n",
       "62. 47.03\n",
       "63. 43.82\n",
       "64. 40.6\n",
       "65. 45.85\n",
       "66. 49.52\n",
       "67. 41.68\n",
       "68. 40.65\n",
       "69. 42.35\n",
       "70. 48.1\n",
       "71. 46.25\n",
       "72. 49.28\n",
       "73. 40.59\n",
       "74. 40.9\n",
       "75. 40.49\n",
       "76. 58.27\n",
       "77. 51.4\n",
       "78. 56.02\n",
       "79. 59.48\n",
       "80. 54.14\n",
       "81. 53.82\n",
       "82. 59.73\n",
       "83. 53.82\n",
       "84. 56.97\n",
       "85. 56.53\n",
       "86. 52.58\n",
       "87. 57.11\n",
       "88. 53.82\n",
       "89. 59.46\n",
       "90. 51.83\n",
       "91. 53.4\n",
       "92. 57.45\n",
       "93. 53.12\n",
       "94. 57.74\n",
       "95. 50.67\n",
       "96. 56.79\n",
       "97. 50.91\n",
       "98. 57.21\n",
       "99. 51.52\n",
       "100. 52.61\n",
       "101. 51.68\n",
       "102. 57.49\n",
       "103. 51.91\n",
       "104. 59.86\n",
       "105. 58.06\n",
       "106. 62.97\n",
       "107. 69.8\n",
       "108. 62.24\n",
       "109. 65.36\n",
       "110. 63.27\n",
       "111. 62.5\n",
       "112. 63.98\n",
       "113. 68.54\n",
       "114. 63.21\n",
       "115. 67.77\n",
       "116. 63.33\n",
       "117. 62.53\n",
       "118. 66.49\n",
       "119. 62.38\n",
       "120. 66.51\n",
       "121. 65.31\n",
       "122. 69.63\n",
       "123. 65.28\n",
       "124. 60.62\n",
       "125. 62.11\n",
       "126. 62.03\n",
       "127. 67.26\n",
       "128. 60.9\n",
       "129. 64.5\n",
       "130. 68.76\n",
       "131. 67.68\n",
       "132. 65.16\n",
       "133. 65.11\n",
       "134. 62.56\n",
       "135. 60.23\n",
       "136. 63.65\n",
       "137. 69.15\n",
       "138. 61.15\n",
       "139. 64.98\n",
       "140. 63.45\n",
       "141. 78.38\n",
       "142. 71.06\n",
       "143. 78.15\n",
       "144. 75.35\n",
       "145. 79.72\n",
       "146. 79.43\n",
       "147. 76.66\n",
       "148. 71.78\n",
       "149. 74.15\n",
       "150. 77.09\n",
       "151. 76.14\n",
       "152. 79.1\n",
       "153. 74.51\n",
       "154. 74.97\n",
       "155. 78.92\n",
       "156. 79.79\n",
       "157. 74.91\n",
       "158. 73.38\n",
       "159. 78.42\n",
       "160. 72.32\n",
       "161. 73.35\n",
       "162. 77.8\n",
       "163. 77.36\n",
       "164. 73.96\n",
       "165. 71.35\n",
       "166. 70.05\n",
       "167. 71.56\n",
       "168. 74.81\n",
       "169. 74.18\n",
       "170. 73.09\n",
       "171. 74.46\n",
       "172. 73.33\n",
       "173. 79.58\n",
       "174. 73.89\n",
       "175. 79.49\n",
       "176. 70.26\n",
       "177. 73.97\n",
       "178. 72.88\n",
       "179. 74.19\n",
       "180. 76.18\n",
       "181. 88.59\n",
       "182. 85.12\n",
       "183. 87.8\n",
       "184. 88.36\n",
       "185. 80.95\n",
       "186. 84.52\n",
       "187. 84.94\n",
       "188. 83.49\n",
       "189. 81.18\n",
       "190. 80.8\n",
       "191. 81.91\n",
       "192. 84.78\n",
       "193. 84.72\n",
       "194. 84.8\n",
       "195. 80.64\n",
       "196. 83.59\n",
       "197. 84.66\n",
       "198. 83.03\n",
       "199. 85.99\n",
       "200. 80.4\n",
       "201. 80.6\n",
       "202. 83.05\n",
       "203. 85.36\n",
       "204. 81.59\n",
       "205. 84.13\n",
       "206. 86.64\n",
       "207. 80.44\n",
       "208. 86.07\n",
       "209. 80.62\n",
       "210. 86.11\n",
       "211. 94.4\n",
       "212. 98.53\n",
       "213. 91.96\n",
       "214. 93.94\n",
       "215. 92.23\n",
       "216. 93.2\n",
       "217. 93.75\n",
       "218. 93.09\n",
       "219. 91.69\n",
       "220. 92.18\n",
       "221. 93.51\n",
       "222. 96\n",
       "223. 98.26\n",
       "224. 94.09\n",
       "225. 92.48\n",
       "226. 94.21\n",
       "227. 92.84\n",
       "228. 94.42\n",
       "229. 92.93\n",
       "230. 91.12\n",
       "\n",
       "\n"
      ],
      "text/plain": [
       "  [1]  9.10  6.70  7.32  7.54  4.79 10.28 17.29 13.39 18.22 11.09 15.05 10.60\n",
       " [13] 14.77 15.48 15.48 28.91 29.51 20.49 28.98 25.17 20.60 25.70 26.73 21.55\n",
       " [25] 27.00 27.01 25.60 28.39 28.86 23.98 34.19 31.39 32.86 30.98 31.45 31.91\n",
       " [37] 30.04 35.55 39.77 33.71 36.83 35.42 30.60 33.89 37.31 32.98 37.10 31.83\n",
       " [49] 30.89 34.91 49.05 48.40 47.29 42.38 45.74 40.94 47.71 49.49 42.31 46.25\n",
       " [61] 42.91 47.03 43.82 40.60 45.85 49.52 41.68 40.65 42.35 48.10 46.25 49.28\n",
       " [73] 40.59 40.90 40.49 58.27 51.40 56.02 59.48 54.14 53.82 59.73 53.82 56.97\n",
       " [85] 56.53 52.58 57.11 53.82 59.46 51.83 53.40 57.45 53.12 57.74 50.67 56.79\n",
       " [97] 50.91 57.21 51.52 52.61 51.68 57.49 51.91 59.86 58.06 62.97 69.80 62.24\n",
       "[109] 65.36 63.27 62.50 63.98 68.54 63.21 67.77 63.33 62.53 66.49 62.38 66.51\n",
       "[121] 65.31 69.63 65.28 60.62 62.11 62.03 67.26 60.90 64.50 68.76 67.68 65.16\n",
       "[133] 65.11 62.56 60.23 63.65 69.15 61.15 64.98 63.45 78.38 71.06 78.15 75.35\n",
       "[145] 79.72 79.43 76.66 71.78 74.15 77.09 76.14 79.10 74.51 74.97 78.92 79.79\n",
       "[157] 74.91 73.38 78.42 72.32 73.35 77.80 77.36 73.96 71.35 70.05 71.56 74.81\n",
       "[169] 74.18 73.09 74.46 73.33 79.58 73.89 79.49 70.26 73.97 72.88 74.19 76.18\n",
       "[181] 88.59 85.12 87.80 88.36 80.95 84.52 84.94 83.49 81.18 80.80 81.91 84.78\n",
       "[193] 84.72 84.80 80.64 83.59 84.66 83.03 85.99 80.40 80.60 83.05 85.36 81.59\n",
       "[205] 84.13 86.64 80.44 86.07 80.62 86.11 94.40 98.53 91.96 93.94 92.23 93.20\n",
       "[217] 93.75 93.09 91.69 92.18 93.51 96.00 98.26 94.09 92.48 94.21 92.84 94.42\n",
       "[229] 92.93 91.12"
      ]
     },
     "metadata": {},
     "output_type": "display_data"
    },
    {
     "data": {
      "image/png": "[encoded data removed]",
      "text/plain": [
       "Plot with title \"density.default(x = df$mark)\""
      ]
     },
     "metadata": {},
     "output_type": "display_data"
    }
   ],
   "source": [
    "#Importing Required Packages\n",
    "library(e1071)\n",
    "#Reading Csv file\n",
    "df = read.csv(\"E:/R Programs For Practice/DAY - 6/Data/mark.csv\")\n",
    "#skewness\n",
    "print(skewness(df$mark))\n",
    "plot(density(df$mark))\n",
    "print(mean(df$mark))\n",
    "polygon(density(df$mark), col=\"red\", border=\"blue\")\n",
    "#kurtosis\n",
    "df$mark\n"
   ]
  },
  {
   "cell_type": "markdown",
   "metadata": {},
   "source": [
    "## T-Test"
   ]
  },
  {
   "cell_type": "code",
   "execution_count": 67,
   "metadata": {},
   "outputs": [
    {
     "name": "stdout",
     "output_type": "stream",
     "text": [
      "\n",
      "\tWelch Two Sample t-test\n",
      "\n",
      "data:  Field1 and Field2\n",
      "t = -2.3388, df = 28.123, p-value = 0.02668\n",
      "alternative hypothesis: true difference in means is not equal to 0\n",
      "95 percent confidence interval:\n",
      " -0.56269667 -0.03730333\n",
      "sample estimates:\n",
      "mean of x mean of y \n",
      " 15.38125  15.68125 \n",
      "\n"
     ]
    }
   ],
   "source": [
    "#T-test\n",
    "#data\n",
    "Field1=c(15.2,15.3,16,15.8,15.6,14.9,15,15.4,15.6,15.7,15.5,15.2,15.5,15.1,15.3,15)\n",
    "Field2=c(15.9,15.9,15.2,16.6,15.2,15.8,15.8,16.2,15.6,15.6,15.8,15.5,15.5,15.5,14.9,15.9)\n",
    "#t.test(field1,field2)\n",
    "print(t.test(Field1,Field2))"
   ]
  },
  {
   "cell_type": "markdown",
   "metadata": {},
   "source": [
    "![](https://github.com/klmsathish/R_Programming/blob/master/DAY%20-%206/Assignment/Images/Page1.jpg?raw=true)\n",
    "![](https://github.com/klmsathish/R_Programming/blob/master/DAY%20-%206/Assignment/Images/Page2.jpg?raw=true)"
   ]
  },
  {
   "cell_type": "markdown",
   "metadata": {},
   "source": [
    "## Anova - Test"
   ]
  },
  {
   "cell_type": "code",
   "execution_count": 68,
   "metadata": {},
   "outputs": [
    {
     "data": {
      "text/html": [
       "<table>\n",
       "<thead><tr><th scope=col>group1</th><th scope=col>group2</th><th scope=col>group3</th></tr></thead>\n",
       "<tbody>\n",
       "\t<tr><td>2 </td><td>10</td><td>10</td></tr>\n",
       "\t<tr><td>3 </td><td> 8</td><td>13</td></tr>\n",
       "\t<tr><td>7 </td><td> 7</td><td>14</td></tr>\n",
       "\t<tr><td>2 </td><td> 5</td><td>13</td></tr>\n",
       "\t<tr><td>6 </td><td>10</td><td>15</td></tr>\n",
       "</tbody>\n",
       "</table>\n"
      ],
      "text/latex": [
       "\\begin{tabular}{r|lll}\n",
       " group1 & group2 & group3\\\\\n",
       "\\hline\n",
       "\t 2  & 10 & 10\\\\\n",
       "\t 3  &  8 & 13\\\\\n",
       "\t 7  &  7 & 14\\\\\n",
       "\t 2  &  5 & 13\\\\\n",
       "\t 6  & 10 & 15\\\\\n",
       "\\end{tabular}\n"
      ],
      "text/markdown": [
       "\n",
       "| group1 | group2 | group3 |\n",
       "|---|---|---|\n",
       "| 2  | 10 | 10 |\n",
       "| 3  |  8 | 13 |\n",
       "| 7  |  7 | 14 |\n",
       "| 2  |  5 | 13 |\n",
       "| 6  | 10 | 15 |\n",
       "\n"
      ],
      "text/plain": [
       "  group1 group2 group3\n",
       "1 2      10     10    \n",
       "2 3       8     13    \n",
       "3 7       7     14    \n",
       "4 2       5     13    \n",
       "5 6      10     15    "
      ]
     },
     "metadata": {},
     "output_type": "display_data"
    },
    {
     "data": {
      "text/html": [
       "<table>\n",
       "<thead><tr><th scope=col>values</th><th scope=col>ind</th></tr></thead>\n",
       "<tbody>\n",
       "\t<tr><td> 2    </td><td>group1</td></tr>\n",
       "\t<tr><td> 3    </td><td>group1</td></tr>\n",
       "\t<tr><td> 7    </td><td>group1</td></tr>\n",
       "\t<tr><td> 2    </td><td>group1</td></tr>\n",
       "\t<tr><td> 6    </td><td>group1</td></tr>\n",
       "\t<tr><td>10    </td><td>group2</td></tr>\n",
       "\t<tr><td> 8    </td><td>group2</td></tr>\n",
       "\t<tr><td> 7    </td><td>group2</td></tr>\n",
       "\t<tr><td> 5    </td><td>group2</td></tr>\n",
       "\t<tr><td>10    </td><td>group2</td></tr>\n",
       "\t<tr><td>10    </td><td>group3</td></tr>\n",
       "\t<tr><td>13    </td><td>group3</td></tr>\n",
       "\t<tr><td>14    </td><td>group3</td></tr>\n",
       "\t<tr><td>13    </td><td>group3</td></tr>\n",
       "\t<tr><td>15    </td><td>group3</td></tr>\n",
       "</tbody>\n",
       "</table>\n"
      ],
      "text/latex": [
       "\\begin{tabular}{r|ll}\n",
       " values & ind\\\\\n",
       "\\hline\n",
       "\t  2     & group1\\\\\n",
       "\t  3     & group1\\\\\n",
       "\t  7     & group1\\\\\n",
       "\t  2     & group1\\\\\n",
       "\t  6     & group1\\\\\n",
       "\t 10     & group2\\\\\n",
       "\t  8     & group2\\\\\n",
       "\t  7     & group2\\\\\n",
       "\t  5     & group2\\\\\n",
       "\t 10     & group2\\\\\n",
       "\t 10     & group3\\\\\n",
       "\t 13     & group3\\\\\n",
       "\t 14     & group3\\\\\n",
       "\t 13     & group3\\\\\n",
       "\t 15     & group3\\\\\n",
       "\\end{tabular}\n"
      ],
      "text/markdown": [
       "\n",
       "| values | ind |\n",
       "|---|---|\n",
       "|  2     | group1 |\n",
       "|  3     | group1 |\n",
       "|  7     | group1 |\n",
       "|  2     | group1 |\n",
       "|  6     | group1 |\n",
       "| 10     | group2 |\n",
       "|  8     | group2 |\n",
       "|  7     | group2 |\n",
       "|  5     | group2 |\n",
       "| 10     | group2 |\n",
       "| 10     | group3 |\n",
       "| 13     | group3 |\n",
       "| 14     | group3 |\n",
       "| 13     | group3 |\n",
       "| 15     | group3 |\n",
       "\n"
      ],
      "text/plain": [
       "   values ind   \n",
       "1   2     group1\n",
       "2   3     group1\n",
       "3   7     group1\n",
       "4   2     group1\n",
       "5   6     group1\n",
       "6  10     group2\n",
       "7   8     group2\n",
       "8   7     group2\n",
       "9   5     group2\n",
       "10 10     group2\n",
       "11 10     group3\n",
       "12 13     group3\n",
       "13 14     group3\n",
       "14 13     group3\n",
       "15 15     group3"
      ]
     },
     "metadata": {},
     "output_type": "display_data"
    },
    {
     "data": {
      "text/plain": [
       "            Df Sum Sq Mean Sq F value   Pr(>F)    \n",
       "ind          2  203.3   101.7   22.59 8.54e-05 ***\n",
       "Residuals   12   54.0     4.5                     \n",
       "---\n",
       "Signif. codes:  0 '***' 0.001 '**' 0.01 '*' 0.05 '.' 0.1 ' ' 1"
      ]
     },
     "metadata": {},
     "output_type": "display_data"
    }
   ],
   "source": [
    "#Anova Test\n",
    "group1<-c(2,3,7,2,6)\n",
    "group2<-c(10,8,7,5,10)\n",
    "group3<-c(10,13,14,13,15)\n",
    "#Making data as datafrane\n",
    "combined_groups <-data.frame(cbind(group1,group2,group3))\n",
    "combined_groups\n",
    "#stacking into one column\n",
    "stack_group = stack(combined_groups)\n",
    "stack_group\n",
    "#applying aov anova function\n",
    "anova  = aov(values~ind,data = stack_group)\n",
    "summary(anova)"
   ]
  },
  {
   "cell_type": "markdown",
   "metadata": {},
   "source": [
    "## <font color = \"grey\" >DAY - 7 </font>"
   ]
  },
  {
   "cell_type": "markdown",
   "metadata": {},
   "source": [
    "## Probability Distribution"
   ]
  },
  {
   "cell_type": "markdown",
   "metadata": {},
   "source": [
    "\n",
    "### 1.binomial distribution\n",
    "### 2.poisson distribution\n",
    "### 3.continuos uniform\n",
    "### 4.exponential dis\n",
    "### 5.normal\n",
    "### 6.chi-square\n",
    "### 7.t dis\n",
    "### 8.f-distribution\n"
   ]
  },
  {
   "cell_type": "markdown",
   "metadata": {},
   "source": [
    "## Binomial Distribution"
   ]
  },
  {
   "cell_type": "code",
   "execution_count": 69,
   "metadata": {},
   "outputs": [
    {
     "data": {
      "text/html": [
       "0.9453125"
      ],
      "text/latex": [
       "0.9453125"
      ],
      "text/markdown": [
       "0.9453125"
      ],
      "text/plain": [
       "[1] 0.9453125"
      ]
     },
     "metadata": {},
     "output_type": "display_data"
    }
   ],
   "source": [
    "#binomial distribution\n",
    "#Suppose there are twelve multiple choice questions in an English class quiz. \n",
    "#Each question has five possible answers, and only one of them is correct.\n",
    "#Find the probability of having four or less correct answers if a student attempts to answer every question at random.\n",
    "pbinom(7,size=10,prob=0.5)"
   ]
  },
  {
   "cell_type": "markdown",
   "metadata": {},
   "source": [
    "## Poisson Distribution"
   ]
  },
  {
   "cell_type": "code",
   "execution_count": 70,
   "metadata": {},
   "outputs": [
    {
     "data": {
      "text/html": [
       "0.101291007439838"
      ],
      "text/latex": [
       "0.101291007439838"
      ],
      "text/markdown": [
       "0.101291007439838"
      ],
      "text/plain": [
       "[1] 0.101291"
      ]
     },
     "metadata": {},
     "output_type": "display_data"
    }
   ],
   "source": [
    "#Poisson distribution\n",
    "#If there are twelve cars crossing a bridge per minute on average, \n",
    "#find the probability of having seventeen or more cars crossing the bridge in a particular minute.\n",
    "ppois(16,lambda=12,lower=FALSE)"
   ]
  },
  {
   "cell_type": "markdown",
   "metadata": {},
   "source": [
    "## Chi Square Distribution"
   ]
  },
  {
   "cell_type": "code",
   "execution_count": 71,
   "metadata": {},
   "outputs": [
    {
     "data": {
      "text/html": [
       "14.0671404493402"
      ],
      "text/latex": [
       "14.0671404493402"
      ],
      "text/markdown": [
       "14.0671404493402"
      ],
      "text/plain": [
       "[1] 14.06714"
      ]
     },
     "metadata": {},
     "output_type": "display_data"
    }
   ],
   "source": [
    "#chi-square Distribution\n",
    "#Find the 95th percentile of the Chi-Squared distribution with 7 degrees of freedom.\n",
    "qchisq(.95, df=7)  "
   ]
  },
  {
   "cell_type": "markdown",
   "metadata": {},
   "source": [
    "## Continuos uniform distribution"
   ]
  },
  {
   "cell_type": "code",
   "execution_count": 72,
   "metadata": {},
   "outputs": [
    {
     "data": {
      "text/html": [
       "<ol class=list-inline>\n",
       "\t<li>1.37538223853335</li>\n",
       "\t<li>2.56458860263228</li>\n",
       "\t<li>1.18718997342512</li>\n",
       "\t<li>1.93355808313936</li>\n",
       "\t<li>2.02301091980189</li>\n",
       "\t<li>2.19997791852802</li>\n",
       "\t<li>1.66564708063379</li>\n",
       "\t<li>1.97722606733441</li>\n",
       "\t<li>2.90894765499979</li>\n",
       "\t<li>1.9658047943376</li>\n",
       "</ol>\n"
      ],
      "text/latex": [
       "\\begin{enumerate*}\n",
       "\\item 1.37538223853335\n",
       "\\item 2.56458860263228\n",
       "\\item 1.18718997342512\n",
       "\\item 1.93355808313936\n",
       "\\item 2.02301091980189\n",
       "\\item 2.19997791852802\n",
       "\\item 1.66564708063379\n",
       "\\item 1.97722606733441\n",
       "\\item 2.90894765499979\n",
       "\\item 1.9658047943376\n",
       "\\end{enumerate*}\n"
      ],
      "text/markdown": [
       "1. 1.37538223853335\n",
       "2. 2.56458860263228\n",
       "3. 1.18718997342512\n",
       "4. 1.93355808313936\n",
       "5. 2.02301091980189\n",
       "6. 2.19997791852802\n",
       "7. 1.66564708063379\n",
       "8. 1.97722606733441\n",
       "9. 2.90894765499979\n",
       "10. 1.9658047943376\n",
       "\n",
       "\n"
      ],
      "text/plain": [
       " [1] 1.375382 2.564589 1.187190 1.933558 2.023011 2.199978 1.665647 1.977226\n",
       " [9] 2.908948 1.965805"
      ]
     },
     "metadata": {},
     "output_type": "display_data"
    }
   ],
   "source": [
    "#Continuos uniform distribution\n",
    "#Select ten random numbers between one and three.\n",
    "runif(10, min=1, max=3) "
   ]
  },
  {
   "cell_type": "markdown",
   "metadata": {},
   "source": [
    "## Exponential Distribution"
   ]
  },
  {
   "cell_type": "code",
   "execution_count": 73,
   "metadata": {},
   "outputs": [
    {
     "data": {
      "text/html": [
       "0.486582880967408"
      ],
      "text/latex": [
       "0.486582880967408"
      ],
      "text/markdown": [
       "0.486582880967408"
      ],
      "text/plain": [
       "[1] 0.4865829"
      ]
     },
     "metadata": {},
     "output_type": "display_data"
    }
   ],
   "source": [
    "#Exponential Distribution\n",
    "#Select ten random numbers between one and three.Suppose the mean checkout time of a supermarket cashier is three minutes.\n",
    "#Find the probability of a customer checkout being completed by the cashier in less than two minutes.\n",
    "pexp(2,rate=1/3)"
   ]
  },
  {
   "cell_type": "markdown",
   "metadata": {},
   "source": [
    "## T-Distribution"
   ]
  },
  {
   "cell_type": "code",
   "execution_count": 74,
   "metadata": {},
   "outputs": [
    {
     "data": {
      "text/html": [
       "<ol class=list-inline>\n",
       "\t<li>-2.57058183563631</li>\n",
       "\t<li>2.57058183563631</li>\n",
       "</ol>\n"
      ],
      "text/latex": [
       "\\begin{enumerate*}\n",
       "\\item -2.57058183563631\n",
       "\\item 2.57058183563631\n",
       "\\end{enumerate*}\n"
      ],
      "text/markdown": [
       "1. -2.57058183563631\n",
       "2. 2.57058183563631\n",
       "\n",
       "\n"
      ],
      "text/plain": [
       "[1] -2.570582  2.570582"
      ]
     },
     "metadata": {},
     "output_type": "display_data"
    }
   ],
   "source": [
    "#t Distribution\n",
    "#Find the 2.5th and 97.5th percentiles of the Student t distribution with 5 degrees of freedom\n",
    "qt(c(.025, .975), df=5)"
   ]
  },
  {
   "cell_type": "markdown",
   "metadata": {},
   "source": [
    "## F-Distribution"
   ]
  },
  {
   "cell_type": "code",
   "execution_count": 75,
   "metadata": {},
   "outputs": [
    {
     "data": {
      "text/html": [
       "19.2964096520172"
      ],
      "text/latex": [
       "19.2964096520172"
      ],
      "text/markdown": [
       "19.2964096520172"
      ],
      "text/plain": [
       "[1] 19.29641"
      ]
     },
     "metadata": {},
     "output_type": "display_data"
    }
   ],
   "source": [
    "#F-Distribution\n",
    "#Find the 95th percentile of the F distribution with (5, 2) degrees of freedom.\n",
    "qf(.95, df1=5, df2=2) "
   ]
  },
  {
   "cell_type": "markdown",
   "metadata": {},
   "source": [
    "## Summary"
   ]
  },
  {
   "cell_type": "code",
   "execution_count": 76,
   "metadata": {},
   "outputs": [
    {
     "data": {
      "text/html": [
       "0.9453125"
      ],
      "text/latex": [
       "0.9453125"
      ],
      "text/markdown": [
       "0.9453125"
      ],
      "text/plain": [
       "[1] 0.9453125"
      ]
     },
     "metadata": {},
     "output_type": "display_data"
    },
    {
     "data": {
      "text/html": [
       "0.999992888029131"
      ],
      "text/latex": [
       "0.999992888029131"
      ],
      "text/markdown": [
       "0.999992888029131"
      ],
      "text/plain": [
       "[1] 0.9999929"
      ]
     },
     "metadata": {},
     "output_type": "display_data"
    },
    {
     "data": {
      "text/html": [
       "0.0184960150602093"
      ],
      "text/latex": [
       "0.0184960150602093"
      ],
      "text/markdown": [
       "0.0184960150602093"
      ],
      "text/plain": [
       "[1] 0.01849602"
      ]
     },
     "metadata": {},
     "output_type": "display_data"
    },
    {
     "data": {
      "text/html": [
       "0.0227501319481792"
      ],
      "text/latex": [
       "0.0227501319481792"
      ],
      "text/markdown": [
       "0.0227501319481792"
      ],
      "text/plain": [
       "[1] 0.02275013"
      ]
     },
     "metadata": {},
     "output_type": "display_data"
    }
   ],
   "source": [
    "# 1) The coin is flipped ten times. Find the probability of 7 heads occurring.\n",
    "# 2.A card is selected three times (and replaced). Find the probability of 2 face cards occurring.\n",
    "# 3. A student decides to guess on a section of his ACT test. The section contains 50 multiple choice questions and each question has 5 possible answers.\n",
    "# a) Find the expected number of correct responses.\n",
    "# 4. A company ships 5000 cell phones. They are expected to last an average of 10,000 hours before needing repair; with a standard deviation of 500 hours. Assume the survival time of the phones are normally distributed. If a phone is randomly selected to be tracked for repairs find the expected number that needs repair,\n",
    "#a) after 11,000 hours\n",
    "#ex1\n",
    "pbinom(7,size=10,prob=0.5)\n",
    "#ex2\n",
    "pbinom(2,size=3,prob=1/52)\n",
    "#ex3\n",
    "(pbinom(4,size=50,prob=0.2))\n",
    "#ex4\n",
    "pnorm(11000,mean=10000,sd=500,lower.tail=FALSE)"
   ]
  },
  {
   "cell_type": "markdown",
   "metadata": {},
   "source": [
    "## Multiple - TimeSeriesGraph"
   ]
  },
  {
   "cell_type": "code",
   "execution_count": 77,
   "metadata": {},
   "outputs": [
    {
     "name": "stdout",
     "output_type": "stream",
     "text": [
      "         Series 1 Series 2\n",
      "Jan 2012     1400     2980\n",
      "Feb 2012     5642     2542\n",
      "Mar 2012     1245     9845\n",
      "Apr 2012     2356     1756\n",
      "May 2012     4526     6526\n",
      "Jun 2012     2536     7136\n",
      "Jul 2012     4512     2412\n",
      "Aug 2012     8945     1245\n",
      "Sep 2012     7856     9756\n",
      "Oct 2012     2345     3675\n",
      "Nov 2012     8956     1756\n",
      "Dec 2012     4512     3612\n"
     ]
    }
   ],
   "source": [
    "library(plotrix)\n",
    "library(ggplot2)\n",
    "vec1 <- c(1400,5642,1245,2356,4526,2536,4512,8945,7856,2345,8956,4512)\n",
    "vec2 <- c(2980,2542,9845,1756,6526,7136,2412,1245,9756,3675,1756,3612)\n",
    "mat=matrix(c(vec1,vec2),nrow=12)\n",
    "result = ts(mat,c(2012,1),frequency = 12) \n",
    "print(result)\n"
   ]
  },
  {
   "cell_type": "code",
   "execution_count": 78,
   "metadata": {},
   "outputs": [
    {
     "data": {
      "image/png": "[encoded data removed]",
      "text/plain": [
       "Plot with title \"pie chart\""
      ]
     },
     "metadata": {},
     "output_type": "display_data"
    }
   ],
   "source": [
    "pie3D(result,main=\"pie chart\",explode = 0.1,col=rainbow(5))\n"
   ]
  },
  {
   "cell_type": "code",
   "execution_count": 79,
   "metadata": {},
   "outputs": [
    {
     "data": {
      "image/png": "[encoded data removed]",
      "text/plain": [
       "plot without title"
      ]
     },
     "metadata": {},
     "output_type": "display_data"
    }
   ],
   "source": [
    "plot(result,type = \"o\",col = \"red\", xlab = \"Months\", ylab = \"Rainfal\", \n",
    "     main = \"Rainfall Prediction\")"
   ]
  },
  {
   "cell_type": "code",
   "execution_count": 80,
   "metadata": {},
   "outputs": [
    {
     "name": "stdout",
     "output_type": "stream",
     "text": [
      "      Jan  Feb  Mar  Apr  May  Jun  Jul  Aug  Sep  Oct  Nov  Dec\n",
      "2012 1400 5642 1245 2356 4526 2536 4512 8945 7856 2345 8956 4512\n"
     ]
    }
   ],
   "source": [
    "library(plotrix)\n",
    "library(ggplot2)\n",
    "vec1 <- c(1400,5642,1245,2356,4526,2536,4512,8945,7856,2345,8956,4512)\n",
    "result = ts(vec1,c(2012,1),frequency = 12) \n",
    "print(result)"
   ]
  },
  {
   "cell_type": "code",
   "execution_count": 81,
   "metadata": {},
   "outputs": [
    {
     "data": {
      "image/png": "[encoded data removed]",
      "text/plain": [
       "Plot with title \"Histogram of result\""
      ]
     },
     "metadata": {},
     "output_type": "display_data"
    }
   ],
   "source": [
    "hist(result)"
   ]
  },
  {
   "cell_type": "code",
   "execution_count": 82,
   "metadata": {},
   "outputs": [
    {
     "data": {
      "image/png": "[encoded data removed]",
      "text/plain": [
       "Plot with title \"Rainfall Prediction\""
      ]
     },
     "metadata": {},
     "output_type": "display_data"
    }
   ],
   "source": [
    "plot(result,type = \"o\",col = \"red\", xlab = \"Months\", ylab = \"Rainfal\", \n",
    "     main = \"Rainfall Prediction\")"
   ]
  },
  {
   "cell_type": "markdown",
   "metadata": {},
   "source": [
    "## <font color = \"grey\" >DAY - 8</font>"
   ]
  },
  {
   "cell_type": "markdown",
   "metadata": {},
   "source": [
    "## Correlation"
   ]
  },
  {
   "cell_type": "code",
   "execution_count": 83,
   "metadata": {},
   "outputs": [
    {
     "data": {
      "text/html": [
       "0.860462439748913"
      ],
      "text/latex": [
       "0.860462439748913"
      ],
      "text/markdown": [
       "0.860462439748913"
      ],
      "text/plain": [
       "[1] 0.8604624"
      ]
     },
     "metadata": {},
     "output_type": "display_data"
    },
    {
     "data": {
      "text/html": [
       "0.7096921893772"
      ],
      "text/latex": [
       "0.7096921893772"
      ],
      "text/markdown": [
       "0.7096921893772"
      ],
      "text/plain": [
       "[1] 0.7096922"
      ]
     },
     "metadata": {},
     "output_type": "display_data"
    },
    {
     "data": {
      "text/html": [
       "0.850069579975727"
      ],
      "text/latex": [
       "0.850069579975727"
      ],
      "text/markdown": [
       "0.850069579975727"
      ],
      "text/plain": [
       "[1] 0.8500696"
      ]
     },
     "metadata": {},
     "output_type": "display_data"
    },
    {
     "data": {
      "text/plain": [
       "\n",
       "\tPearson's product-moment correlation\n",
       "\n",
       "data:  HoursStudied and ExamMark\n",
       "t = 5.6011, df = 11, p-value = 0.0001601\n",
       "alternative hypothesis: true correlation is not equal to 0\n",
       "95 percent confidence interval:\n",
       " 0.5884739 0.9574966\n",
       "sample estimates:\n",
       "      cor \n",
       "0.8604624 \n"
      ]
     },
     "metadata": {},
     "output_type": "display_data"
    }
   ],
   "source": [
    "#Correlation\n",
    "HoursStudied <- c(8,11,3,6,14,9,2,0,7,13,10,4,9)\n",
    "ExamMark <- c(82,94,70,75,98,80,68,53,76,87,89,83,72)\n",
    "#various types of correlation\n",
    "cor(HoursStudied,ExamMark,method = \"pearson\")\n",
    "cor(HoursStudied,ExamMark,method = \"kendall\")\n",
    "cor(HoursStudied,ExamMark,method = \"spearman\")\n",
    "#Gives a summary of pearson correlation\n",
    "cor.test(HoursStudied,ExamMark, method=c(\"pearson\", \"kendall\", \"spearman\"))\n"
   ]
  },
  {
   "cell_type": "code",
   "execution_count": 84,
   "metadata": {},
   "outputs": [
    {
     "data": {
      "text/html": [
       "<table>\n",
       "<thead><tr><th></th><th scope=col>mpg</th><th scope=col>cyl</th><th scope=col>disp</th><th scope=col>hp</th><th scope=col>drat</th><th scope=col>wt</th><th scope=col>qsec</th><th scope=col>vs</th><th scope=col>am</th><th scope=col>gear</th><th scope=col>carb</th></tr></thead>\n",
       "<tbody>\n",
       "\t<tr><th scope=row>Mazda RX4</th><td>21.0 </td><td>6    </td><td>160.0</td><td>110  </td><td>3.90 </td><td>2.620</td><td>16.46</td><td>0    </td><td>1    </td><td>4    </td><td>4    </td></tr>\n",
       "\t<tr><th scope=row>Mazda RX4 Wag</th><td>21.0 </td><td>6    </td><td>160.0</td><td>110  </td><td>3.90 </td><td>2.875</td><td>17.02</td><td>0    </td><td>1    </td><td>4    </td><td>4    </td></tr>\n",
       "\t<tr><th scope=row>Datsun 710</th><td>22.8 </td><td>4    </td><td>108.0</td><td> 93  </td><td>3.85 </td><td>2.320</td><td>18.61</td><td>1    </td><td>1    </td><td>4    </td><td>1    </td></tr>\n",
       "\t<tr><th scope=row>Hornet 4 Drive</th><td>21.4 </td><td>6    </td><td>258.0</td><td>110  </td><td>3.08 </td><td>3.215</td><td>19.44</td><td>1    </td><td>0    </td><td>3    </td><td>1    </td></tr>\n",
       "\t<tr><th scope=row>Hornet Sportabout</th><td>18.7 </td><td>8    </td><td>360.0</td><td>175  </td><td>3.15 </td><td>3.440</td><td>17.02</td><td>0    </td><td>0    </td><td>3    </td><td>2    </td></tr>\n",
       "\t<tr><th scope=row>Valiant</th><td>18.1 </td><td>6    </td><td>225.0</td><td>105  </td><td>2.76 </td><td>3.460</td><td>20.22</td><td>1    </td><td>0    </td><td>3    </td><td>1    </td></tr>\n",
       "\t<tr><th scope=row>Duster 360</th><td>14.3 </td><td>8    </td><td>360.0</td><td>245  </td><td>3.21 </td><td>3.570</td><td>15.84</td><td>0    </td><td>0    </td><td>3    </td><td>4    </td></tr>\n",
       "\t<tr><th scope=row>Merc 240D</th><td>24.4 </td><td>4    </td><td>146.7</td><td> 62  </td><td>3.69 </td><td>3.190</td><td>20.00</td><td>1    </td><td>0    </td><td>4    </td><td>2    </td></tr>\n",
       "\t<tr><th scope=row>Merc 230</th><td>22.8 </td><td>4    </td><td>140.8</td><td> 95  </td><td>3.92 </td><td>3.150</td><td>22.90</td><td>1    </td><td>0    </td><td>4    </td><td>2    </td></tr>\n",
       "\t<tr><th scope=row>Merc 280</th><td>19.2 </td><td>6    </td><td>167.6</td><td>123  </td><td>3.92 </td><td>3.440</td><td>18.30</td><td>1    </td><td>0    </td><td>4    </td><td>4    </td></tr>\n",
       "\t<tr><th scope=row>Merc 280C</th><td>17.8 </td><td>6    </td><td>167.6</td><td>123  </td><td>3.92 </td><td>3.440</td><td>18.90</td><td>1    </td><td>0    </td><td>4    </td><td>4    </td></tr>\n",
       "\t<tr><th scope=row>Merc 450SE</th><td>16.4 </td><td>8    </td><td>275.8</td><td>180  </td><td>3.07 </td><td>4.070</td><td>17.40</td><td>0    </td><td>0    </td><td>3    </td><td>3    </td></tr>\n",
       "\t<tr><th scope=row>Merc 450SL</th><td>17.3 </td><td>8    </td><td>275.8</td><td>180  </td><td>3.07 </td><td>3.730</td><td>17.60</td><td>0    </td><td>0    </td><td>3    </td><td>3    </td></tr>\n",
       "\t<tr><th scope=row>Merc 450SLC</th><td>15.2 </td><td>8    </td><td>275.8</td><td>180  </td><td>3.07 </td><td>3.780</td><td>18.00</td><td>0    </td><td>0    </td><td>3    </td><td>3    </td></tr>\n",
       "\t<tr><th scope=row>Cadillac Fleetwood</th><td>10.4 </td><td>8    </td><td>472.0</td><td>205  </td><td>2.93 </td><td>5.250</td><td>17.98</td><td>0    </td><td>0    </td><td>3    </td><td>4    </td></tr>\n",
       "\t<tr><th scope=row>Lincoln Continental</th><td>10.4 </td><td>8    </td><td>460.0</td><td>215  </td><td>3.00 </td><td>5.424</td><td>17.82</td><td>0    </td><td>0    </td><td>3    </td><td>4    </td></tr>\n",
       "\t<tr><th scope=row>Chrysler Imperial</th><td>14.7 </td><td>8    </td><td>440.0</td><td>230  </td><td>3.23 </td><td>5.345</td><td>17.42</td><td>0    </td><td>0    </td><td>3    </td><td>4    </td></tr>\n",
       "\t<tr><th scope=row>Fiat 128</th><td>32.4 </td><td>4    </td><td> 78.7</td><td> 66  </td><td>4.08 </td><td>2.200</td><td>19.47</td><td>1    </td><td>1    </td><td>4    </td><td>1    </td></tr>\n",
       "\t<tr><th scope=row>Honda Civic</th><td>30.4 </td><td>4    </td><td> 75.7</td><td> 52  </td><td>4.93 </td><td>1.615</td><td>18.52</td><td>1    </td><td>1    </td><td>4    </td><td>2    </td></tr>\n",
       "\t<tr><th scope=row>Toyota Corolla</th><td>33.9 </td><td>4    </td><td> 71.1</td><td> 65  </td><td>4.22 </td><td>1.835</td><td>19.90</td><td>1    </td><td>1    </td><td>4    </td><td>1    </td></tr>\n",
       "\t<tr><th scope=row>Toyota Corona</th><td>21.5 </td><td>4    </td><td>120.1</td><td> 97  </td><td>3.70 </td><td>2.465</td><td>20.01</td><td>1    </td><td>0    </td><td>3    </td><td>1    </td></tr>\n",
       "\t<tr><th scope=row>Dodge Challenger</th><td>15.5 </td><td>8    </td><td>318.0</td><td>150  </td><td>2.76 </td><td>3.520</td><td>16.87</td><td>0    </td><td>0    </td><td>3    </td><td>2    </td></tr>\n",
       "\t<tr><th scope=row>AMC Javelin</th><td>15.2 </td><td>8    </td><td>304.0</td><td>150  </td><td>3.15 </td><td>3.435</td><td>17.30</td><td>0    </td><td>0    </td><td>3    </td><td>2    </td></tr>\n",
       "\t<tr><th scope=row>Camaro Z28</th><td>13.3 </td><td>8    </td><td>350.0</td><td>245  </td><td>3.73 </td><td>3.840</td><td>15.41</td><td>0    </td><td>0    </td><td>3    </td><td>4    </td></tr>\n",
       "\t<tr><th scope=row>Pontiac Firebird</th><td>19.2 </td><td>8    </td><td>400.0</td><td>175  </td><td>3.08 </td><td>3.845</td><td>17.05</td><td>0    </td><td>0    </td><td>3    </td><td>2    </td></tr>\n",
       "\t<tr><th scope=row>Fiat X1-9</th><td>27.3 </td><td>4    </td><td> 79.0</td><td> 66  </td><td>4.08 </td><td>1.935</td><td>18.90</td><td>1    </td><td>1    </td><td>4    </td><td>1    </td></tr>\n",
       "\t<tr><th scope=row>Porsche 914-2</th><td>26.0 </td><td>4    </td><td>120.3</td><td> 91  </td><td>4.43 </td><td>2.140</td><td>16.70</td><td>0    </td><td>1    </td><td>5    </td><td>2    </td></tr>\n",
       "\t<tr><th scope=row>Lotus Europa</th><td>30.4 </td><td>4    </td><td> 95.1</td><td>113  </td><td>3.77 </td><td>1.513</td><td>16.90</td><td>1    </td><td>1    </td><td>5    </td><td>2    </td></tr>\n",
       "\t<tr><th scope=row>Ford Pantera L</th><td>15.8 </td><td>8    </td><td>351.0</td><td>264  </td><td>4.22 </td><td>3.170</td><td>14.50</td><td>0    </td><td>1    </td><td>5    </td><td>4    </td></tr>\n",
       "\t<tr><th scope=row>Ferrari Dino</th><td>19.7 </td><td>6    </td><td>145.0</td><td>175  </td><td>3.62 </td><td>2.770</td><td>15.50</td><td>0    </td><td>1    </td><td>5    </td><td>6    </td></tr>\n",
       "\t<tr><th scope=row>Maserati Bora</th><td>15.0 </td><td>8    </td><td>301.0</td><td>335  </td><td>3.54 </td><td>3.570</td><td>14.60</td><td>0    </td><td>1    </td><td>5    </td><td>8    </td></tr>\n",
       "\t<tr><th scope=row>Volvo 142E</th><td>21.4 </td><td>4    </td><td>121.0</td><td>109  </td><td>4.11 </td><td>2.780</td><td>18.60</td><td>1    </td><td>1    </td><td>4    </td><td>2    </td></tr>\n",
       "</tbody>\n",
       "</table>\n"
      ],
      "text/latex": [
       "\\begin{tabular}{r|lllllllllll}\n",
       "  & mpg & cyl & disp & hp & drat & wt & qsec & vs & am & gear & carb\\\\\n",
       "\\hline\n",
       "\tMazda RX4 & 21.0  & 6     & 160.0 & 110   & 3.90  & 2.620 & 16.46 & 0     & 1     & 4     & 4    \\\\\n",
       "\tMazda RX4 Wag & 21.0  & 6     & 160.0 & 110   & 3.90  & 2.875 & 17.02 & 0     & 1     & 4     & 4    \\\\\n",
       "\tDatsun 710 & 22.8  & 4     & 108.0 &  93   & 3.85  & 2.320 & 18.61 & 1     & 1     & 4     & 1    \\\\\n",
       "\tHornet 4 Drive & 21.4  & 6     & 258.0 & 110   & 3.08  & 3.215 & 19.44 & 1     & 0     & 3     & 1    \\\\\n",
       "\tHornet Sportabout & 18.7  & 8     & 360.0 & 175   & 3.15  & 3.440 & 17.02 & 0     & 0     & 3     & 2    \\\\\n",
       "\tValiant & 18.1  & 6     & 225.0 & 105   & 2.76  & 3.460 & 20.22 & 1     & 0     & 3     & 1    \\\\\n",
       "\tDuster 360 & 14.3  & 8     & 360.0 & 245   & 3.21  & 3.570 & 15.84 & 0     & 0     & 3     & 4    \\\\\n",
       "\tMerc 240D & 24.4  & 4     & 146.7 &  62   & 3.69  & 3.190 & 20.00 & 1     & 0     & 4     & 2    \\\\\n",
       "\tMerc 230 & 22.8  & 4     & 140.8 &  95   & 3.92  & 3.150 & 22.90 & 1     & 0     & 4     & 2    \\\\\n",
       "\tMerc 280 & 19.2  & 6     & 167.6 & 123   & 3.92  & 3.440 & 18.30 & 1     & 0     & 4     & 4    \\\\\n",
       "\tMerc 280C & 17.8  & 6     & 167.6 & 123   & 3.92  & 3.440 & 18.90 & 1     & 0     & 4     & 4    \\\\\n",
       "\tMerc 450SE & 16.4  & 8     & 275.8 & 180   & 3.07  & 4.070 & 17.40 & 0     & 0     & 3     & 3    \\\\\n",
       "\tMerc 450SL & 17.3  & 8     & 275.8 & 180   & 3.07  & 3.730 & 17.60 & 0     & 0     & 3     & 3    \\\\\n",
       "\tMerc 450SLC & 15.2  & 8     & 275.8 & 180   & 3.07  & 3.780 & 18.00 & 0     & 0     & 3     & 3    \\\\\n",
       "\tCadillac Fleetwood & 10.4  & 8     & 472.0 & 205   & 2.93  & 5.250 & 17.98 & 0     & 0     & 3     & 4    \\\\\n",
       "\tLincoln Continental & 10.4  & 8     & 460.0 & 215   & 3.00  & 5.424 & 17.82 & 0     & 0     & 3     & 4    \\\\\n",
       "\tChrysler Imperial & 14.7  & 8     & 440.0 & 230   & 3.23  & 5.345 & 17.42 & 0     & 0     & 3     & 4    \\\\\n",
       "\tFiat 128 & 32.4  & 4     &  78.7 &  66   & 4.08  & 2.200 & 19.47 & 1     & 1     & 4     & 1    \\\\\n",
       "\tHonda Civic & 30.4  & 4     &  75.7 &  52   & 4.93  & 1.615 & 18.52 & 1     & 1     & 4     & 2    \\\\\n",
       "\tToyota Corolla & 33.9  & 4     &  71.1 &  65   & 4.22  & 1.835 & 19.90 & 1     & 1     & 4     & 1    \\\\\n",
       "\tToyota Corona & 21.5  & 4     & 120.1 &  97   & 3.70  & 2.465 & 20.01 & 1     & 0     & 3     & 1    \\\\\n",
       "\tDodge Challenger & 15.5  & 8     & 318.0 & 150   & 2.76  & 3.520 & 16.87 & 0     & 0     & 3     & 2    \\\\\n",
       "\tAMC Javelin & 15.2  & 8     & 304.0 & 150   & 3.15  & 3.435 & 17.30 & 0     & 0     & 3     & 2    \\\\\n",
       "\tCamaro Z28 & 13.3  & 8     & 350.0 & 245   & 3.73  & 3.840 & 15.41 & 0     & 0     & 3     & 4    \\\\\n",
       "\tPontiac Firebird & 19.2  & 8     & 400.0 & 175   & 3.08  & 3.845 & 17.05 & 0     & 0     & 3     & 2    \\\\\n",
       "\tFiat X1-9 & 27.3  & 4     &  79.0 &  66   & 4.08  & 1.935 & 18.90 & 1     & 1     & 4     & 1    \\\\\n",
       "\tPorsche 914-2 & 26.0  & 4     & 120.3 &  91   & 4.43  & 2.140 & 16.70 & 0     & 1     & 5     & 2    \\\\\n",
       "\tLotus Europa & 30.4  & 4     &  95.1 & 113   & 3.77  & 1.513 & 16.90 & 1     & 1     & 5     & 2    \\\\\n",
       "\tFord Pantera L & 15.8  & 8     & 351.0 & 264   & 4.22  & 3.170 & 14.50 & 0     & 1     & 5     & 4    \\\\\n",
       "\tFerrari Dino & 19.7  & 6     & 145.0 & 175   & 3.62  & 2.770 & 15.50 & 0     & 1     & 5     & 6    \\\\\n",
       "\tMaserati Bora & 15.0  & 8     & 301.0 & 335   & 3.54  & 3.570 & 14.60 & 0     & 1     & 5     & 8    \\\\\n",
       "\tVolvo 142E & 21.4  & 4     & 121.0 & 109   & 4.11  & 2.780 & 18.60 & 1     & 1     & 4     & 2    \\\\\n",
       "\\end{tabular}\n"
      ],
      "text/markdown": [
       "\n",
       "| <!--/--> | mpg | cyl | disp | hp | drat | wt | qsec | vs | am | gear | carb |\n",
       "|---|---|---|---|---|---|---|---|---|---|---|---|\n",
       "| Mazda RX4 | 21.0  | 6     | 160.0 | 110   | 3.90  | 2.620 | 16.46 | 0     | 1     | 4     | 4     |\n",
       "| Mazda RX4 Wag | 21.0  | 6     | 160.0 | 110   | 3.90  | 2.875 | 17.02 | 0     | 1     | 4     | 4     |\n",
       "| Datsun 710 | 22.8  | 4     | 108.0 |  93   | 3.85  | 2.320 | 18.61 | 1     | 1     | 4     | 1     |\n",
       "| Hornet 4 Drive | 21.4  | 6     | 258.0 | 110   | 3.08  | 3.215 | 19.44 | 1     | 0     | 3     | 1     |\n",
       "| Hornet Sportabout | 18.7  | 8     | 360.0 | 175   | 3.15  | 3.440 | 17.02 | 0     | 0     | 3     | 2     |\n",
       "| Valiant | 18.1  | 6     | 225.0 | 105   | 2.76  | 3.460 | 20.22 | 1     | 0     | 3     | 1     |\n",
       "| Duster 360 | 14.3  | 8     | 360.0 | 245   | 3.21  | 3.570 | 15.84 | 0     | 0     | 3     | 4     |\n",
       "| Merc 240D | 24.4  | 4     | 146.7 |  62   | 3.69  | 3.190 | 20.00 | 1     | 0     | 4     | 2     |\n",
       "| Merc 230 | 22.8  | 4     | 140.8 |  95   | 3.92  | 3.150 | 22.90 | 1     | 0     | 4     | 2     |\n",
       "| Merc 280 | 19.2  | 6     | 167.6 | 123   | 3.92  | 3.440 | 18.30 | 1     | 0     | 4     | 4     |\n",
       "| Merc 280C | 17.8  | 6     | 167.6 | 123   | 3.92  | 3.440 | 18.90 | 1     | 0     | 4     | 4     |\n",
       "| Merc 450SE | 16.4  | 8     | 275.8 | 180   | 3.07  | 4.070 | 17.40 | 0     | 0     | 3     | 3     |\n",
       "| Merc 450SL | 17.3  | 8     | 275.8 | 180   | 3.07  | 3.730 | 17.60 | 0     | 0     | 3     | 3     |\n",
       "| Merc 450SLC | 15.2  | 8     | 275.8 | 180   | 3.07  | 3.780 | 18.00 | 0     | 0     | 3     | 3     |\n",
       "| Cadillac Fleetwood | 10.4  | 8     | 472.0 | 205   | 2.93  | 5.250 | 17.98 | 0     | 0     | 3     | 4     |\n",
       "| Lincoln Continental | 10.4  | 8     | 460.0 | 215   | 3.00  | 5.424 | 17.82 | 0     | 0     | 3     | 4     |\n",
       "| Chrysler Imperial | 14.7  | 8     | 440.0 | 230   | 3.23  | 5.345 | 17.42 | 0     | 0     | 3     | 4     |\n",
       "| Fiat 128 | 32.4  | 4     |  78.7 |  66   | 4.08  | 2.200 | 19.47 | 1     | 1     | 4     | 1     |\n",
       "| Honda Civic | 30.4  | 4     |  75.7 |  52   | 4.93  | 1.615 | 18.52 | 1     | 1     | 4     | 2     |\n",
       "| Toyota Corolla | 33.9  | 4     |  71.1 |  65   | 4.22  | 1.835 | 19.90 | 1     | 1     | 4     | 1     |\n",
       "| Toyota Corona | 21.5  | 4     | 120.1 |  97   | 3.70  | 2.465 | 20.01 | 1     | 0     | 3     | 1     |\n",
       "| Dodge Challenger | 15.5  | 8     | 318.0 | 150   | 2.76  | 3.520 | 16.87 | 0     | 0     | 3     | 2     |\n",
       "| AMC Javelin | 15.2  | 8     | 304.0 | 150   | 3.15  | 3.435 | 17.30 | 0     | 0     | 3     | 2     |\n",
       "| Camaro Z28 | 13.3  | 8     | 350.0 | 245   | 3.73  | 3.840 | 15.41 | 0     | 0     | 3     | 4     |\n",
       "| Pontiac Firebird | 19.2  | 8     | 400.0 | 175   | 3.08  | 3.845 | 17.05 | 0     | 0     | 3     | 2     |\n",
       "| Fiat X1-9 | 27.3  | 4     |  79.0 |  66   | 4.08  | 1.935 | 18.90 | 1     | 1     | 4     | 1     |\n",
       "| Porsche 914-2 | 26.0  | 4     | 120.3 |  91   | 4.43  | 2.140 | 16.70 | 0     | 1     | 5     | 2     |\n",
       "| Lotus Europa | 30.4  | 4     |  95.1 | 113   | 3.77  | 1.513 | 16.90 | 1     | 1     | 5     | 2     |\n",
       "| Ford Pantera L | 15.8  | 8     | 351.0 | 264   | 4.22  | 3.170 | 14.50 | 0     | 1     | 5     | 4     |\n",
       "| Ferrari Dino | 19.7  | 6     | 145.0 | 175   | 3.62  | 2.770 | 15.50 | 0     | 1     | 5     | 6     |\n",
       "| Maserati Bora | 15.0  | 8     | 301.0 | 335   | 3.54  | 3.570 | 14.60 | 0     | 1     | 5     | 8     |\n",
       "| Volvo 142E | 21.4  | 4     | 121.0 | 109   | 4.11  | 2.780 | 18.60 | 1     | 1     | 4     | 2     |\n",
       "\n"
      ],
      "text/plain": [
       "                    mpg  cyl disp  hp  drat wt    qsec  vs am gear carb\n",
       "Mazda RX4           21.0 6   160.0 110 3.90 2.620 16.46 0  1  4    4   \n",
       "Mazda RX4 Wag       21.0 6   160.0 110 3.90 2.875 17.02 0  1  4    4   \n",
       "Datsun 710          22.8 4   108.0  93 3.85 2.320 18.61 1  1  4    1   \n",
       "Hornet 4 Drive      21.4 6   258.0 110 3.08 3.215 19.44 1  0  3    1   \n",
       "Hornet Sportabout   18.7 8   360.0 175 3.15 3.440 17.02 0  0  3    2   \n",
       "Valiant             18.1 6   225.0 105 2.76 3.460 20.22 1  0  3    1   \n",
       "Duster 360          14.3 8   360.0 245 3.21 3.570 15.84 0  0  3    4   \n",
       "Merc 240D           24.4 4   146.7  62 3.69 3.190 20.00 1  0  4    2   \n",
       "Merc 230            22.8 4   140.8  95 3.92 3.150 22.90 1  0  4    2   \n",
       "Merc 280            19.2 6   167.6 123 3.92 3.440 18.30 1  0  4    4   \n",
       "Merc 280C           17.8 6   167.6 123 3.92 3.440 18.90 1  0  4    4   \n",
       "Merc 450SE          16.4 8   275.8 180 3.07 4.070 17.40 0  0  3    3   \n",
       "Merc 450SL          17.3 8   275.8 180 3.07 3.730 17.60 0  0  3    3   \n",
       "Merc 450SLC         15.2 8   275.8 180 3.07 3.780 18.00 0  0  3    3   \n",
       "Cadillac Fleetwood  10.4 8   472.0 205 2.93 5.250 17.98 0  0  3    4   \n",
       "Lincoln Continental 10.4 8   460.0 215 3.00 5.424 17.82 0  0  3    4   \n",
       "Chrysler Imperial   14.7 8   440.0 230 3.23 5.345 17.42 0  0  3    4   \n",
       "Fiat 128            32.4 4    78.7  66 4.08 2.200 19.47 1  1  4    1   \n",
       "Honda Civic         30.4 4    75.7  52 4.93 1.615 18.52 1  1  4    2   \n",
       "Toyota Corolla      33.9 4    71.1  65 4.22 1.835 19.90 1  1  4    1   \n",
       "Toyota Corona       21.5 4   120.1  97 3.70 2.465 20.01 1  0  3    1   \n",
       "Dodge Challenger    15.5 8   318.0 150 2.76 3.520 16.87 0  0  3    2   \n",
       "AMC Javelin         15.2 8   304.0 150 3.15 3.435 17.30 0  0  3    2   \n",
       "Camaro Z28          13.3 8   350.0 245 3.73 3.840 15.41 0  0  3    4   \n",
       "Pontiac Firebird    19.2 8   400.0 175 3.08 3.845 17.05 0  0  3    2   \n",
       "Fiat X1-9           27.3 4    79.0  66 4.08 1.935 18.90 1  1  4    1   \n",
       "Porsche 914-2       26.0 4   120.3  91 4.43 2.140 16.70 0  1  5    2   \n",
       "Lotus Europa        30.4 4    95.1 113 3.77 1.513 16.90 1  1  5    2   \n",
       "Ford Pantera L      15.8 8   351.0 264 4.22 3.170 14.50 0  1  5    4   \n",
       "Ferrari Dino        19.7 6   145.0 175 3.62 2.770 15.50 0  1  5    6   \n",
       "Maserati Bora       15.0 8   301.0 335 3.54 3.570 14.60 0  1  5    8   \n",
       "Volvo 142E          21.4 4   121.0 109 4.11 2.780 18.60 1  1  4    2   "
      ]
     },
     "metadata": {},
     "output_type": "display_data"
    },
    {
     "data": {
      "text/plain": [
       "\n",
       "\tPearson's product-moment correlation\n",
       "\n",
       "data:  mpg and cyl\n",
       "t = -8.9197, df = 30, p-value = 6.113e-10\n",
       "alternative hypothesis: true correlation is not equal to 0\n",
       "95 percent confidence interval:\n",
       " -0.9257694 -0.7163171\n",
       "sample estimates:\n",
       "      cor \n",
       "-0.852162 \n"
      ]
     },
     "metadata": {},
     "output_type": "display_data"
    }
   ],
   "source": [
    "mtcars\n",
    "#Input from mtcars\n",
    "mpg = mtcars$mpg\n",
    "cyl = mtcars$cyl\n",
    "#Correlation Summary\n",
    "cor.test(mpg,cyl)"
   ]
  },
  {
   "cell_type": "markdown",
   "metadata": {},
   "source": [
    "## Linear Regression"
   ]
  },
  {
   "cell_type": "code",
   "execution_count": 85,
   "metadata": {},
   "outputs": [],
   "source": [
    "#predict\n",
    "HoursStudied <- c(8,11,3,6,14,9,2,0,7,13,10,4,9,10)\n",
    "#response\n",
    "ExamMark <- c(82,94,70,75,98,80,68,53,76,87,89,83,72,85.3494)\n"
   ]
  },
  {
   "cell_type": "code",
   "execution_count": 86,
   "metadata": {},
   "outputs": [
    {
     "data": {
      "text/plain": [
       "\n",
       "Call:\n",
       "lm(formula = ExamMark ~ HoursStudied)\n",
       "\n",
       "Residuals:\n",
       "    Min      1Q  Median      3Q     Max \n",
       "-10.922  -2.708   0.753   2.723  12.217 \n",
       "\n",
       "Coefficients:\n",
       "             Estimate Std. Error t value Pr(>|t|)    \n",
       "(Intercept)    61.072      3.502  17.441 6.85e-10 ***\n",
       "HoursStudied    2.428      0.409   5.935 6.87e-05 ***\n",
       "---\n",
       "Signif. codes:  0 '***' 0.001 '**' 0.01 '*' 0.05 '.' 0.1 ' ' 1\n",
       "\n",
       "Residual standard error: 6.114 on 12 degrees of freedom\n",
       "Multiple R-squared:  0.7459,\tAdjusted R-squared:  0.7247 \n",
       "F-statistic: 35.23 on 1 and 12 DF,  p-value: 6.87e-05\n"
      ]
     },
     "metadata": {},
     "output_type": "display_data"
    }
   ],
   "source": [
    "#Linear model\n",
    "relation = lm(ExamMark~HoursStudied)\n",
    "summary(relation)\n"
   ]
  },
  {
   "cell_type": "code",
   "execution_count": 87,
   "metadata": {},
   "outputs": [
    {
     "data": {
      "text/html": [
       "<strong>1:</strong> 85.349397826087"
      ],
      "text/latex": [
       "\\textbf{1:} 85.349397826087"
      ],
      "text/markdown": [
       "**1:** 85.349397826087"
      ],
      "text/plain": [
       "      1 \n",
       "85.3494 "
      ]
     },
     "metadata": {},
     "output_type": "display_data"
    }
   ],
   "source": [
    "#Assigning x value to our model\n",
    "result = data.frame(HoursStudied = 10)\n",
    "final = predict(relation,result)\n",
    "final\n"
   ]
  },
  {
   "cell_type": "code",
   "execution_count": 88,
   "metadata": {},
   "outputs": [
    {
     "data": {
      "image/png": "[encoded data removed]",
      "text/plain": [
       "Plot with title \"Linear Regression\""
      ]
     },
     "metadata": {},
     "output_type": "display_data"
    }
   ],
   "source": [
    "#Visualizing\n",
    "plot(HoursStudied,ExamMark,col = \"blue\",main = \"Linear Regression\",\n",
    "     abline(lm(ExamMark~HoursStudied)),cex = 1.3,pch = 16,\n",
    "     xlab = \"Study Hours\",ylab = \"Marks Scored\")\n"
   ]
  },
  {
   "cell_type": "markdown",
   "metadata": {},
   "source": [
    "## Multi Linear Regression"
   ]
  },
  {
   "cell_type": "code",
   "execution_count": 89,
   "metadata": {},
   "outputs": [],
   "source": [
    "#mulitiple regression\n",
    "weight=c(1.4,2.8,3.4)\n",
    "size=c(1.2,2.4,3.4)\n",
    "tail=c(0.9,1,0.8)\n"
   ]
  },
  {
   "cell_type": "code",
   "execution_count": 90,
   "metadata": {},
   "outputs": [
    {
     "data": {
      "text/plain": [
       "\n",
       "Call:\n",
       "lm(formula = size ~ weight + tail)\n",
       "\n",
       "Residuals:\n",
       "ALL 3 residuals are 0: no residual degrees of freedom!\n",
       "\n",
       "Coefficients:\n",
       "            Estimate Std. Error t value Pr(>|t|)\n",
       "(Intercept)      1.6         NA      NA       NA\n",
       "weight           1.0         NA      NA       NA\n",
       "tail            -2.0         NA      NA       NA\n",
       "\n",
       "Residual standard error: NaN on 0 degrees of freedom\n",
       "Multiple R-squared:      1,\tAdjusted R-squared:    NaN \n",
       "F-statistic:   NaN on 2 and 0 DF,  p-value: NA\n"
      ]
     },
     "metadata": {},
     "output_type": "display_data"
    }
   ],
   "source": [
    "model=lm(size~weight+tail)\n",
    "summary(model)\n",
    "\n"
   ]
  },
  {
   "cell_type": "code",
   "execution_count": 91,
   "metadata": {},
   "outputs": [
    {
     "name": "stdout",
     "output_type": "stream",
     "text": [
      "  1 \n",
      "2.5 \n"
     ]
    }
   ],
   "source": [
    "res=data.frame(weight=2.5,tail=0.8)\n",
    "fin=predict(model,res)\n",
    "print(fin)"
   ]
  },
  {
   "cell_type": "markdown",
   "metadata": {},
   "source": [
    "## One Sampled & Two Sampled T-Test"
   ]
  },
  {
   "cell_type": "code",
   "execution_count": 92,
   "metadata": {},
   "outputs": [
    {
     "data": {
      "text/plain": [
       "\n",
       "\tWelch Two Sample t-test\n",
       "\n",
       "data:  preferred and Nonpreffered\n",
       "t = 1.7408, df = 5.8509, p-value = 0.1336\n",
       "alternative hypothesis: true difference in means is not equal to 0\n",
       "95 percent confidence interval:\n",
       " -0.8287445  4.8287445\n",
       "sample estimates:\n",
       "mean of x mean of y \n",
       "     10.6       8.6 \n"
      ]
     },
     "metadata": {},
     "output_type": "display_data"
    },
    {
     "data": {
      "text/plain": [
       "\n",
       "\tOne Sample t-test\n",
       "\n",
       "data:  preferred\n",
       "t = 10.296, df = 4, p-value = 0.000502\n",
       "alternative hypothesis: true mean is not equal to 0\n",
       "95 percent confidence interval:\n",
       "  7.741475 13.458525\n",
       "sample estimates:\n",
       "mean of x \n",
       "     10.6 \n"
      ]
     },
     "metadata": {},
     "output_type": "display_data"
    },
    {
     "data": {
      "text/plain": [
       "\n",
       "\tOne Sample t-test\n",
       "\n",
       "data:  preferred\n",
       "t = 10.296, df = 4, p-value = 0.000502\n",
       "alternative hypothesis: true mean is not equal to 0\n",
       "95 percent confidence interval:\n",
       "  7.741475 13.458525\n",
       "sample estimates:\n",
       "mean of x \n",
       "     10.6 \n"
      ]
     },
     "metadata": {},
     "output_type": "display_data"
    }
   ],
   "source": [
    "preferred<-c(12,7,11,13,10)\n",
    "Nonpreffered<-c(7,9,8,10,9)\n",
    "t.test(preferred,Nonpreffered,conf.level=0.95)\n",
    "\n",
    "t.test(preferred,y = NULL,conf.level=0.95,mu = 0,paired = FALSE,var.equal = FALSE)\n",
    "\n",
    "t.test(preferred)"
   ]
  },
  {
   "cell_type": "markdown",
   "metadata": {},
   "source": [
    "## Time Series"
   ]
  },
  {
   "cell_type": "code",
   "execution_count": 93,
   "metadata": {},
   "outputs": [
    {
     "name": "stdout",
     "output_type": "stream",
     "text": [
      "      mydata1  mydata2    mydata3\n",
      "[1,] 6.554327 77.91682 0.27864352\n",
      "[2,] 5.719728 75.31737 0.01656612\n",
      "[3,] 7.775163 76.93840 0.86765504\n",
      "[4,] 6.187320 78.83783 0.47517723\n",
      "[5,] 7.142526 75.75849 0.89428873\n",
      "[6,] 6.415526 78.30384 0.93067461\n",
      "NULL\n"
     ]
    },
    {
     "data": {
      "image/png": "[encoded data removed]",
      "text/plain": [
       "Plot with title \"Time Series\""
      ]
     },
     "metadata": {},
     "output_type": "display_data"
    }
   ],
   "source": [
    "set.seed(13)\n",
    "\n",
    "mydata1 = rnorm(500,6)\n",
    "mydata2 = rnorm(500,77)\n",
    "mydata3 = runif(500)\n",
    "\n",
    "mydata=data.frame(mydata1,mydata2,mydata3)\n",
    "\n",
    "mydataMatrix = as.matrix(mydata)\n",
    "# print(mydataMatrix)\n",
    "\n",
    "myts = ts(mydata,start=c(1980,5),frequency=12)\n",
    "print(head(myts))\n",
    "\n",
    "print(plot(density(myts),col=\"pink\",type=\"h\",main=\"Time Series\"))"
   ]
  },
  {
   "cell_type": "markdown",
   "metadata": {},
   "source": [
    "## Train_Test_Split"
   ]
  },
  {
   "cell_type": "code",
   "execution_count": 94,
   "metadata": {},
   "outputs": [
    {
     "name": "stderr",
     "output_type": "stream",
     "text": [
      "Warning message:\n",
      "\"package 'caTools' was built under R version 3.6.3\""
     ]
    }
   ],
   "source": [
    "set.seed(10)\n",
    "#Package for test-test split\n",
    "library(caTools)\n",
    "#Splitting for test-train 0.8/0.2\n",
    "s=sample.split(mtcars,SplitRatio = 0.8)"
   ]
  },
  {
   "cell_type": "code",
   "execution_count": 95,
   "metadata": {},
   "outputs": [],
   "source": [
    "#Gives output as True False\n",
    "train=subset(mtcars,split=TRUE)\n",
    "test=subset(mtcars,split=FALSE)\n"
   ]
  },
  {
   "cell_type": "code",
   "execution_count": 96,
   "metadata": {},
   "outputs": [
    {
     "name": "stdout",
     "output_type": "stream",
     "text": [
      "          Mazda RX4       Mazda RX4 Wag          Datsun 710      Hornet 4 Drive \n",
      "           22.59951            22.11189            26.25064            21.23740 \n",
      "  Hornet Sportabout             Valiant          Duster 360           Merc 240D \n",
      "           17.69343            20.38304            14.38626            22.49601 \n",
      "           Merc 230            Merc 280           Merc 280C          Merc 450SE \n",
      "           24.41909            18.69903            19.19165            14.17216 \n",
      "         Merc 450SL         Merc 450SLC  Cadillac Fleetwood Lincoln Continental \n",
      "           15.59957            15.74222            12.03401            10.93644 \n",
      "  Chrysler Imperial            Fiat 128         Honda Civic      Toyota Corolla \n",
      "           10.49363            27.77291            29.89674            29.51237 \n",
      "      Toyota Corona    Dodge Challenger         AMC Javelin          Camaro Z28 \n",
      "           23.64310            16.94305            17.73218            13.30602 \n",
      "   Pontiac Firebird           Fiat X1-9       Porsche 914-2        Lotus Europa \n",
      "           16.69168            28.29347            26.15295            27.63627 \n",
      "     Ford Pantera L        Ferrari Dino       Maserati Bora          Volvo 142E \n",
      "           18.87004            19.69383            13.94112            24.36827 \n"
     ]
    }
   ],
   "source": [
    "#linear model\n",
    "model=lm(mtcars$mpg~.,data=train)\n",
    "prt=predict(model,test)\n",
    "print(prt)\n"
   ]
  },
  {
   "cell_type": "code",
   "execution_count": 97,
   "metadata": {},
   "outputs": [
    {
     "name": "stdout",
     "output_type": "stream",
     "text": [
      "mtcars$mpg ~ .\n"
     ]
    },
    {
     "data": {
      "image/png": "[encoded data removed]",
      "text/plain": [
       "plot without title"
      ]
     },
     "metadata": {},
     "output_type": "display_data"
    }
   ],
   "source": [
    "#plotting line chart\n",
    "plot(prt,type='l',col=\"red\")\n",
    "lines(mtcars$mpg,type=\"l\",col=\"blue\")\n",
    "\n",
    "print(mtcars$mpg~.)"
   ]
  },
  {
   "cell_type": "markdown",
   "metadata": {},
   "source": [
    "## <font color = \"grey\" >DAY - 9 </font>"
   ]
  },
  {
   "cell_type": "markdown",
   "metadata": {},
   "source": [
    "## Elbow Method\n"
   ]
  },
  {
   "cell_type": "code",
   "execution_count": 98,
   "metadata": {},
   "outputs": [
    {
     "data": {
      "text/html": [
       "<table>\n",
       "<thead><tr><th scope=col>Sepal.Length</th><th scope=col>Sepal.Width</th><th scope=col>Petal.Length</th><th scope=col>Petal.Width</th><th scope=col>Species</th></tr></thead>\n",
       "<tbody>\n",
       "\t<tr><td>5.1   </td><td>3.5   </td><td>1.4   </td><td>0.2   </td><td>setosa</td></tr>\n",
       "\t<tr><td>4.9   </td><td>3.0   </td><td>1.4   </td><td>0.2   </td><td>setosa</td></tr>\n",
       "\t<tr><td>4.7   </td><td>3.2   </td><td>1.3   </td><td>0.2   </td><td>setosa</td></tr>\n",
       "\t<tr><td>4.6   </td><td>3.1   </td><td>1.5   </td><td>0.2   </td><td>setosa</td></tr>\n",
       "\t<tr><td>5.0   </td><td>3.6   </td><td>1.4   </td><td>0.2   </td><td>setosa</td></tr>\n",
       "\t<tr><td>5.4   </td><td>3.9   </td><td>1.7   </td><td>0.4   </td><td>setosa</td></tr>\n",
       "</tbody>\n",
       "</table>\n"
      ],
      "text/latex": [
       "\\begin{tabular}{r|lllll}\n",
       " Sepal.Length & Sepal.Width & Petal.Length & Petal.Width & Species\\\\\n",
       "\\hline\n",
       "\t 5.1    & 3.5    & 1.4    & 0.2    & setosa\\\\\n",
       "\t 4.9    & 3.0    & 1.4    & 0.2    & setosa\\\\\n",
       "\t 4.7    & 3.2    & 1.3    & 0.2    & setosa\\\\\n",
       "\t 4.6    & 3.1    & 1.5    & 0.2    & setosa\\\\\n",
       "\t 5.0    & 3.6    & 1.4    & 0.2    & setosa\\\\\n",
       "\t 5.4    & 3.9    & 1.7    & 0.4    & setosa\\\\\n",
       "\\end{tabular}\n"
      ],
      "text/markdown": [
       "\n",
       "| Sepal.Length | Sepal.Width | Petal.Length | Petal.Width | Species |\n",
       "|---|---|---|---|---|\n",
       "| 5.1    | 3.5    | 1.4    | 0.2    | setosa |\n",
       "| 4.9    | 3.0    | 1.4    | 0.2    | setosa |\n",
       "| 4.7    | 3.2    | 1.3    | 0.2    | setosa |\n",
       "| 4.6    | 3.1    | 1.5    | 0.2    | setosa |\n",
       "| 5.0    | 3.6    | 1.4    | 0.2    | setosa |\n",
       "| 5.4    | 3.9    | 1.7    | 0.4    | setosa |\n",
       "\n"
      ],
      "text/plain": [
       "  Sepal.Length Sepal.Width Petal.Length Petal.Width Species\n",
       "1 5.1          3.5         1.4          0.2         setosa \n",
       "2 4.9          3.0         1.4          0.2         setosa \n",
       "3 4.7          3.2         1.3          0.2         setosa \n",
       "4 4.6          3.1         1.5          0.2         setosa \n",
       "5 5.0          3.6         1.4          0.2         setosa \n",
       "6 5.4          3.9         1.7          0.4         setosa "
      ]
     },
     "metadata": {},
     "output_type": "display_data"
    },
    {
     "data": {
      "text/html": [
       "'numeric'"
      ],
      "text/latex": [
       "'numeric'"
      ],
      "text/markdown": [
       "'numeric'"
      ],
      "text/plain": [
       "[1] \"numeric\""
      ]
     },
     "metadata": {},
     "output_type": "display_data"
    },
    {
     "data": {
      "image/png": "[encoded data removed]",
      "text/plain": [
       "plot without title"
      ]
     },
     "metadata": {},
     "output_type": "display_data"
    }
   ],
   "source": [
    "df <- iris\n",
    "head(df)\n",
    "#Plotting \n",
    "set.seed(27)     \n",
    "set.seed(200)\n",
    "k.max <- 10\n",
    "#nstart\t      - No. of  random sets should be chosen?\n",
    "#Total within - cluster sum of squares, i.e. sum(withinss).\n",
    "#sapply       - takes list, vector or data frame as input and gives output in vector or matrix.\n",
    "wss<- sapply(1:k.max,function(k){kmeans(iris[,3:4],k,nstart = 20,iter.max = 20)$tot.withinss})\n",
    "class(wss)\n",
    "plot(1:k.max,wss, type= \"b\", xlab = \"Number of clusters(k)\",ylab = \"Within cluster sum of squares\")\n"
   ]
  },
  {
   "cell_type": "markdown",
   "metadata": {},
   "source": [
    "## K - Means Clustering"
   ]
  },
  {
   "cell_type": "markdown",
   "metadata": {},
   "source": [
    "<font size = 4.5><b>Introduction</font><br></b>\n",
    "<font size = 3><ul>\n",
    "<li>K - Means Clustering make inferences from data using only input vectors without labelled outcomes.<br></li><br>\n",
    "<li>K - means clustering makes partition of \"n\" observations into \"k\" clusters in which each observation belongs to the cluster with the nearest centroid<br><br>\n",
    "<li>A cluster refers to a collection of data points aggregated together because of certain similarities</li>\n",
    "    </ul></font>"
   ]
  },
  {
   "cell_type": "markdown",
   "metadata": {},
   "source": [
    "## Applications Of K - Means Clustering"
   ]
  },
  {
   "cell_type": "markdown",
   "metadata": {},
   "source": [
    "<ul><li><font size = 3 >Academic performance - Based on the scores, students are categorized into grades like A, B, or C.</li><br><br>\n",
    "<li>Search engines - Clustering forms a backbone of search engines. When a search is performed, the search results need to be grouped, and the search engines use clustering to do this. </li><br>\n",
    "<li>Customer segmentation - It helps marketers improve their customer base, work on target areas, and segment customers based on purchase history, interests, or activity monitoring. </li></font>"
   ]
  },
  {
   "cell_type": "markdown",
   "metadata": {},
   "source": [
    "<font size = 4><b>Example For clustering <br></font></b>\n",
    "\n",
    "\n",
    "    A bank wants to give credit card offers to its customers. Currently, they look at the details of each customer and based on this information they decide which offer should be given to which customer.\n",
    "        \n",
    "    The bank will have millions of customers. So here clustering plays a vital role in segregating customers into different groups. For instance, the bank can group the customers based on their income:\n",
    "\n",
    "\n",
    "![test](https://cdn.analyticsvidhya.com/wp-content/uploads/2019/08/Screenshot-from-2019-08-07-15-19-27.png)"
   ]
  },
  {
   "cell_type": "markdown",
   "metadata": {},
   "source": [
    "### Steps to perform K - Means Clustering\n",
    "   <ol>\n",
    "    <li>Specify the number of clusters <b>(K)</b> to be created </li><br>\n",
    "    <li>Select randomly <b>(K)</b> objects from the dataset as the initial cluster centroids</li><br>\n",
    "   <li>Assign each observation to their closest centroid, based on the Euclidean distance between the object and the centroid</li><br>\n",
    "<li>For each of the k clusters update the cluster centroid by calculating the new mean values of all the data points in the cluster.</li><br>\n",
    "<li>Iteratively minimize the total within sum of square. That is, iterating steps 3 and 4 until the cluster assignments stop changing</li><br> "
   ]
  },
  {
   "cell_type": "markdown",
   "metadata": {},
   "source": [
    "## Importing Packages"
   ]
  },
  {
   "cell_type": "code",
   "execution_count": 99,
   "metadata": {},
   "outputs": [
    {
     "name": "stderr",
     "output_type": "stream",
     "text": [
      "Warning message:\n",
      "\"package 'factoextra' was built under R version 3.6.3\"Welcome! Want to learn more? See two factoextra-related books at https://goo.gl/ve3WBa\n",
      "Warning message:\n",
      "\"package 'cluster' was built under R version 3.6.3\""
     ]
    }
   ],
   "source": [
    "library(factoextra)\n",
    "library(ggplot2)\n",
    "library(cluster)"
   ]
  },
  {
   "cell_type": "markdown",
   "metadata": {},
   "source": [
    "## Loading the Dataset"
   ]
  },
  {
   "cell_type": "markdown",
   "metadata": {},
   "source": [
    "USArrests - This data set contains statistics, in arrests per 100,000 residents\n",
    "for assault, murder, and rape in each of the 50 US states in 1973.\n",
    "Also given is the percent of the population living in urban areas."
   ]
  },
  {
   "cell_type": "code",
   "execution_count": 100,
   "metadata": {},
   "outputs": [
    {
     "data": {
      "text/html": [
       "<table>\n",
       "<thead><tr><th></th><th scope=col>Murder</th><th scope=col>Assault</th><th scope=col>UrbanPop</th><th scope=col>Rape</th></tr></thead>\n",
       "<tbody>\n",
       "\t<tr><th scope=row>Alabama</th><td>13.2</td><td>236 </td><td>58  </td><td>21.2</td></tr>\n",
       "\t<tr><th scope=row>Alaska</th><td>10.0</td><td>263 </td><td>48  </td><td>44.5</td></tr>\n",
       "\t<tr><th scope=row>Arizona</th><td> 8.1</td><td>294 </td><td>80  </td><td>31.0</td></tr>\n",
       "\t<tr><th scope=row>Arkansas</th><td> 8.8</td><td>190 </td><td>50  </td><td>19.5</td></tr>\n",
       "\t<tr><th scope=row>California</th><td> 9.0</td><td>276 </td><td>91  </td><td>40.6</td></tr>\n",
       "\t<tr><th scope=row>Colorado</th><td> 7.9</td><td>204 </td><td>78  </td><td>38.7</td></tr>\n",
       "\t<tr><th scope=row>Connecticut</th><td> 3.3</td><td>110 </td><td>77  </td><td>11.1</td></tr>\n",
       "\t<tr><th scope=row>Delaware</th><td> 5.9</td><td>238 </td><td>72  </td><td>15.8</td></tr>\n",
       "\t<tr><th scope=row>Florida</th><td>15.4</td><td>335 </td><td>80  </td><td>31.9</td></tr>\n",
       "\t<tr><th scope=row>Georgia</th><td>17.4</td><td>211 </td><td>60  </td><td>25.8</td></tr>\n",
       "\t<tr><th scope=row>Hawaii</th><td> 5.3</td><td> 46 </td><td>83  </td><td>20.2</td></tr>\n",
       "\t<tr><th scope=row>Idaho</th><td> 2.6</td><td>120 </td><td>54  </td><td>14.2</td></tr>\n",
       "\t<tr><th scope=row>Illinois</th><td>10.4</td><td>249 </td><td>83  </td><td>24.0</td></tr>\n",
       "\t<tr><th scope=row>Indiana</th><td> 7.2</td><td>113 </td><td>65  </td><td>21.0</td></tr>\n",
       "\t<tr><th scope=row>Iowa</th><td> 2.2</td><td> 56 </td><td>57  </td><td>11.3</td></tr>\n",
       "\t<tr><th scope=row>Kansas</th><td> 6.0</td><td>115 </td><td>66  </td><td>18.0</td></tr>\n",
       "\t<tr><th scope=row>Kentucky</th><td> 9.7</td><td>109 </td><td>52  </td><td>16.3</td></tr>\n",
       "\t<tr><th scope=row>Louisiana</th><td>15.4</td><td>249 </td><td>66  </td><td>22.2</td></tr>\n",
       "\t<tr><th scope=row>Maine</th><td> 2.1</td><td> 83 </td><td>51  </td><td> 7.8</td></tr>\n",
       "\t<tr><th scope=row>Maryland</th><td>11.3</td><td>300 </td><td>67  </td><td>27.8</td></tr>\n",
       "\t<tr><th scope=row>Massachusetts</th><td> 4.4</td><td>149 </td><td>85  </td><td>16.3</td></tr>\n",
       "\t<tr><th scope=row>Michigan</th><td>12.1</td><td>255 </td><td>74  </td><td>35.1</td></tr>\n",
       "\t<tr><th scope=row>Minnesota</th><td> 2.7</td><td> 72 </td><td>66  </td><td>14.9</td></tr>\n",
       "\t<tr><th scope=row>Mississippi</th><td>16.1</td><td>259 </td><td>44  </td><td>17.1</td></tr>\n",
       "\t<tr><th scope=row>Missouri</th><td> 9.0</td><td>178 </td><td>70  </td><td>28.2</td></tr>\n",
       "\t<tr><th scope=row>Montana</th><td> 6.0</td><td>109 </td><td>53  </td><td>16.4</td></tr>\n",
       "\t<tr><th scope=row>Nebraska</th><td> 4.3</td><td>102 </td><td>62  </td><td>16.5</td></tr>\n",
       "\t<tr><th scope=row>Nevada</th><td>12.2</td><td>252 </td><td>81  </td><td>46.0</td></tr>\n",
       "\t<tr><th scope=row>New Hampshire</th><td> 2.1</td><td> 57 </td><td>56  </td><td> 9.5</td></tr>\n",
       "\t<tr><th scope=row>New Jersey</th><td> 7.4</td><td>159 </td><td>89  </td><td>18.8</td></tr>\n",
       "\t<tr><th scope=row>New Mexico</th><td>11.4</td><td>285 </td><td>70  </td><td>32.1</td></tr>\n",
       "\t<tr><th scope=row>New York</th><td>11.1</td><td>254 </td><td>86  </td><td>26.1</td></tr>\n",
       "\t<tr><th scope=row>North Carolina</th><td>13.0</td><td>337 </td><td>45  </td><td>16.1</td></tr>\n",
       "\t<tr><th scope=row>North Dakota</th><td> 0.8</td><td> 45 </td><td>44  </td><td> 7.3</td></tr>\n",
       "\t<tr><th scope=row>Ohio</th><td> 7.3</td><td>120 </td><td>75  </td><td>21.4</td></tr>\n",
       "\t<tr><th scope=row>Oklahoma</th><td> 6.6</td><td>151 </td><td>68  </td><td>20.0</td></tr>\n",
       "\t<tr><th scope=row>Oregon</th><td> 4.9</td><td>159 </td><td>67  </td><td>29.3</td></tr>\n",
       "\t<tr><th scope=row>Pennsylvania</th><td> 6.3</td><td>106 </td><td>72  </td><td>14.9</td></tr>\n",
       "\t<tr><th scope=row>Rhode Island</th><td> 3.4</td><td>174 </td><td>87  </td><td> 8.3</td></tr>\n",
       "\t<tr><th scope=row>South Carolina</th><td>14.4</td><td>279 </td><td>48  </td><td>22.5</td></tr>\n",
       "\t<tr><th scope=row>South Dakota</th><td> 3.8</td><td> 86 </td><td>45  </td><td>12.8</td></tr>\n",
       "\t<tr><th scope=row>Tennessee</th><td>13.2</td><td>188 </td><td>59  </td><td>26.9</td></tr>\n",
       "\t<tr><th scope=row>Texas</th><td>12.7</td><td>201 </td><td>80  </td><td>25.5</td></tr>\n",
       "\t<tr><th scope=row>Utah</th><td> 3.2</td><td>120 </td><td>80  </td><td>22.9</td></tr>\n",
       "\t<tr><th scope=row>Vermont</th><td> 2.2</td><td> 48 </td><td>32  </td><td>11.2</td></tr>\n",
       "\t<tr><th scope=row>Virginia</th><td> 8.5</td><td>156 </td><td>63  </td><td>20.7</td></tr>\n",
       "\t<tr><th scope=row>Washington</th><td> 4.0</td><td>145 </td><td>73  </td><td>26.2</td></tr>\n",
       "\t<tr><th scope=row>West Virginia</th><td> 5.7</td><td> 81 </td><td>39  </td><td> 9.3</td></tr>\n",
       "\t<tr><th scope=row>Wisconsin</th><td> 2.6</td><td> 53 </td><td>66  </td><td>10.8</td></tr>\n",
       "\t<tr><th scope=row>Wyoming</th><td> 6.8</td><td>161 </td><td>60  </td><td>15.6</td></tr>\n",
       "</tbody>\n",
       "</table>\n"
      ],
      "text/latex": [
       "\\begin{tabular}{r|llll}\n",
       "  & Murder & Assault & UrbanPop & Rape\\\\\n",
       "\\hline\n",
       "\tAlabama & 13.2 & 236  & 58   & 21.2\\\\\n",
       "\tAlaska & 10.0 & 263  & 48   & 44.5\\\\\n",
       "\tArizona &  8.1 & 294  & 80   & 31.0\\\\\n",
       "\tArkansas &  8.8 & 190  & 50   & 19.5\\\\\n",
       "\tCalifornia &  9.0 & 276  & 91   & 40.6\\\\\n",
       "\tColorado &  7.9 & 204  & 78   & 38.7\\\\\n",
       "\tConnecticut &  3.3 & 110  & 77   & 11.1\\\\\n",
       "\tDelaware &  5.9 & 238  & 72   & 15.8\\\\\n",
       "\tFlorida & 15.4 & 335  & 80   & 31.9\\\\\n",
       "\tGeorgia & 17.4 & 211  & 60   & 25.8\\\\\n",
       "\tHawaii &  5.3 &  46  & 83   & 20.2\\\\\n",
       "\tIdaho &  2.6 & 120  & 54   & 14.2\\\\\n",
       "\tIllinois & 10.4 & 249  & 83   & 24.0\\\\\n",
       "\tIndiana &  7.2 & 113  & 65   & 21.0\\\\\n",
       "\tIowa &  2.2 &  56  & 57   & 11.3\\\\\n",
       "\tKansas &  6.0 & 115  & 66   & 18.0\\\\\n",
       "\tKentucky &  9.7 & 109  & 52   & 16.3\\\\\n",
       "\tLouisiana & 15.4 & 249  & 66   & 22.2\\\\\n",
       "\tMaine &  2.1 &  83  & 51   &  7.8\\\\\n",
       "\tMaryland & 11.3 & 300  & 67   & 27.8\\\\\n",
       "\tMassachusetts &  4.4 & 149  & 85   & 16.3\\\\\n",
       "\tMichigan & 12.1 & 255  & 74   & 35.1\\\\\n",
       "\tMinnesota &  2.7 &  72  & 66   & 14.9\\\\\n",
       "\tMississippi & 16.1 & 259  & 44   & 17.1\\\\\n",
       "\tMissouri &  9.0 & 178  & 70   & 28.2\\\\\n",
       "\tMontana &  6.0 & 109  & 53   & 16.4\\\\\n",
       "\tNebraska &  4.3 & 102  & 62   & 16.5\\\\\n",
       "\tNevada & 12.2 & 252  & 81   & 46.0\\\\\n",
       "\tNew Hampshire &  2.1 &  57  & 56   &  9.5\\\\\n",
       "\tNew Jersey &  7.4 & 159  & 89   & 18.8\\\\\n",
       "\tNew Mexico & 11.4 & 285  & 70   & 32.1\\\\\n",
       "\tNew York & 11.1 & 254  & 86   & 26.1\\\\\n",
       "\tNorth Carolina & 13.0 & 337  & 45   & 16.1\\\\\n",
       "\tNorth Dakota &  0.8 &  45  & 44   &  7.3\\\\\n",
       "\tOhio &  7.3 & 120  & 75   & 21.4\\\\\n",
       "\tOklahoma &  6.6 & 151  & 68   & 20.0\\\\\n",
       "\tOregon &  4.9 & 159  & 67   & 29.3\\\\\n",
       "\tPennsylvania &  6.3 & 106  & 72   & 14.9\\\\\n",
       "\tRhode Island &  3.4 & 174  & 87   &  8.3\\\\\n",
       "\tSouth Carolina & 14.4 & 279  & 48   & 22.5\\\\\n",
       "\tSouth Dakota &  3.8 &  86  & 45   & 12.8\\\\\n",
       "\tTennessee & 13.2 & 188  & 59   & 26.9\\\\\n",
       "\tTexas & 12.7 & 201  & 80   & 25.5\\\\\n",
       "\tUtah &  3.2 & 120  & 80   & 22.9\\\\\n",
       "\tVermont &  2.2 &  48  & 32   & 11.2\\\\\n",
       "\tVirginia &  8.5 & 156  & 63   & 20.7\\\\\n",
       "\tWashington &  4.0 & 145  & 73   & 26.2\\\\\n",
       "\tWest Virginia &  5.7 &  81  & 39   &  9.3\\\\\n",
       "\tWisconsin &  2.6 &  53  & 66   & 10.8\\\\\n",
       "\tWyoming &  6.8 & 161  & 60   & 15.6\\\\\n",
       "\\end{tabular}\n"
      ],
      "text/markdown": [
       "\n",
       "| <!--/--> | Murder | Assault | UrbanPop | Rape |\n",
       "|---|---|---|---|---|\n",
       "| Alabama | 13.2 | 236  | 58   | 21.2 |\n",
       "| Alaska | 10.0 | 263  | 48   | 44.5 |\n",
       "| Arizona |  8.1 | 294  | 80   | 31.0 |\n",
       "| Arkansas |  8.8 | 190  | 50   | 19.5 |\n",
       "| California |  9.0 | 276  | 91   | 40.6 |\n",
       "| Colorado |  7.9 | 204  | 78   | 38.7 |\n",
       "| Connecticut |  3.3 | 110  | 77   | 11.1 |\n",
       "| Delaware |  5.9 | 238  | 72   | 15.8 |\n",
       "| Florida | 15.4 | 335  | 80   | 31.9 |\n",
       "| Georgia | 17.4 | 211  | 60   | 25.8 |\n",
       "| Hawaii |  5.3 |  46  | 83   | 20.2 |\n",
       "| Idaho |  2.6 | 120  | 54   | 14.2 |\n",
       "| Illinois | 10.4 | 249  | 83   | 24.0 |\n",
       "| Indiana |  7.2 | 113  | 65   | 21.0 |\n",
       "| Iowa |  2.2 |  56  | 57   | 11.3 |\n",
       "| Kansas |  6.0 | 115  | 66   | 18.0 |\n",
       "| Kentucky |  9.7 | 109  | 52   | 16.3 |\n",
       "| Louisiana | 15.4 | 249  | 66   | 22.2 |\n",
       "| Maine |  2.1 |  83  | 51   |  7.8 |\n",
       "| Maryland | 11.3 | 300  | 67   | 27.8 |\n",
       "| Massachusetts |  4.4 | 149  | 85   | 16.3 |\n",
       "| Michigan | 12.1 | 255  | 74   | 35.1 |\n",
       "| Minnesota |  2.7 |  72  | 66   | 14.9 |\n",
       "| Mississippi | 16.1 | 259  | 44   | 17.1 |\n",
       "| Missouri |  9.0 | 178  | 70   | 28.2 |\n",
       "| Montana |  6.0 | 109  | 53   | 16.4 |\n",
       "| Nebraska |  4.3 | 102  | 62   | 16.5 |\n",
       "| Nevada | 12.2 | 252  | 81   | 46.0 |\n",
       "| New Hampshire |  2.1 |  57  | 56   |  9.5 |\n",
       "| New Jersey |  7.4 | 159  | 89   | 18.8 |\n",
       "| New Mexico | 11.4 | 285  | 70   | 32.1 |\n",
       "| New York | 11.1 | 254  | 86   | 26.1 |\n",
       "| North Carolina | 13.0 | 337  | 45   | 16.1 |\n",
       "| North Dakota |  0.8 |  45  | 44   |  7.3 |\n",
       "| Ohio |  7.3 | 120  | 75   | 21.4 |\n",
       "| Oklahoma |  6.6 | 151  | 68   | 20.0 |\n",
       "| Oregon |  4.9 | 159  | 67   | 29.3 |\n",
       "| Pennsylvania |  6.3 | 106  | 72   | 14.9 |\n",
       "| Rhode Island |  3.4 | 174  | 87   |  8.3 |\n",
       "| South Carolina | 14.4 | 279  | 48   | 22.5 |\n",
       "| South Dakota |  3.8 |  86  | 45   | 12.8 |\n",
       "| Tennessee | 13.2 | 188  | 59   | 26.9 |\n",
       "| Texas | 12.7 | 201  | 80   | 25.5 |\n",
       "| Utah |  3.2 | 120  | 80   | 22.9 |\n",
       "| Vermont |  2.2 |  48  | 32   | 11.2 |\n",
       "| Virginia |  8.5 | 156  | 63   | 20.7 |\n",
       "| Washington |  4.0 | 145  | 73   | 26.2 |\n",
       "| West Virginia |  5.7 |  81  | 39   |  9.3 |\n",
       "| Wisconsin |  2.6 |  53  | 66   | 10.8 |\n",
       "| Wyoming |  6.8 | 161  | 60   | 15.6 |\n",
       "\n"
      ],
      "text/plain": [
       "               Murder Assault UrbanPop Rape\n",
       "Alabama        13.2   236     58       21.2\n",
       "Alaska         10.0   263     48       44.5\n",
       "Arizona         8.1   294     80       31.0\n",
       "Arkansas        8.8   190     50       19.5\n",
       "California      9.0   276     91       40.6\n",
       "Colorado        7.9   204     78       38.7\n",
       "Connecticut     3.3   110     77       11.1\n",
       "Delaware        5.9   238     72       15.8\n",
       "Florida        15.4   335     80       31.9\n",
       "Georgia        17.4   211     60       25.8\n",
       "Hawaii          5.3    46     83       20.2\n",
       "Idaho           2.6   120     54       14.2\n",
       "Illinois       10.4   249     83       24.0\n",
       "Indiana         7.2   113     65       21.0\n",
       "Iowa            2.2    56     57       11.3\n",
       "Kansas          6.0   115     66       18.0\n",
       "Kentucky        9.7   109     52       16.3\n",
       "Louisiana      15.4   249     66       22.2\n",
       "Maine           2.1    83     51        7.8\n",
       "Maryland       11.3   300     67       27.8\n",
       "Massachusetts   4.4   149     85       16.3\n",
       "Michigan       12.1   255     74       35.1\n",
       "Minnesota       2.7    72     66       14.9\n",
       "Mississippi    16.1   259     44       17.1\n",
       "Missouri        9.0   178     70       28.2\n",
       "Montana         6.0   109     53       16.4\n",
       "Nebraska        4.3   102     62       16.5\n",
       "Nevada         12.2   252     81       46.0\n",
       "New Hampshire   2.1    57     56        9.5\n",
       "New Jersey      7.4   159     89       18.8\n",
       "New Mexico     11.4   285     70       32.1\n",
       "New York       11.1   254     86       26.1\n",
       "North Carolina 13.0   337     45       16.1\n",
       "North Dakota    0.8    45     44        7.3\n",
       "Ohio            7.3   120     75       21.4\n",
       "Oklahoma        6.6   151     68       20.0\n",
       "Oregon          4.9   159     67       29.3\n",
       "Pennsylvania    6.3   106     72       14.9\n",
       "Rhode Island    3.4   174     87        8.3\n",
       "South Carolina 14.4   279     48       22.5\n",
       "South Dakota    3.8    86     45       12.8\n",
       "Tennessee      13.2   188     59       26.9\n",
       "Texas          12.7   201     80       25.5\n",
       "Utah            3.2   120     80       22.9\n",
       "Vermont         2.2    48     32       11.2\n",
       "Virginia        8.5   156     63       20.7\n",
       "Washington      4.0   145     73       26.2\n",
       "West Virginia   5.7    81     39        9.3\n",
       "Wisconsin       2.6    53     66       10.8\n",
       "Wyoming         6.8   161     60       15.6"
      ]
     },
     "metadata": {},
     "output_type": "display_data"
    }
   ],
   "source": [
    "#Inbuilt Dataset\n",
    "df = USArrests\n",
    "df"
   ]
  },
  {
   "cell_type": "code",
   "execution_count": 101,
   "metadata": {},
   "outputs": [
    {
     "data": {
      "text/plain": [
       "     Murder          Assault         UrbanPop          Rape      \n",
       " Min.   : 0.800   Min.   : 45.0   Min.   :32.00   Min.   : 7.30  \n",
       " 1st Qu.: 4.075   1st Qu.:109.0   1st Qu.:54.50   1st Qu.:15.07  \n",
       " Median : 7.250   Median :159.0   Median :66.00   Median :20.10  \n",
       " Mean   : 7.788   Mean   :170.8   Mean   :65.54   Mean   :21.23  \n",
       " 3rd Qu.:11.250   3rd Qu.:249.0   3rd Qu.:77.75   3rd Qu.:26.18  \n",
       " Max.   :17.400   Max.   :337.0   Max.   :91.00   Max.   :46.00  "
      ]
     },
     "metadata": {},
     "output_type": "display_data"
    }
   ],
   "source": [
    "summary(df)"
   ]
  },
  {
   "cell_type": "markdown",
   "metadata": {},
   "source": [
    "## Data Preprocessing\n",
    "### Scaling data - To avoid biased results "
   ]
  },
  {
   "cell_type": "code",
   "execution_count": 102,
   "metadata": {},
   "outputs": [
    {
     "data": {
      "text/html": [
       "<table>\n",
       "<thead><tr><th></th><th scope=col>Murder</th><th scope=col>Assault</th><th scope=col>UrbanPop</th><th scope=col>Rape</th></tr></thead>\n",
       "<tbody>\n",
       "\t<tr><th scope=row>Alabama</th><td>1.24256408  </td><td>0.7828393   </td><td>-0.5209066  </td><td>-0.003416473</td></tr>\n",
       "\t<tr><th scope=row>Alaska</th><td>0.50786248  </td><td>1.1068225   </td><td>-1.2117642  </td><td> 2.484202941</td></tr>\n",
       "\t<tr><th scope=row>Arizona</th><td>0.07163341  </td><td>1.4788032   </td><td> 0.9989801  </td><td> 1.042878388</td></tr>\n",
       "\t<tr><th scope=row>Arkansas</th><td>0.23234938  </td><td>0.2308680   </td><td>-1.0735927  </td><td>-0.184916602</td></tr>\n",
       "\t<tr><th scope=row>California</th><td>0.27826823  </td><td>1.2628144   </td><td> 1.7589234  </td><td> 2.067820292</td></tr>\n",
       "\t<tr><th scope=row>Colorado</th><td>0.02571456  </td><td>0.3988593   </td><td> 0.8608085  </td><td> 1.864967207</td></tr>\n",
       "</tbody>\n",
       "</table>\n"
      ],
      "text/latex": [
       "\\begin{tabular}{r|llll}\n",
       "  & Murder & Assault & UrbanPop & Rape\\\\\n",
       "\\hline\n",
       "\tAlabama & 1.24256408   & 0.7828393    & -0.5209066   & -0.003416473\\\\\n",
       "\tAlaska & 0.50786248   & 1.1068225    & -1.2117642   &  2.484202941\\\\\n",
       "\tArizona & 0.07163341   & 1.4788032    &  0.9989801   &  1.042878388\\\\\n",
       "\tArkansas & 0.23234938   & 0.2308680    & -1.0735927   & -0.184916602\\\\\n",
       "\tCalifornia & 0.27826823   & 1.2628144    &  1.7589234   &  2.067820292\\\\\n",
       "\tColorado & 0.02571456   & 0.3988593    &  0.8608085   &  1.864967207\\\\\n",
       "\\end{tabular}\n"
      ],
      "text/markdown": [
       "\n",
       "| <!--/--> | Murder | Assault | UrbanPop | Rape |\n",
       "|---|---|---|---|---|\n",
       "| Alabama | 1.24256408   | 0.7828393    | -0.5209066   | -0.003416473 |\n",
       "| Alaska | 0.50786248   | 1.1068225    | -1.2117642   |  2.484202941 |\n",
       "| Arizona | 0.07163341   | 1.4788032    |  0.9989801   |  1.042878388 |\n",
       "| Arkansas | 0.23234938   | 0.2308680    | -1.0735927   | -0.184916602 |\n",
       "| California | 0.27826823   | 1.2628144    |  1.7589234   |  2.067820292 |\n",
       "| Colorado | 0.02571456   | 0.3988593    |  0.8608085   |  1.864967207 |\n",
       "\n"
      ],
      "text/plain": [
       "           Murder     Assault   UrbanPop   Rape        \n",
       "Alabama    1.24256408 0.7828393 -0.5209066 -0.003416473\n",
       "Alaska     0.50786248 1.1068225 -1.2117642  2.484202941\n",
       "Arizona    0.07163341 1.4788032  0.9989801  1.042878388\n",
       "Arkansas   0.23234938 0.2308680 -1.0735927 -0.184916602\n",
       "California 0.27826823 1.2628144  1.7589234  2.067820292\n",
       "Colorado   0.02571456 0.3988593  0.8608085  1.864967207"
      ]
     },
     "metadata": {},
     "output_type": "display_data"
    }
   ],
   "source": [
    "df <- scale(USArrests) # Scaling the data\n",
    "head(df)"
   ]
  },
  {
   "cell_type": "markdown",
   "metadata": {},
   "source": [
    "### STEP 1 : FINDING NUMBER OF K VALUES"
   ]
  },
  {
   "cell_type": "markdown",
   "metadata": {},
   "source": [
    "To find the appropriate suitable K value:<br>\n",
    "     <ol><li>Compute k-means clustering using different values of clusters k. <br></li><br>\n",
    "    <li>Next, the wss (within sum of square) is drawn according to the number of clusters. <br></li><br>\n",
    "    <li>The location of a bend (knee) in the plot is generally considered as an indicator of the appropriate number of clusters.</li>"
   ]
  },
  {
   "cell_type": "markdown",
   "metadata": {},
   "source": [
    "### After Performing Elbow Method<br><br>\n",
    "![ElbowCurveWithoutIntercept](https://github.com/klmsathish/R_Programming/blob/master/DAY%20-%209/Images/ElbowCurveWithoutIntercept.png?raw=true)\n",
    "<br><br><br>\n",
    "<font size = 3.5>The Elbow method looks at the total within-cluster sum of square (WSS) as a function with respect to the number of clusters.<br><br>The location of a knee in the plot is usually considered as an indicator of the appropriate number of clusters because it means that adding another cluster does not improve much better the partition<br><br>\n",
    "So Here k = 4 is a best fit and it points out position of elbow </font>\n",
    "\n",
    "<br><br>\n",
    "code :\n",
    "fviz_nbclust(df, kmeans, method = \"wss\") +\n",
    "  geom_vline(xintercept = 4, linetype = 3)+\n",
    "  labs(subtitle = \"Elbow method\")\n",
    "\n",
    "\n",
    "![/ElbowCurveWithIntercept](https://github.com/klmsathish/R_Programming/blob/master/DAY%20-%209/Images/ElbowCurveWithIntercept.png?raw=true)"
   ]
  },
  {
   "cell_type": "markdown",
   "metadata": {},
   "source": [
    "## Compute k-means with k = 4"
   ]
  },
  {
   "cell_type": "code",
   "execution_count": 103,
   "metadata": {},
   "outputs": [],
   "source": [
    "set.seed(27)                          \n",
    "kmcluster <- kmeans(df, 4, nstart = 25)"
   ]
  },
  {
   "cell_type": "markdown",
   "metadata": {},
   "source": [
    "set.seed() function in order to set a key for random number generator.As k-means clustering algorithm starts with k randomly selected centroids<br>\n",
    "Syntax <- kmeans(\"dataframe_name\",Number of clusters,nstart = no. of different random starting choices)"
   ]
  },
  {
   "cell_type": "code",
   "execution_count": 104,
   "metadata": {},
   "outputs": [
    {
     "data": {
      "text/plain": [
       "K-means clustering with 4 clusters of sizes 16, 13, 8, 13\n",
       "\n",
       "Cluster means:\n",
       "      Murder    Assault   UrbanPop        Rape\n",
       "1 -0.4894375 -0.3826001  0.5758298 -0.26165379\n",
       "2  0.6950701  1.0394414  0.7226370  1.27693964\n",
       "3  1.4118898  0.8743346 -0.8145211  0.01927104\n",
       "4 -0.9615407 -1.1066010 -0.9301069 -0.96676331\n",
       "\n",
       "Clustering vector:\n",
       "       Alabama         Alaska        Arizona       Arkansas     California \n",
       "             3              2              2              3              2 \n",
       "      Colorado    Connecticut       Delaware        Florida        Georgia \n",
       "             2              1              1              2              3 \n",
       "        Hawaii          Idaho       Illinois        Indiana           Iowa \n",
       "             1              4              2              1              4 \n",
       "        Kansas       Kentucky      Louisiana          Maine       Maryland \n",
       "             1              4              3              4              2 \n",
       " Massachusetts       Michigan      Minnesota    Mississippi       Missouri \n",
       "             1              2              4              3              2 \n",
       "       Montana       Nebraska         Nevada  New Hampshire     New Jersey \n",
       "             4              4              2              4              1 \n",
       "    New Mexico       New York North Carolina   North Dakota           Ohio \n",
       "             2              2              3              4              1 \n",
       "      Oklahoma         Oregon   Pennsylvania   Rhode Island South Carolina \n",
       "             1              1              1              1              3 \n",
       "  South Dakota      Tennessee          Texas           Utah        Vermont \n",
       "             4              3              2              1              4 \n",
       "      Virginia     Washington  West Virginia      Wisconsin        Wyoming \n",
       "             1              1              4              4              1 \n",
       "\n",
       "Within cluster sum of squares by cluster:\n",
       "[1] 16.212213 19.922437  8.316061 11.952463\n",
       " (between_SS / total_SS =  71.2 %)\n",
       "\n",
       "Available components:\n",
       "\n",
       "[1] \"cluster\"      \"centers\"      \"totss\"        \"withinss\"     \"tot.withinss\"\n",
       "[6] \"betweenss\"    \"size\"         \"iter\"         \"ifault\"      "
      ]
     },
     "metadata": {},
     "output_type": "display_data"
    }
   ],
   "source": [
    "kmcluster"
   ]
  },
  {
   "cell_type": "code",
   "execution_count": 105,
   "metadata": {},
   "outputs": [
    {
     "data": {
      "text/plain": [
       "\n",
       "56.4031734582928 \n",
       "               1 "
      ]
     },
     "metadata": {},
     "output_type": "display_data"
    }
   ],
   "source": [
    "table(kmcluster$tot.withinss)"
   ]
  },
  {
   "cell_type": "code",
   "execution_count": 106,
   "metadata": {},
   "outputs": [
    {
     "data": {
      "text/plain": [
       "\n",
       " 1  2  3  4 \n",
       "16 13  8 13 "
      ]
     },
     "metadata": {},
     "output_type": "display_data"
    }
   ],
   "source": [
    "table(kmcluster$cluster)"
   ]
  },
  {
   "cell_type": "markdown",
   "metadata": {},
   "source": [
    "### Plotting & Visulaization\n",
    "\n",
    "Code :fviz_cluster(kmcluster, data = df)\n"
   ]
  },
  {
   "cell_type": "markdown",
   "metadata": {},
   "source": [
    "<br>![](https://github.com/klmsathish/R_Programming/blob/master/DAY%20-%209/Images/ClusterPlot_1.png?raw=true)"
   ]
  },
  {
   "cell_type": "markdown",
   "metadata": {},
   "source": [
    "## Iris Dataset"
   ]
  },
  {
   "cell_type": "code",
   "execution_count": 107,
   "metadata": {},
   "outputs": [
    {
     "data": {
      "text/html": [
       "<table>\n",
       "<thead><tr><th scope=col>Sepal.Length</th><th scope=col>Sepal.Width</th><th scope=col>Petal.Length</th><th scope=col>Petal.Width</th><th scope=col>Species</th></tr></thead>\n",
       "<tbody>\n",
       "\t<tr><td>5.1   </td><td>3.5   </td><td>1.4   </td><td>0.2   </td><td>setosa</td></tr>\n",
       "\t<tr><td>4.9   </td><td>3.0   </td><td>1.4   </td><td>0.2   </td><td>setosa</td></tr>\n",
       "\t<tr><td>4.7   </td><td>3.2   </td><td>1.3   </td><td>0.2   </td><td>setosa</td></tr>\n",
       "\t<tr><td>4.6   </td><td>3.1   </td><td>1.5   </td><td>0.2   </td><td>setosa</td></tr>\n",
       "\t<tr><td>5.0   </td><td>3.6   </td><td>1.4   </td><td>0.2   </td><td>setosa</td></tr>\n",
       "\t<tr><td>5.4   </td><td>3.9   </td><td>1.7   </td><td>0.4   </td><td>setosa</td></tr>\n",
       "</tbody>\n",
       "</table>\n"
      ],
      "text/latex": [
       "\\begin{tabular}{r|lllll}\n",
       " Sepal.Length & Sepal.Width & Petal.Length & Petal.Width & Species\\\\\n",
       "\\hline\n",
       "\t 5.1    & 3.5    & 1.4    & 0.2    & setosa\\\\\n",
       "\t 4.9    & 3.0    & 1.4    & 0.2    & setosa\\\\\n",
       "\t 4.7    & 3.2    & 1.3    & 0.2    & setosa\\\\\n",
       "\t 4.6    & 3.1    & 1.5    & 0.2    & setosa\\\\\n",
       "\t 5.0    & 3.6    & 1.4    & 0.2    & setosa\\\\\n",
       "\t 5.4    & 3.9    & 1.7    & 0.4    & setosa\\\\\n",
       "\\end{tabular}\n"
      ],
      "text/markdown": [
       "\n",
       "| Sepal.Length | Sepal.Width | Petal.Length | Petal.Width | Species |\n",
       "|---|---|---|---|---|\n",
       "| 5.1    | 3.5    | 1.4    | 0.2    | setosa |\n",
       "| 4.9    | 3.0    | 1.4    | 0.2    | setosa |\n",
       "| 4.7    | 3.2    | 1.3    | 0.2    | setosa |\n",
       "| 4.6    | 3.1    | 1.5    | 0.2    | setosa |\n",
       "| 5.0    | 3.6    | 1.4    | 0.2    | setosa |\n",
       "| 5.4    | 3.9    | 1.7    | 0.4    | setosa |\n",
       "\n"
      ],
      "text/plain": [
       "  Sepal.Length Sepal.Width Petal.Length Petal.Width Species\n",
       "1 5.1          3.5         1.4          0.2         setosa \n",
       "2 4.9          3.0         1.4          0.2         setosa \n",
       "3 4.7          3.2         1.3          0.2         setosa \n",
       "4 4.6          3.1         1.5          0.2         setosa \n",
       "5 5.0          3.6         1.4          0.2         setosa \n",
       "6 5.4          3.9         1.7          0.4         setosa "
      ]
     },
     "metadata": {},
     "output_type": "display_data"
    }
   ],
   "source": [
    "head(iris)"
   ]
  },
  {
   "cell_type": "code",
   "execution_count": 108,
   "metadata": {},
   "outputs": [
    {
     "data": {
      "image/png": "[encoded data removed]",
      "text/plain": [
       "plot without title"
      ]
     },
     "metadata": {},
     "output_type": "display_data"
    }
   ],
   "source": [
    "ggplot(iris, aes(Petal.Length, Petal.Width)) + geom_point()"
   ]
  },
  {
   "cell_type": "markdown",
   "metadata": {},
   "source": [
    "### To Find optimal number of clusters<br>\n",
    "<font size = 3>Elbow Method</font>\n",
    "\n"
   ]
  },
  {
   "cell_type": "code",
   "execution_count": 109,
   "metadata": {},
   "outputs": [
    {
     "data": {
      "image/png": "[encoded data removed]",
      "text/plain": [
       "plot without title"
      ]
     },
     "metadata": {},
     "output_type": "display_data"
    }
   ],
   "source": [
    "set.seed(27)\n",
    "k.max <- 10\n",
    "\n",
    "#nstart\t      - No. of  random sets should be chosen?\n",
    "#Total within - cluster sum of squares, i.e. sum(withinss).\n",
    "#sapply       - takes list, vector or data frame as input and gives output in vector or matrix.\n",
    "#iter. max is the number of times the algorithm will repeat the cluster assignment and moving of centroids. \n",
    "#nstart is the number of times the initial starting points are re-sampled.\n",
    "\n",
    "wss<- sapply(1:k.max,function(k){kmeans(iris[,3:4],k,nstart = 20,iter.max = 20)$tot.withinss})\n",
    "plot(1:k.max,wss, type= \"b\", xlab = \"Number of clusters(k)\",ylab = \"Within cluster sum of squares\")"
   ]
  },
  {
   "cell_type": "code",
   "execution_count": 110,
   "metadata": {},
   "outputs": [
    {
     "data": {
      "text/plain": [
       "K-means clustering with 3 clusters of sizes 50, 62, 38\n",
       "\n",
       "Cluster means:\n",
       "  Sepal.Length Sepal.Width Petal.Length Petal.Width\n",
       "1     5.006000    3.428000     1.462000    0.246000\n",
       "2     5.901613    2.748387     4.393548    1.433871\n",
       "3     6.850000    3.073684     5.742105    2.071053\n",
       "\n",
       "Clustering vector:\n",
       "  [1] 1 1 1 1 1 1 1 1 1 1 1 1 1 1 1 1 1 1 1 1 1 1 1 1 1 1 1 1 1 1 1 1 1 1 1 1 1\n",
       " [38] 1 1 1 1 1 1 1 1 1 1 1 1 1 2 2 3 2 2 2 2 2 2 2 2 2 2 2 2 2 2 2 2 2 2 2 2 2\n",
       " [75] 2 2 2 3 2 2 2 2 2 2 2 2 2 2 2 2 2 2 2 2 2 2 2 2 2 2 3 2 3 3 3 3 2 3 3 3 3\n",
       "[112] 3 3 2 2 3 3 3 3 2 3 2 3 2 3 3 2 2 3 3 3 3 3 2 3 3 3 3 2 3 3 3 2 3 3 3 2 3\n",
       "[149] 3 2\n",
       "\n",
       "Within cluster sum of squares by cluster:\n",
       "[1] 15.15100 39.82097 23.87947\n",
       " (between_SS / total_SS =  88.4 %)\n",
       "\n",
       "Available components:\n",
       "\n",
       "[1] \"cluster\"      \"centers\"      \"totss\"        \"withinss\"     \"tot.withinss\"\n",
       "[6] \"betweenss\"    \"size\"         \"iter\"         \"ifault\"      "
      ]
     },
     "metadata": {},
     "output_type": "display_data"
    }
   ],
   "source": [
    "set.seed(20)\n",
    "irisCluster <- kmeans(iris[, 1:4], 3, nstart = 20)\n",
    "irisCluster"
   ]
  },
  {
   "cell_type": "code",
   "execution_count": 111,
   "metadata": {},
   "outputs": [
    {
     "data": {
      "text/html": [
       "78.851441426146"
      ],
      "text/latex": [
       "78.851441426146"
      ],
      "text/markdown": [
       "78.851441426146"
      ],
      "text/plain": [
       "[1] 78.85144"
      ]
     },
     "metadata": {},
     "output_type": "display_data"
    }
   ],
   "source": [
    "irisCluster$tot.withinss"
   ]
  },
  {
   "cell_type": "code",
   "execution_count": 112,
   "metadata": {},
   "outputs": [
    {
     "data": {
      "text/plain": [
       "   \n",
       "    setosa versicolor virginica\n",
       "  1     50          0         0\n",
       "  2      0         48        14\n",
       "  3      0          2        36"
      ]
     },
     "metadata": {},
     "output_type": "display_data"
    }
   ],
   "source": [
    "table(irisCluster$cluster, iris$Species)"
   ]
  },
  {
   "cell_type": "code",
   "execution_count": 113,
   "metadata": {},
   "outputs": [],
   "source": [
    "irisCluster$cluster <- as.factor(irisCluster$cluster)"
   ]
  },
  {
   "cell_type": "code",
   "execution_count": 114,
   "metadata": {},
   "outputs": [
    {
     "data": {
      "image/png": "[encoded data removed]",
      "text/plain": [
       "plot without title"
      ]
     },
     "metadata": {},
     "output_type": "display_data"
    }
   ],
   "source": [
    "ggplot(iris, aes(Petal.Length, Petal.Width, color = irisCluster$cluster)) + geom_point()"
   ]
  },
  {
   "cell_type": "code",
   "execution_count": 115,
   "metadata": {},
   "outputs": [
    {
     "data": {
      "image/png": "[encoded data removed]",
      "text/plain": [
       "Plot with title \"CLUSPLOT( iris )\""
      ]
     },
     "metadata": {},
     "output_type": "display_data"
    }
   ],
   "source": [
    "clusplot(iris, irisCluster$cluster, color=T, shade=T,lines=0)"
   ]
  },
  {
   "cell_type": "markdown",
   "metadata": {},
   "source": [
    "## Some Takeaways\n",
    "<font size = 3><ul>\n",
    "    <li>Scale/standardize the data when applying kmeans algorithm.</li>\n",
    "       <br>\n",
    "    <li>Elbow method for selecting number of clusters</li>\n",
    "    <br>\n",
    "    <li>Kmeans gives more weight to the bigger clusters.</li>\n",
    "    <br>\n",
    "    <li>Kmeans may still cluster the data even if it can’t be clustered</li>\n",
    "    <br>\n",
    "    <li> Different initial partitions can result in different final clusters.</li>\n",
    "    <br>\n",
    "    <li>It can not handle noisy data and outliers.</li>\n",
    "    <br>\n",
    "    <li>It is not suitable to identify clusters with non-convex shapes(irregular shapes - elliptical).</li></font>"
   ]
  },
  {
   "cell_type": "markdown",
   "metadata": {},
   "source": [
    "# <font size = 15><center>Thank you !!</center></font>"
   ]
  }
 ],
 "metadata": {
  "kernelspec": {
   "display_name": "R",
   "language": "R",
   "name": "ir"
  },
  "language_info": {
   "codemirror_mode": "r",
   "file_extension": ".r",
   "mimetype": "text/x-r-source",
   "name": "R",
   "pygments_lexer": "r",
   "version": "3.6.1"
  }
 },
 "nbformat": 4,
 "nbformat_minor": 4
}
